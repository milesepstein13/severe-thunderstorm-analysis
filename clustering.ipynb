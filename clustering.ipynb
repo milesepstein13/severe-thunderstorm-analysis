{
 "cells": [
  {
   "cell_type": "code",
   "execution_count": 1,
   "metadata": {},
   "outputs": [],
   "source": [
    "from utils_filter import *\n",
    "from utils_datetime import *\n",
    "from utils_geography import *\n",
    "from utils_plotting import *\n",
    "import numpy as np\n",
    "import matplotlib.pyplot as plt\n",
    "from matplotlib import colors\n",
    "import metpy\n",
    "import numbers\n",
    "from sklearn.decomposition import PCA\n",
    "import sklearn.cluster"
   ]
  },
  {
   "cell_type": "code",
   "execution_count": 2,
   "metadata": {},
   "outputs": [
    {
     "name": "stdout",
     "output_type": "stream",
     "text": [
      "reading outlooks\n",
      "reading pph\n",
      "reading storm reports\n"
     ]
    }
   ],
   "source": [
    "data_location = 'data'\n",
    "outlooks, pph, reports = read_datasets(data_location, 'labelled')"
   ]
  },
  {
   "cell_type": "markdown",
   "metadata": {},
   "source": [
    "# Preprocessing"
   ]
  },
  {
   "cell_type": "code",
   "execution_count": 9,
   "metadata": {},
   "outputs": [],
   "source": [
    "category_dict = {\n",
    "    'NONE' : -1,\n",
    "    'TSTM': 0,\n",
    "    'MRGL': 1,\n",
    "    'SLGT': 2,\n",
    "    'ENH': 3,\n",
    "    'MDT': 4,\n",
    "    'HIGH': 5\n",
    "}\n",
    "\n",
    "\n",
    "season_dict = {\n",
    "    'Winter': 0,\n",
    "    'Spring': 1,\n",
    "    'Summer': 2,\n",
    "    'Fall': 3\n",
    "}\n",
    "\n",
    "region_dict = {\n",
    "    'NONE': -1,\n",
    "    'West': 0,\n",
    "    'Great Plains': 1,\n",
    "    'Midwest': 2,\n",
    "    'Northeast': 3,\n",
    "    'South': 4\n",
    "}\n",
    "\n",
    "tor_dict = {\n",
    "    'NONE': -1,\n",
    "    'EFU': 0,\n",
    "    '(E)F0': 1,\n",
    "    '(E)F1': 2,\n",
    "    '(E)F2': 3,\n",
    "    '(E)F3': 4,\n",
    "    '(E)F4': 5,\n",
    "    '(E)F5': 6\n",
    "}\n",
    "\n",
    "cats = ['MAX_CAT', 'SEASON', 'REGION_M', 'TOR_F']\n",
    "dicts = [category_dict, season_dict, region_dict, tor_dict]"
   ]
  },
  {
   "cell_type": "code",
   "execution_count": 33,
   "metadata": {},
   "outputs": [],
   "source": [
    "# remove unneeded variables and x, y dimensions\n",
    "data = pph.drop(['lat', 'lon', 'p_perfect_wind', 'p_perfect_sig_wind', 'p_perfect_hail', 'p_perfect_sig_hail', 'p_perfect_tor', 'p_perfect_sig_tor', 'RAMP_CAT', 'p_perfect_total', 'p_perfect_max', 'PPH_CAT', 'PPH_NUM', 'PPH_D_CAT', 'WINDSP_CAT', 'HAILSZ_CAT', 'REGION'])\n",
    "\n",
    "\n",
    "# make data numerical\n",
    "def convert_strings_to_ints(data, conversion_dict):\n",
    "    return np.vectorize(conversion_dict.get)(data)\n",
    "\n",
    "for cat, dic in zip(cats, dicts):\n",
    "\n",
    "    data[cat] = xr.apply_ufunc(\n",
    "        convert_strings_to_ints,  # function to apply\n",
    "        data[cat],      # input data\n",
    "        kwargs={'conversion_dict': dic},  # additional arguments\n",
    "        vectorize=True            # vectorize the function\n",
    "    )"
   ]
  },
  {
   "cell_type": "code",
   "execution_count": 11,
   "metadata": {},
   "outputs": [],
   "source": [
    "# consolidate dates \n",
    "earliest_date = max(min(outlooks['DATE']), min(pph['time']), min(reports['DATE'])) #TODO first two days of outlook dataset don't have day 3 forecast. but probably ok since not mdt\n",
    "latest_date = min(max(outlooks['DATE']), max(pph['time']), max(reports['DATE']))"
   ]
  },
  {
   "cell_type": "code",
   "execution_count": 34,
   "metadata": {},
   "outputs": [],
   "source": [
    "earliest_date = '200203300000'\n",
    "all_pph_dates = data['time']\n",
    "pph_dates = all_pph_dates[all_pph_dates <= latest_date]\n",
    "pph_dates = pph_dates[pph_dates >= earliest_date]\n",
    "new_data = data.sel(time = pph_dates)"
   ]
  },
  {
   "cell_type": "code",
   "execution_count": 36,
   "metadata": {},
   "outputs": [],
   "source": [
    "def standardize_dataset(dataset):\n",
    "    standardized_data = {}\n",
    "    for var in dataset.data_vars:\n",
    "        data_array = dataset[var]\n",
    "        mean = data_array.mean()\n",
    "        std = data_array.std()\n",
    "        standardized_data[var] = (data_array - mean) / std\n",
    "    return xr.Dataset(standardized_data)\n",
    "\n",
    "new_data = standardize_dataset(new_data)"
   ]
  },
  {
   "cell_type": "markdown",
   "metadata": {},
   "source": [
    "# PCA"
   ]
  },
  {
   "cell_type": "code",
   "execution_count": 37,
   "metadata": {},
   "outputs": [
    {
     "data": {
      "text/html": [
       "<style>#sk-container-id-3 {color: black;background-color: white;}#sk-container-id-3 pre{padding: 0;}#sk-container-id-3 div.sk-toggleable {background-color: white;}#sk-container-id-3 label.sk-toggleable__label {cursor: pointer;display: block;width: 100%;margin-bottom: 0;padding: 0.3em;box-sizing: border-box;text-align: center;}#sk-container-id-3 label.sk-toggleable__label-arrow:before {content: \"▸\";float: left;margin-right: 0.25em;color: #696969;}#sk-container-id-3 label.sk-toggleable__label-arrow:hover:before {color: black;}#sk-container-id-3 div.sk-estimator:hover label.sk-toggleable__label-arrow:before {color: black;}#sk-container-id-3 div.sk-toggleable__content {max-height: 0;max-width: 0;overflow: hidden;text-align: left;background-color: #f0f8ff;}#sk-container-id-3 div.sk-toggleable__content pre {margin: 0.2em;color: black;border-radius: 0.25em;background-color: #f0f8ff;}#sk-container-id-3 input.sk-toggleable__control:checked~div.sk-toggleable__content {max-height: 200px;max-width: 100%;overflow: auto;}#sk-container-id-3 input.sk-toggleable__control:checked~label.sk-toggleable__label-arrow:before {content: \"▾\";}#sk-container-id-3 div.sk-estimator input.sk-toggleable__control:checked~label.sk-toggleable__label {background-color: #d4ebff;}#sk-container-id-3 div.sk-label input.sk-toggleable__control:checked~label.sk-toggleable__label {background-color: #d4ebff;}#sk-container-id-3 input.sk-hidden--visually {border: 0;clip: rect(1px 1px 1px 1px);clip: rect(1px, 1px, 1px, 1px);height: 1px;margin: -1px;overflow: hidden;padding: 0;position: absolute;width: 1px;}#sk-container-id-3 div.sk-estimator {font-family: monospace;background-color: #f0f8ff;border: 1px dotted black;border-radius: 0.25em;box-sizing: border-box;margin-bottom: 0.5em;}#sk-container-id-3 div.sk-estimator:hover {background-color: #d4ebff;}#sk-container-id-3 div.sk-parallel-item::after {content: \"\";width: 100%;border-bottom: 1px solid gray;flex-grow: 1;}#sk-container-id-3 div.sk-label:hover label.sk-toggleable__label {background-color: #d4ebff;}#sk-container-id-3 div.sk-serial::before {content: \"\";position: absolute;border-left: 1px solid gray;box-sizing: border-box;top: 0;bottom: 0;left: 50%;z-index: 0;}#sk-container-id-3 div.sk-serial {display: flex;flex-direction: column;align-items: center;background-color: white;padding-right: 0.2em;padding-left: 0.2em;position: relative;}#sk-container-id-3 div.sk-item {position: relative;z-index: 1;}#sk-container-id-3 div.sk-parallel {display: flex;align-items: stretch;justify-content: center;background-color: white;position: relative;}#sk-container-id-3 div.sk-item::before, #sk-container-id-3 div.sk-parallel-item::before {content: \"\";position: absolute;border-left: 1px solid gray;box-sizing: border-box;top: 0;bottom: 0;left: 50%;z-index: -1;}#sk-container-id-3 div.sk-parallel-item {display: flex;flex-direction: column;z-index: 1;position: relative;background-color: white;}#sk-container-id-3 div.sk-parallel-item:first-child::after {align-self: flex-end;width: 50%;}#sk-container-id-3 div.sk-parallel-item:last-child::after {align-self: flex-start;width: 50%;}#sk-container-id-3 div.sk-parallel-item:only-child::after {width: 0;}#sk-container-id-3 div.sk-dashed-wrapped {border: 1px dashed gray;margin: 0 0.4em 0.5em 0.4em;box-sizing: border-box;padding-bottom: 0.4em;background-color: white;}#sk-container-id-3 div.sk-label label {font-family: monospace;font-weight: bold;display: inline-block;line-height: 1.2em;}#sk-container-id-3 div.sk-label-container {text-align: center;}#sk-container-id-3 div.sk-container {/* jupyter's `normalize.less` sets `[hidden] { display: none; }` but bootstrap.min.css set `[hidden] { display: none !important; }` so we also need the `!important` here to be able to override the default hidden behavior on the sphinx rendered scikit-learn.org. See: https://github.com/scikit-learn/scikit-learn/issues/21755 */display: inline-block !important;position: relative;}#sk-container-id-3 div.sk-text-repr-fallback {display: none;}</style><div id=\"sk-container-id-3\" class=\"sk-top-container\"><div class=\"sk-text-repr-fallback\"><pre>PCA()</pre><b>In a Jupyter environment, please rerun this cell to show the HTML representation or trust the notebook. <br />On GitHub, the HTML representation is unable to render, please try loading this page with nbviewer.org.</b></div><div class=\"sk-container\" hidden><div class=\"sk-item\"><div class=\"sk-estimator sk-toggleable\"><input class=\"sk-toggleable__control sk-hidden--visually\" id=\"sk-estimator-id-3\" type=\"checkbox\" checked><label for=\"sk-estimator-id-3\" class=\"sk-toggleable__label sk-toggleable__label-arrow\">PCA</label><div class=\"sk-toggleable__content\"><pre>PCA()</pre></div></div></div></div></div>"
      ],
      "text/plain": [
       "PCA()"
      ]
     },
     "execution_count": 37,
     "metadata": {},
     "output_type": "execute_result"
    }
   ],
   "source": [
    "# do pca\n",
    "data_matrix = new_data.to_array(dim = 'time').data.T\n",
    "pca = PCA()\n",
    "\n",
    "pca.fit(data_matrix)"
   ]
  },
  {
   "cell_type": "code",
   "execution_count": 38,
   "metadata": {},
   "outputs": [
    {
     "name": "stdout",
     "output_type": "stream",
     "text": [
      "PC 0\n",
      "MAX_CAT: 0.2655724965181635\n",
      "RAMP_UP: 0.12239415628483563\n",
      "RAMP_DOWN: -0.005247741628543211\n",
      "SEASON: 0.05484497532505634\n",
      "REPORT_NUM: 0.31171699157400123\n",
      "TOR_NUM: 0.1875760681770589\n",
      "WIND_NUM: 0.28640373789018103\n",
      "HAIL_NUM: 0.25188974324393515\n",
      "TOR_F: 0.2377216637725521\n",
      "WINDSP_NUM: 0.2645549136188473\n",
      "HAILSZ_NUM: 0.2700336731166719\n",
      "NEIGH_NUM: 0.2867345122446896\n",
      "RMSE_NUM: 0.31446631436327066\n",
      "BS_NUM: 0.31802878345645164\n",
      "REGION_M: 0.2003679754299679\n",
      "LAT_NUM: 0.04652650515160392\n",
      "LON_NUM: 0.08740415344716025\n",
      "PPH_D_NUM: 0.319388395720719\n",
      "PC 1\n",
      "MAX_CAT: -0.2516827236049598\n",
      "RAMP_UP: -0.28815434885119146\n",
      "RAMP_DOWN: 0.1731593543359592\n",
      "SEASON: -0.05031079282377108\n",
      "REPORT_NUM: 0.22676647963466218\n",
      "TOR_NUM: 0.012823388946731462\n",
      "WIND_NUM: 0.23037454382716885\n",
      "HAIL_NUM: 0.1746596396372258\n",
      "TOR_F: -0.1513801168340785\n",
      "WINDSP_NUM: -0.2549109070495599\n",
      "HAILSZ_NUM: -0.0365423340490231\n",
      "NEIGH_NUM: 0.2485534168066721\n",
      "RMSE_NUM: 0.1114231448457322\n",
      "BS_NUM: 0.1561575489992077\n",
      "REGION_M: -0.5109433400785625\n",
      "LAT_NUM: 0.3817683168217314\n",
      "LON_NUM: -0.30086065886491153\n",
      "PPH_D_NUM: -0.02836217371969836\n",
      "PC 2\n",
      "MAX_CAT: -0.26631487990473746\n",
      "RAMP_UP: -0.3507516062914083\n",
      "RAMP_DOWN: 0.13915758832291777\n",
      "SEASON: -0.14518662452360992\n",
      "REPORT_NUM: 0.09663371261257547\n",
      "TOR_NUM: -0.18206142998150704\n",
      "WIND_NUM: 0.229350934065787\n",
      "HAIL_NUM: -0.1357201953017177\n",
      "TOR_F: -0.20279575602919472\n",
      "WINDSP_NUM: -0.11374837919615291\n",
      "HAILSZ_NUM: -0.2241812778348476\n",
      "NEIGH_NUM: 0.2162685518459617\n",
      "RMSE_NUM: 0.12372984789513539\n",
      "BS_NUM: 0.10777891793406075\n",
      "REGION_M: 0.2560774223055814\n",
      "LAT_NUM: -0.23736408318182176\n",
      "LON_NUM: 0.5930931455179703\n",
      "PPH_D_NUM: 0.020077247662400044\n",
      "PC 3\n",
      "MAX_CAT: 0.008823145944532037\n",
      "RAMP_UP: 0.09534744431275785\n",
      "RAMP_DOWN: 0.020936744344502344\n",
      "SEASON: -0.6636212254003946\n",
      "REPORT_NUM: 0.11304256161984977\n",
      "TOR_NUM: 0.44230834594095836\n",
      "WIND_NUM: 0.0064344686971177945\n",
      "HAIL_NUM: 0.17934384754425536\n",
      "TOR_F: 0.18804344554890418\n",
      "WINDSP_NUM: -0.20599496089811875\n",
      "HAILSZ_NUM: -0.057258773890906646\n",
      "NEIGH_NUM: 0.049690486011860664\n",
      "RMSE_NUM: -0.1293630442772472\n",
      "BS_NUM: -0.0689659493758404\n",
      "REGION_M: -0.12578049798644614\n",
      "LAT_NUM: -0.4274853601510525\n",
      "LON_NUM: -0.041171700666300645\n",
      "PPH_D_NUM: -0.0639216642395912\n",
      "PC 4\n",
      "MAX_CAT: 0.055357643698267615\n",
      "RAMP_UP: 0.24354971717461107\n",
      "RAMP_DOWN: -0.8617935847720288\n",
      "SEASON: -0.11955195830830656\n",
      "REPORT_NUM: 0.07193360016867592\n",
      "TOR_NUM: -0.1251343994403996\n",
      "WIND_NUM: 0.1304722048981961\n",
      "HAIL_NUM: -0.022879422035402067\n",
      "TOR_F: -0.2044620018692191\n",
      "WINDSP_NUM: -0.1655761277607969\n",
      "HAILSZ_NUM: -0.1198714843222543\n",
      "NEIGH_NUM: 0.12730058546360123\n",
      "RMSE_NUM: 0.057110413088518\n",
      "BS_NUM: 0.047168991383747264\n",
      "REGION_M: -0.11214229163962283\n",
      "LAT_NUM: 0.10333441346986783\n",
      "LON_NUM: 0.11295028607257204\n",
      "PPH_D_NUM: -0.0310763134301682\n",
      "PC 5\n",
      "MAX_CAT: 0.0833771592939574\n",
      "RAMP_UP: 0.5958339599440887\n",
      "RAMP_DOWN: 0.3296928190874969\n",
      "SEASON: 0.13317052504307372\n",
      "REPORT_NUM: 0.057517891595784215\n",
      "TOR_NUM: 0.24410541847942424\n",
      "WIND_NUM: 0.11808349779972935\n",
      "HAIL_NUM: -0.14573792900868376\n",
      "TOR_F: 0.006590052603827556\n",
      "WINDSP_NUM: -0.22890612083514636\n",
      "HAILSZ_NUM: -0.2791230389384668\n",
      "NEIGH_NUM: 0.04004185863353722\n",
      "RMSE_NUM: -0.0709047295622049\n",
      "BS_NUM: -0.06816809055798542\n",
      "REGION_M: -0.08875945440451907\n",
      "LAT_NUM: 0.3420949396682863\n",
      "LON_NUM: 0.37496762751608936\n",
      "PPH_D_NUM: -0.07989140452906987\n"
     ]
    },
    {
     "data": {
      "image/png": "[encoded data removed]",
      "text/plain": [
       "<Figure size 640x480 with 1 Axes>"
      ]
     },
     "metadata": {},
     "output_type": "display_data"
    }
   ],
   "source": [
    "# Print variance expained and componenets of first PCs\n",
    "plt.plot(pca.explained_variance_/np.sum(pca.explained_variance_))\n",
    "plt.title('Fraction of Variance Explained by Each PC')\n",
    "keys = list(new_data.keys())\n",
    "for i in range(6):\n",
    "    print('PC ' + str(i))\n",
    "    pc = pca.components_[i, :]\n",
    "    for j in range(len(pc)):\n",
    "        print(keys[j] + ': ' + str(pc[j]))\n",
    "    "
   ]
  },
  {
   "cell_type": "markdown",
   "metadata": {},
   "source": [
    "# Clustering"
   ]
  },
  {
   "cell_type": "code",
   "execution_count": 39,
   "metadata": {},
   "outputs": [
    {
     "data": {
      "text/plain": [
       "array([4.81734790e-01, 8.79091580e-02, 7.67312437e-02, 6.82643655e-02,\n",
       "       5.72650592e-02, 4.61512295e-02, 4.30074584e-02, 4.07560590e-02,\n",
       "       2.92528022e-02, 1.87723235e-02, 1.36045005e-02, 1.12076322e-02,\n",
       "       7.56588714e-03, 6.87968399e-03, 5.46331058e-03, 4.13115990e-03,\n",
       "       1.30333704e-03, 4.15461265e-30])"
      ]
     },
     "execution_count": 39,
     "metadata": {},
     "output_type": "execute_result"
    }
   ],
   "source": [
    "# cluster with, k-means, knn, optics, birch, dbscan look here for use cases https://scikit-learn.org/stable/modules/clustering.html\n",
    "pca.explained_variance_/np.sum(pca.explained_variance_)"
   ]
  }
 ],
 "metadata": {
  "kernelspec": {
   "display_name": "Python 3",
   "language": "python",
   "name": "python3"
  },
  "language_info": {
   "codemirror_mode": {
    "name": "ipython",
    "version": 3
   },
   "file_extension": ".py",
   "mimetype": "text/x-python",
   "name": "python",
   "nbconvert_exporter": "python",
   "pygments_lexer": "ipython3",
   "version": "3.10.11"
  }
 },
 "nbformat": 4,
 "nbformat_minor": 2
}
