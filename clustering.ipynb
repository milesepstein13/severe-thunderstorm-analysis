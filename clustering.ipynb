{
 "cells": [
  {
   "cell_type": "code",
   "execution_count": null,
   "metadata": {},
   "outputs": [],
   "source": [
    "from utils_filter import *\n",
    "from utils_datetime import *\n",
    "from utils_geography import *\n",
    "from utils_plotting import *\n",
    "import numpy as np\n",
    "import matplotlib.pyplot as plt\n",
    "from matplotlib import colors\n",
    "import metpy\n",
    "import numbers\n",
    "from sklearn.decomposition import PCA\n",
    "import sklearn.cluster"
   ]
  },
  {
   "cell_type": "code",
   "execution_count": null,
   "metadata": {},
   "outputs": [],
   "source": [
    "data_location = 'data'\n",
    "outlooks, pph, reports = read_datasets(data_location, 'labelled')"
   ]
  },
  {
   "cell_type": "markdown",
   "metadata": {},
   "source": [
    "# Preprocessing"
   ]
  },
  {
   "cell_type": "code",
   "execution_count": null,
   "metadata": {},
   "outputs": [],
   "source": [
    "category_dict = {\n",
    "    'NONE' : -1,\n",
    "    'TSTM': 0,\n",
    "    'MRGL': 1,\n",
    "    'SLGT': 2,\n",
    "    'ENH': 3,\n",
    "    'MDT': 4,\n",
    "    'HIGH': 5\n",
    "}\n",
    "\n",
    "\n",
    "season_dict = {\n",
    "    'Winter': 0,\n",
    "    'Spring': 1,\n",
    "    'Summer': 2,\n",
    "    'Fall': 3\n",
    "}\n",
    "\n",
    "region_dict = {\n",
    "    'NONE': -1,\n",
    "    'West': 0,\n",
    "    'Great Plains': 1,\n",
    "    'Midwest': 2,\n",
    "    'Northeast': 3,\n",
    "    'South': 4\n",
    "}\n",
    "\n",
    "tor_dict = {\n",
    "    'NONE': -1,\n",
    "    'EFU': 0,\n",
    "    '(E)F0': 1,\n",
    "    '(E)F1': 2,\n",
    "    '(E)F2': 3,\n",
    "    '(E)F3': 4,\n",
    "    '(E)F4': 5,\n",
    "    '(E)F5': 6\n",
    "}\n",
    "\n",
    "cats = ['MAX_CAT', 'SEASON', 'REGION', 'TOR_F']\n",
    "dicts = [category_dict, season_dict, region_dict, tor_dict]"
   ]
  },
  {
   "cell_type": "code",
   "execution_count": null,
   "metadata": {},
   "outputs": [],
   "source": [
    "# remove unneeded variables and x, y dimensions\n",
    "data = pph.drop(['lat', 'lon', 'p_perfect_wind', 'p_perfect_sig_wind', 'p_perfect_hail', 'p_perfect_sig_hail', 'p_perfect_tor', 'p_perfect_sig_tor', 'RAMP_CAT', 'p_perfect_total', 'PPH_CAT', 'PPH_NUM', 'PPH_D_CAT', 'WINDSP_CAT', 'HAILSZ_CAT'])\n",
    "\n",
    "\n",
    "# make data numerical\n",
    "def convert_strings_to_ints(data, conversion_dict):\n",
    "    return np.vectorize(conversion_dict.get)(data)\n",
    "\n",
    "for cat, dic in zip(cats, dicts):\n",
    "\n",
    "    data[cat] = xr.apply_ufunc(\n",
    "        convert_strings_to_ints,  # function to apply\n",
    "        data[cat],      # input data\n",
    "        kwargs={'conversion_dict': dic},  # additional arguments\n",
    "        vectorize=True            # vectorize the function\n",
    "    )"
   ]
  },
  {
   "cell_type": "code",
   "execution_count": null,
   "metadata": {},
   "outputs": [],
   "source": [
    "# consolidate dates \n",
    "earliest_date = max(min(outlooks['DATE']), min(pph['time']), min(reports['DATE'])) #TODO first two days of outlook dataset don't have day 3 forecast. but probably ok since not mdt\n",
    "latest_date = min(max(outlooks['DATE']), max(pph['time']), max(reports['DATE']))"
   ]
  },
  {
   "cell_type": "code",
   "execution_count": null,
   "metadata": {},
   "outputs": [],
   "source": [
    "earliest_date = '200203300000'\n",
    "all_pph_dates = data['time']\n",
    "pph_dates = all_pph_dates[all_pph_dates <= latest_date]\n",
    "pph_dates = pph_dates[pph_dates >= earliest_date]\n",
    "new_data = data.sel(time = pph_dates)"
   ]
  },
  {
   "cell_type": "code",
   "execution_count": null,
   "metadata": {},
   "outputs": [],
   "source": [
    "def standardize_dataset(dataset):\n",
    "    standardized_data = {}\n",
    "    for var in dataset.data_vars:\n",
    "        data_array = dataset[var]\n",
    "        mean = data_array.mean()\n",
    "        std = data_array.std()\n",
    "        standardized_data[var] = (data_array - mean) / std\n",
    "    return xr.Dataset(standardized_data)\n",
    "\n",
    "new_data = standardize_dataset(new_data)"
   ]
  },
  {
   "cell_type": "markdown",
   "metadata": {},
   "source": [
    "# PCA"
   ]
  },
  {
   "cell_type": "code",
   "execution_count": null,
   "metadata": {},
   "outputs": [],
   "source": [
    "# do pca\n",
    "data_matrix = new_data.to_array(dim = 'time').data.T\n",
    "pca = PCA()\n",
    "\n",
    "pca.fit(data_matrix)"
   ]
  },
  {
   "cell_type": "code",
   "execution_count": null,
   "metadata": {},
   "outputs": [],
   "source": [
    "# Print variance expained and componenets of first PCs\n",
    "plt.plot(pca.explained_variance_/np.sum(pca.explained_variance_))\n",
    "plt.title('Fraction of Variance Explained by Each PC')\n",
    "keys = list(new_data.keys())\n",
    "for i in range(6):\n",
    "    print('PC ' + str(i))\n",
    "    pc = pca.components_[i, :]\n",
    "    for j in range(len(pc)):\n",
    "        print(keys[j] + ': ' + str(pc[j]))\n",
    "    "
   ]
  },
  {
   "cell_type": "markdown",
   "metadata": {},
   "source": [
    "# Clustering"
   ]
  },
  {
   "cell_type": "code",
   "execution_count": null,
   "metadata": {},
   "outputs": [],
   "source": [
    "# cluster with, k-means, knn, optics, birch, dbscan look here for use cases https://scikit-learn.org/stable/modules/clustering.html\n",
    "pca.explained_variance_/np.sum(pca.explained_variance_)"
   ]
  }
 ],
 "metadata": {
  "kernelspec": {
   "display_name": "Python 3",
   "language": "python",
   "name": "python3"
  },
  "language_info": {
   "codemirror_mode": {
    "name": "ipython",
    "version": 3
   },
   "file_extension": ".py",
   "mimetype": "text/x-python",
   "name": "python",
   "nbconvert_exporter": "python",
   "pygments_lexer": "ipython3",
   "version": "3.10.11"
  }
 },
 "nbformat": 4,
 "nbformat_minor": 2
}
