{
 "cells": [
  {
   "cell_type": "code",
   "execution_count": 50,
   "metadata": {},
   "outputs": [],
   "source": [
    "from utils_filter import *\n",
    "from utils_datetime import *\n",
    "from utils_geography import *\n",
    "from utils_plotting import *\n",
    "import numpy as np\n",
    "import matplotlib.pyplot as plt\n",
    "from matplotlib import colors\n",
    "import metpy\n",
    "import numbers\n",
    "from sklearn.decomposition import PCA\n",
    "import sklearn.cluster"
   ]
  },
  {
   "cell_type": "code",
   "execution_count": 2,
   "metadata": {},
   "outputs": [
    {
     "name": "stdout",
     "output_type": "stream",
     "text": [
      "reading outlooks\n",
      "reading pph\n",
      "reading storm reports\n"
     ]
    }
   ],
   "source": [
    "data_location = 'data'\n",
    "outlooks, pph, reports = read_datasets(data_location, 'labelled')"
   ]
  },
  {
   "cell_type": "markdown",
   "metadata": {},
   "source": [
    "# Preprocessing"
   ]
  },
  {
   "cell_type": "code",
   "execution_count": 29,
   "metadata": {},
   "outputs": [],
   "source": [
    "category_dict = {\n",
    "    'NONE' : -1,\n",
    "    'TSTM': 0,\n",
    "    'MRGL': 1,\n",
    "    'SLGT': 2,\n",
    "    'ENH': 3,\n",
    "    'MDT': 4,\n",
    "    'HIGH': 5\n",
    "}\n",
    "\n",
    "\n",
    "season_dict = {\n",
    "    'Winter': 0,\n",
    "    'Spring': 1,\n",
    "    'Summer': 2,\n",
    "    'Fall': 3\n",
    "}\n",
    "\n",
    "region_dict = {\n",
    "    'NONE': -1,\n",
    "    'West': 0,\n",
    "    'Great Plains': 1,\n",
    "    'Midwest': 2,\n",
    "    'Northeast': 3,\n",
    "    'South': 4\n",
    "}\n",
    "\n",
    "tor_dict = {\n",
    "    'NONE': -1,\n",
    "    'EFU': 0,\n",
    "    '(E)F0': 1,\n",
    "    '(E)F1': 2,\n",
    "    '(E)F2': 3,\n",
    "    '(E)F3': 4,\n",
    "    '(E)F4': 5,\n",
    "    '(E)F5': 6\n",
    "}\n",
    "\n",
    "cats = ['MAX_CAT', 'SEASON', 'REGION', 'TOR_F']\n",
    "dicts = [category_dict, season_dict, region_dict, tor_dict]"
   ]
  },
  {
   "cell_type": "code",
   "execution_count": 124,
   "metadata": {},
   "outputs": [],
   "source": [
    "# remove unneeded variables and x, y dimensions\n",
    "data = pph.drop(['lat', 'lon', 'p_perfect_wind', 'p_perfect_sig_wind', 'p_perfect_hail', 'p_perfect_sig_hail', 'p_perfect_tor', 'p_perfect_sig_tor', 'RAMP_CAT', 'p_perfect_total', 'PPH_CAT', 'WINDSP_CAT', 'HAILSZ_CAT'])\n",
    "\n",
    "\n",
    "# make data numerical\n",
    "def convert_strings_to_ints(data, conversion_dict):\n",
    "    return np.vectorize(conversion_dict.get)(data)\n",
    "\n",
    "for cat, dic in zip(cats, dicts):\n",
    "\n",
    "    data[cat] = xr.apply_ufunc(\n",
    "        convert_strings_to_ints,  # function to apply\n",
    "        data[cat],      # input data\n",
    "        kwargs={'conversion_dict': dic},  # additional arguments\n",
    "        vectorize=True            # vectorize the function\n",
    "    )"
   ]
  },
  {
   "cell_type": "code",
   "execution_count": 125,
   "metadata": {},
   "outputs": [],
   "source": [
    "# consolidate dates \n",
    "earliest_date = max(min(outlooks['DATE']), min(pph['time']), min(reports['DATE'])) #TODO first two days of outlook dataset don't have day 3 forecast. but probably ok since not mdt\n",
    "latest_date = min(max(outlooks['DATE']), max(pph['time']), max(reports['DATE']))"
   ]
  },
  {
   "cell_type": "code",
   "execution_count": 126,
   "metadata": {},
   "outputs": [],
   "source": [
    "earliest_date = '200203300000'\n",
    "all_pph_dates = data['time']\n",
    "pph_dates = all_pph_dates[all_pph_dates <= latest_date]\n",
    "pph_dates = pph_dates[pph_dates >= earliest_date]\n",
    "new_data = data.sel(time = pph_dates)"
   ]
  },
  {
   "cell_type": "code",
   "execution_count": 127,
   "metadata": {},
   "outputs": [],
   "source": [
    "def standardize_dataset(dataset):\n",
    "    standardized_data = {}\n",
    "    for var in dataset.data_vars:\n",
    "        data_array = dataset[var]\n",
    "        mean = data_array.mean()\n",
    "        std = data_array.std()\n",
    "        standardized_data[var] = (data_array - mean) / std\n",
    "    return xr.Dataset(standardized_data)\n",
    "\n",
    "new_data = standardize_dataset(new_data)"
   ]
  },
  {
   "cell_type": "markdown",
   "metadata": {},
   "source": [
    "# PCA"
   ]
  },
  {
   "cell_type": "code",
   "execution_count": 128,
   "metadata": {},
   "outputs": [
    {
     "data": {
      "text/html": [
       "<style>#sk-container-id-4 {color: black;background-color: white;}#sk-container-id-4 pre{padding: 0;}#sk-container-id-4 div.sk-toggleable {background-color: white;}#sk-container-id-4 label.sk-toggleable__label {cursor: pointer;display: block;width: 100%;margin-bottom: 0;padding: 0.3em;box-sizing: border-box;text-align: center;}#sk-container-id-4 label.sk-toggleable__label-arrow:before {content: \"▸\";float: left;margin-right: 0.25em;color: #696969;}#sk-container-id-4 label.sk-toggleable__label-arrow:hover:before {color: black;}#sk-container-id-4 div.sk-estimator:hover label.sk-toggleable__label-arrow:before {color: black;}#sk-container-id-4 div.sk-toggleable__content {max-height: 0;max-width: 0;overflow: hidden;text-align: left;background-color: #f0f8ff;}#sk-container-id-4 div.sk-toggleable__content pre {margin: 0.2em;color: black;border-radius: 0.25em;background-color: #f0f8ff;}#sk-container-id-4 input.sk-toggleable__control:checked~div.sk-toggleable__content {max-height: 200px;max-width: 100%;overflow: auto;}#sk-container-id-4 input.sk-toggleable__control:checked~label.sk-toggleable__label-arrow:before {content: \"▾\";}#sk-container-id-4 div.sk-estimator input.sk-toggleable__control:checked~label.sk-toggleable__label {background-color: #d4ebff;}#sk-container-id-4 div.sk-label input.sk-toggleable__control:checked~label.sk-toggleable__label {background-color: #d4ebff;}#sk-container-id-4 input.sk-hidden--visually {border: 0;clip: rect(1px 1px 1px 1px);clip: rect(1px, 1px, 1px, 1px);height: 1px;margin: -1px;overflow: hidden;padding: 0;position: absolute;width: 1px;}#sk-container-id-4 div.sk-estimator {font-family: monospace;background-color: #f0f8ff;border: 1px dotted black;border-radius: 0.25em;box-sizing: border-box;margin-bottom: 0.5em;}#sk-container-id-4 div.sk-estimator:hover {background-color: #d4ebff;}#sk-container-id-4 div.sk-parallel-item::after {content: \"\";width: 100%;border-bottom: 1px solid gray;flex-grow: 1;}#sk-container-id-4 div.sk-label:hover label.sk-toggleable__label {background-color: #d4ebff;}#sk-container-id-4 div.sk-serial::before {content: \"\";position: absolute;border-left: 1px solid gray;box-sizing: border-box;top: 0;bottom: 0;left: 50%;z-index: 0;}#sk-container-id-4 div.sk-serial {display: flex;flex-direction: column;align-items: center;background-color: white;padding-right: 0.2em;padding-left: 0.2em;position: relative;}#sk-container-id-4 div.sk-item {position: relative;z-index: 1;}#sk-container-id-4 div.sk-parallel {display: flex;align-items: stretch;justify-content: center;background-color: white;position: relative;}#sk-container-id-4 div.sk-item::before, #sk-container-id-4 div.sk-parallel-item::before {content: \"\";position: absolute;border-left: 1px solid gray;box-sizing: border-box;top: 0;bottom: 0;left: 50%;z-index: -1;}#sk-container-id-4 div.sk-parallel-item {display: flex;flex-direction: column;z-index: 1;position: relative;background-color: white;}#sk-container-id-4 div.sk-parallel-item:first-child::after {align-self: flex-end;width: 50%;}#sk-container-id-4 div.sk-parallel-item:last-child::after {align-self: flex-start;width: 50%;}#sk-container-id-4 div.sk-parallel-item:only-child::after {width: 0;}#sk-container-id-4 div.sk-dashed-wrapped {border: 1px dashed gray;margin: 0 0.4em 0.5em 0.4em;box-sizing: border-box;padding-bottom: 0.4em;background-color: white;}#sk-container-id-4 div.sk-label label {font-family: monospace;font-weight: bold;display: inline-block;line-height: 1.2em;}#sk-container-id-4 div.sk-label-container {text-align: center;}#sk-container-id-4 div.sk-container {/* jupyter's `normalize.less` sets `[hidden] { display: none; }` but bootstrap.min.css set `[hidden] { display: none !important; }` so we also need the `!important` here to be able to override the default hidden behavior on the sphinx rendered scikit-learn.org. See: https://github.com/scikit-learn/scikit-learn/issues/21755 */display: inline-block !important;position: relative;}#sk-container-id-4 div.sk-text-repr-fallback {display: none;}</style><div id=\"sk-container-id-4\" class=\"sk-top-container\"><div class=\"sk-text-repr-fallback\"><pre>PCA()</pre><b>In a Jupyter environment, please rerun this cell to show the HTML representation or trust the notebook. <br />On GitHub, the HTML representation is unable to render, please try loading this page with nbviewer.org.</b></div><div class=\"sk-container\" hidden><div class=\"sk-item\"><div class=\"sk-estimator sk-toggleable\"><input class=\"sk-toggleable__control sk-hidden--visually\" id=\"sk-estimator-id-4\" type=\"checkbox\" checked><label for=\"sk-estimator-id-4\" class=\"sk-toggleable__label sk-toggleable__label-arrow\">PCA</label><div class=\"sk-toggleable__content\"><pre>PCA()</pre></div></div></div></div></div>"
      ],
      "text/plain": [
       "PCA()"
      ]
     },
     "execution_count": 128,
     "metadata": {},
     "output_type": "execute_result"
    }
   ],
   "source": [
    "# do pca\n",
    "data_matrix = new_data.to_array(dim = 'time').data.T\n",
    "pca = PCA()\n",
    "\n",
    "pca.fit(data_matrix)"
   ]
  },
  {
   "cell_type": "code",
   "execution_count": 133,
   "metadata": {},
   "outputs": [
    {
     "name": "stdout",
     "output_type": "stream",
     "text": [
      "PC 0\n",
      "MAX_CAT: 0.26846500292786024\n",
      "RAMP_UP: 0.12415287947891418\n",
      "RAMP_DOWN: -0.004890177044094668\n",
      "SEASON: 0.054193070105399255\n",
      "REGION: 0.18522488538318826\n",
      "PPH_NUM: 0.3206230506039318\n",
      "REPORT_NUM: 0.3120544303699606\n",
      "TOR_NUM: 0.19369730807860064\n",
      "WIND_NUM: 0.2832538016403309\n",
      "HAIL_NUM: 0.2574236769406981\n",
      "TOR_F: 0.2444425303080844\n",
      "WINDSP_NUM: 0.2659093061203695\n",
      "HAILSZ_NUM: 0.2744459257753508\n",
      "NEIGH_NUM: 0.28474425694820327\n",
      "RMSE_NUM: 0.3219169374750367\n",
      "BS_NUM: 0.3171085628860869\n",
      "PC 1\n",
      "MAX_CAT: -0.3304831232603523\n",
      "RAMP_UP: -0.3788960308080709\n",
      "RAMP_DOWN: 0.2078146479973189\n",
      "SEASON: -0.20883650257082628\n",
      "REGION: -0.39142670287472525\n",
      "PPH_NUM: -0.0808469538612987\n",
      "REPORT_NUM: 0.2736728364762011\n",
      "TOR_NUM: 0.016797239181934848\n",
      "WIND_NUM: 0.30820538133343744\n",
      "HAIL_NUM: 0.14956169462059454\n",
      "TOR_F: -0.19881947588431775\n",
      "WINDSP_NUM: -0.3057506019209974\n",
      "HAILSZ_NUM: -0.12079326950644523\n",
      "NEIGH_NUM: 0.3310288989081298\n",
      "RMSE_NUM: 0.1354720079779843\n",
      "BS_NUM: 0.18053627072142395\n",
      "PC 2\n",
      "MAX_CAT: 0.13506514854157192\n",
      "RAMP_UP: 0.34559075038196013\n",
      "RAMP_DOWN: -0.22673595846942463\n",
      "SEASON: -0.6350811069792079\n",
      "REGION: -0.2324608855978667\n",
      "PPH_NUM: -0.050473108105498626\n",
      "REPORT_NUM: 0.04970852086789229\n",
      "TOR_NUM: 0.44211132695795174\n",
      "WIND_NUM: -0.08306779371480028\n",
      "HAIL_NUM: 0.18030936682153748\n",
      "TOR_F: 0.18834901172438054\n",
      "WINDSP_NUM: -0.2108742280452719\n",
      "HAILSZ_NUM: -0.02330590174226123\n",
      "NEIGH_NUM: -0.055802083016944434\n",
      "RMSE_NUM: -0.12194863816062475\n",
      "BS_NUM: -0.12322640499086787\n",
      "PC 3\n",
      "MAX_CAT: 0.033536012696841665\n",
      "RAMP_UP: 0.16457506435796837\n",
      "RAMP_DOWN: -0.8425732337852757\n",
      "SEASON: 0.14789349439472457\n",
      "REGION: -0.11406481246689495\n",
      "PPH_NUM: -0.06141840389268814\n",
      "REPORT_NUM: 0.07355041411228602\n",
      "TOR_NUM: -0.25239856845489034\n",
      "WIND_NUM: 0.15748308372174433\n",
      "HAIL_NUM: -0.03588482178437111\n",
      "TOR_F: -0.2731782493122948\n",
      "WINDSP_NUM: -0.09201531314023764\n",
      "HAILSZ_NUM: -0.07090032736482527\n",
      "NEIGH_NUM: 0.15592548380253474\n",
      "RMSE_NUM: 0.08002375343096331\n",
      "BS_NUM: 0.095735634112913\n",
      "PC 4\n",
      "MAX_CAT: 0.07970833917090664\n",
      "RAMP_UP: 0.5070500408983775\n",
      "RAMP_DOWN: 0.25427888006682753\n",
      "SEASON: 0.6112808243646459\n",
      "REGION: -0.4016873706246464\n",
      "PPH_NUM: -0.1079077405664148\n",
      "REPORT_NUM: 0.08116562771593655\n",
      "TOR_NUM: 0.2382660216301471\n",
      "WIND_NUM: 0.057884277350933086\n",
      "HAIL_NUM: 0.04436053788156111\n",
      "TOR_F: -0.03937993167015741\n",
      "WINDSP_NUM: -0.2100837379969139\n",
      "HAILSZ_NUM: -0.07165154316360722\n",
      "NEIGH_NUM: 0.032639690260901244\n",
      "RMSE_NUM: -0.05375263678984546\n",
      "BS_NUM: -0.04214759036456192\n",
      "PC 5\n",
      "MAX_CAT: -0.08664438385405461\n",
      "RAMP_UP: -0.5631324297898668\n",
      "RAMP_DOWN: -0.3489378452520345\n",
      "SEASON: 0.3713079005572489\n",
      "REGION: -0.148654952734261\n",
      "PPH_NUM: 0.009342184827649591\n",
      "REPORT_NUM: -0.015396566649314589\n",
      "TOR_NUM: 0.4615698288118951\n",
      "WIND_NUM: -0.1524878156095802\n",
      "HAIL_NUM: 0.1300715003428094\n",
      "TOR_F: 0.3349340618783236\n",
      "WINDSP_NUM: -0.02913438219560799\n",
      "HAILSZ_NUM: 0.07413427344579615\n",
      "NEIGH_NUM: -0.11612353106890742\n",
      "RMSE_NUM: -0.05671628343773506\n",
      "BS_NUM: -0.0698572756343851\n"
     ]
    },
    {
     "data": {
      "image/png": "[encoded data removed]",
      "text/plain": [
       "<Figure size 640x480 with 1 Axes>"
      ]
     },
     "metadata": {},
     "output_type": "display_data"
    }
   ],
   "source": [
    "# Print variance expained and componenets of first PCs\n",
    "plt.plot(pca.explained_variance_/np.sum(pca.explained_variance_))\n",
    "plt.title('Fraction of Variance Explained by Each PC')\n",
    "keys = list(new_data.keys())\n",
    "for i in range(6):\n",
    "    print('PC ' + str(i))\n",
    "    pc = pca.components_[i, :]\n",
    "    for j in range(len(pc)):\n",
    "        print(keys[j] + ': ' + str(pc[j]))\n",
    "    "
   ]
  },
  {
   "cell_type": "markdown",
   "metadata": {},
   "source": [
    "# Clustering"
   ]
  },
  {
   "cell_type": "code",
   "execution_count": 130,
   "metadata": {},
   "outputs": [
    {
     "data": {
      "text/plain": [
       "array([5.38103845e-01, 9.55576175e-02, 7.12221254e-02, 6.39474574e-02,\n",
       "       5.30656558e-02, 4.69126097e-02, 4.42409676e-02, 2.30481910e-02,\n",
       "       1.84248691e-02, 1.34172713e-02, 1.19733144e-02, 8.22157266e-03,\n",
       "       5.74883200e-03, 5.00393418e-03, 1.11173668e-03, 4.58353251e-30])"
      ]
     },
     "execution_count": 130,
     "metadata": {},
     "output_type": "execute_result"
    }
   ],
   "source": [
    "# cluster with, k-means, knn, optics, birch, dbscan look here for use cases https://scikit-learn.org/stable/modules/clustering.html\n",
    "pca.explained_variance_/np.sum(pca.explained_variance_)"
   ]
  }
 ],
 "metadata": {
  "kernelspec": {
   "display_name": "Python 3",
   "language": "python",
   "name": "python3"
  },
  "language_info": {
   "codemirror_mode": {
    "name": "ipython",
    "version": 3
   },
   "file_extension": ".py",
   "mimetype": "text/x-python",
   "name": "python",
   "nbconvert_exporter": "python",
   "pygments_lexer": "ipython3",
   "version": "3.10.11"
  }
 },
 "nbformat": 4,
 "nbformat_minor": 2
}
