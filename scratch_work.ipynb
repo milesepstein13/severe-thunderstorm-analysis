{
 "cells": [
  {
   "cell_type": "code",
   "execution_count": 1,
   "metadata": {},
   "outputs": [],
   "source": [
    "from utils_filter import *\n",
    "from utils_datetime import *\n",
    "from utils_plotting import *\n",
    "from datetime import timedelta\n",
    "import xarray as xr\n",
    "import geopandas as gp\n",
    "import pandas as pd\n"
   ]
  },
  {
   "cell_type": "code",
   "execution_count": null,
   "metadata": {},
   "outputs": [],
   "source": [
    "data_location = 'data'\n",
    "moderate = False # only consider moderate days\n",
    "outlooks, pph, reports = read_datasets(data_location, 'moderate')\n",
    "\n"
   ]
  },
  {
   "cell_type": "code",
   "execution_count": null,
   "metadata": {},
   "outputs": [],
   "source": [
    "output_location = 'plots/daily/20190520'\n",
    "categories = ['hail', 'wind', 'tor']\n",
    "pph_day = pph.loc[dict(time = '2019-05-20T12:00:00')]\n",
    "plot_pph_day_temp(pph_day, output_location, categories, show = True)"
   ]
  },
  {
   "cell_type": "code",
   "execution_count": null,
   "metadata": {},
   "outputs": [],
   "source": [
    "outlooks[outlooks['DATE'] == '201804020000']"
   ]
  },
  {
   "cell_type": "code",
   "execution_count": 22,
   "metadata": {},
   "outputs": [],
   "source": [
    "def plot_pph_day_temp(pph_date, output_location, categories, show = False):\n",
    "    for category in categories:\n",
    "        pph_date_category = pph_date[['p_perfect_' + category, 'lat', 'lon']]\n",
    "        pph_date_category_sig = pph_date[['p_perfect_sig_' + category, 'lat', 'lon']]\n",
    "\n",
    "        \n",
    "        # credit: https://atlas.niu.edu/pperfect/BAMS/notebook_sample.html\n",
    "        fig=plt.figure(figsize=(9,6))\n",
    "        plt.style.use('dark_background')\n",
    "        ax = plt.axes(projection = cp.crs.LambertConformal())\n",
    "        ax.add_feature(cp.feature.LAND,facecolor='grey')\n",
    "        ax.add_feature(cp.feature.OCEAN, alpha = 0.5)\n",
    "        ax.add_feature(cp.feature.COASTLINE,linewidth=0.5)\n",
    "        ax.add_feature(cp.feature.LAKES, alpha = 0.5)\n",
    "        ax.add_feature(cp.feature.STATES,linewidth=0.5)\n",
    "\n",
    "        plt.contourf(pph_date_category.lon.values, pph_date_category.lat.values, pph_date_category['p_perfect_' + category].values[:,:],\n",
    "                    levels=[0,2], colors=['#FFFFFF'],\n",
    "                    transform=cp.crs.PlateCarree(), alpha=0.)\n",
    "        try:\n",
    "            c = plt.contourf(pph_date_category.lon.values, pph_date_category.lat.values, pph_date_category['p_perfect_' + category].values[:,:],\n",
    "                    levels=[2,5,10,15,30,45,60,100], colors=['#008b00','#8b4726','#ffc800', '#ff0000', '#ff00ff', '#912cee', '#104e8b'],\n",
    "                    transform=cp.crs.PlateCarree())\n",
    "            plt.annotate('PPER Max\\n'+str(pph_date_category['p_perfect_' + category].values[:,:].max().round(1))+'%', xy=(0.88, 0.3), xycoords=\"figure fraction\",\n",
    "                        va=\"center\", ha=\"center\", color='white',fontsize=12,\n",
    "                        bbox=dict(boxstyle=\"round\", fc=\"k\"))\n",
    "        except:\n",
    "            plt.annotate(\"No Reports\", xy=(0.5, 0.5), xycoords=\"figure fraction\",\n",
    "                        va=\"center\", ha=\"center\", color='white',\n",
    "                        bbox=dict(boxstyle=\"round\", fc=\"k\"))\n",
    "            \n",
    "        try:\n",
    "            plt.contourf(pph_date_category_sig.lon.values, pph_date_category_sig.lat.values, pph_date_category_sig['p_perfect_sig_' + category].values[0,:,:],\n",
    "                    levels=[10,100], colors='none', hatches=['////'],\n",
    "                    transform=cp.crs.PlateCarree())\n",
    "            plt.contour(pph_date_category_sig.lon.values, pph_date_category_sig.lat.values, pph_date_category_sig['p_perfect_sig_' + category].values[0,:,:],\n",
    "                    levels=[10,100], colors=['k'],\n",
    "                    transform=cp.crs.PlateCarree())\n",
    "        except:\n",
    "            pass\n",
    "\n",
    "        if category == 'tor':\n",
    "            cat_title = 'Tornado'\n",
    "        elif category == 'hail':\n",
    "            cat_title = 'Hail'\n",
    "        else:\n",
    "            cat_title = 'Wind'\n",
    "\n",
    "        ax.set_extent([-121, -71, 23, 50])\n",
    "        plt.title('24 Hour Practically Perfect Hindcast for ' + cat_title)\n",
    "        plt.colorbar(c,orientation=\"horizontal\", pad=0.01, aspect=50,fraction=.1)\n",
    "        plt.savefig(output_location + '/pph_' + category + '.png')\n",
    "        if not show:\n",
    "            plt.close()"
   ]
  },
  {
   "cell_type": "code",
   "execution_count": 2,
   "metadata": {},
   "outputs": [],
   "source": [
    "import geopandas as gp"
   ]
  },
  {
   "cell_type": "code",
   "execution_count": null,
   "metadata": {},
   "outputs": [],
   "source": [
    "# Read convective outlooks into outlooks\n",
    "outlook_raw_location = 'raw_data/outlooks'\n",
    "year_list = [[1987, 1991], [1992, 1999], [2000, 2007], [2008, 2015], [2016, 2023]]\n",
    "for years, i in zip(year_list, range(len(year_list))):\n",
    "    print('reading file ' + str(i) + ', years ' + str(years[0]) +'-' + str(years[1]))\n",
    "    if i == 0:\n",
    "        outlooks_original = gp.read_file(outlook_raw_location + '/outlooks_' + str(years[0]) + '01010000_' + str(years[1]) + '12312359')\n",
    "    else:\n",
    "        outlooks_original = outlooks_original.append(gp.read_file(outlook_raw_location + '/outlooks_' + str(years[0]) + '01010000_' + str(years[1]) + '12312359'))\n",
    "print('files read')\n",
    "    \n",
    "outlooks_original"
   ]
  },
  {
   "cell_type": "code",
   "execution_count": null,
   "metadata": {},
   "outputs": [],
   "source": [
    "# print \n",
    "outlooks_original[outlooks_original['ISSUE'] == '201903021200']"
   ]
  },
  {
   "cell_type": "code",
   "execution_count": 9,
   "metadata": {},
   "outputs": [],
   "source": [
    "def create_dates(datetimes, shift):\n",
    "    # converts list of datetime object to list of dates (YMD)\n",
    "    # TODO: does this cause end of month issue? But only sometimes????\n",
    "    for datetime, i in zip(datetimes, range(len(datetimes))):\n",
    "        days = timedelta(shift)\n",
    "        if i == 0:\n",
    "            ret = [datetime.date() + days]\n",
    "        else:\n",
    "            ret.append(datetime.date() + days)\n",
    "    return ret\n",
    "\n",
    "def parse_datetime(date_strings):\n",
    "    # convertes list of datetime strings (format used for outlooks, %Y%m%d%H%M) to list of datetime objects\n",
    "    for date_string, i in zip(date_strings, range(len(date_strings))):\n",
    "        if i == 0:\n",
    "            ret = [dt.strptime(date_string, \"%Y%m%d%H%M\")]\n",
    "        else:\n",
    "            ret.append(dt.strptime(date_string, \"%Y%m%d%H%M\"))\n",
    "        #if np.mod(i, 10000) == 0:\n",
    "        #    print(i)\n",
    "        #    print(dt.strptime(date_string, \"%Y%m%d%H%M\"))\n",
    "    return ret"
   ]
  },
  {
   "cell_type": "code",
   "execution_count": null,
   "metadata": {},
   "outputs": [],
   "source": [
    "pph"
   ]
  },
  {
   "cell_type": "code",
   "execution_count": 11,
   "metadata": {},
   "outputs": [],
   "source": [
    "outlooks = outlooks_original\n",
    "outlooks['ISSUE'] = parse_datetime(outlooks['ISSUE'])\n",
    "outlooks['EXPIRE'] = parse_datetime(outlooks['EXPIRE'])\n",
    "outlooks['PRODISS'] = parse_datetime(outlooks['PRODISS'])\n",
    "# print"
   ]
  },
  {
   "cell_type": "code",
   "execution_count": null,
   "metadata": {},
   "outputs": [],
   "source": []
  },
  {
   "cell_type": "code",
   "execution_count": 13,
   "metadata": {},
   "outputs": [],
   "source": [
    "outlooks['DATE'] = create_dates(outlooks['EXPIRE'], -1)"
   ]
  },
  {
   "cell_type": "code",
   "execution_count": null,
   "metadata": {},
   "outputs": [],
   "source": []
  },
  {
   "cell_type": "code",
   "execution_count": null,
   "metadata": {},
   "outputs": [],
   "source": [
    "hazard_types= ['Wind', 'Hail', 'Tornado', 'Sig Wind', 'Sig Hail', 'Sig Tornado', 'Total Reports', 'Total Sig'] # TODO add true/false\n",
    "\n",
    "report_dataset = xr.Dataset(\n",
    "    data_vars=dict(\n",
    "        lat=(['y', 'x'], pph['lat'].data),\n",
    "        lon=(['y', 'x'], pph['lon'].data)\n",
    "    ),\n",
    "    coords=dict(\n",
    "        time=(['time'], pph['time'].data),\n",
    "        x=(['x'], pph['x'].data),\n",
    "        y=(['y'], pph['y'].data),\n",
    "        hazard=(['hazard'], hazard_types)\n",
    "    ),\n",
    "    attrs=dict(description=\"Number of each hazard type\",\n",
    "            grid = pph.grid),\n",
    ")\n",
    "\n",
    "report_dataset = report_dataset.assign(count = (('time', 'y', 'x', 'hazard'), np.full((len(report_dataset['time']), len(report_dataset['y']), len(report_dataset['x']), len(hazard_types)), 0)))\n"
   ]
  },
  {
   "cell_type": "code",
   "execution_count": null,
   "metadata": {},
   "outputs": [],
   "source": [
    "data_location = 'data'\n",
    "gp.read_file(data_location + '/storm_reports/all_reports.csv')"
   ]
  },
  {
   "cell_type": "code",
   "execution_count": null,
   "metadata": {},
   "outputs": [],
   "source": [
    "pd.read_csv(data_location + '/storm_reports/all_reports.csv')"
   ]
  },
  {
   "cell_type": "code",
   "execution_count": null,
   "metadata": {},
   "outputs": [],
   "source": [
    "fig = plt.figure()\n",
    "ax1 = fig.add_subplot(100)\n",
    "for true_prob in [0, .1, .2, .3, .4, .5, .6, .7, .8, .9, 1]:\n",
    "    pod = np.empty(11)\n",
    "    far = np.empty(11)\n",
    "    for forecast_prob, i in enumerate([0, .1, .2, .3, .4, .5, .6, .7, .8, .9, 1]):\n",
    "        pod = forecast_prob\n",
    "        far = forecast_prob\n",
    "        \n",
    "        \n",
    "    "
   ]
  }
 ],
 "metadata": {
  "kernelspec": {
   "display_name": "Python 3",
   "language": "python",
   "name": "python3"
  },
  "language_info": {
   "codemirror_mode": {
    "name": "ipython",
    "version": 3
   },
   "file_extension": ".py",
   "mimetype": "text/x-python",
   "name": "python",
   "nbconvert_exporter": "python",
   "pygments_lexer": "ipython3",
   "version": "3.10.11"
  }
 },
 "nbformat": 4,
 "nbformat_minor": 2
}
