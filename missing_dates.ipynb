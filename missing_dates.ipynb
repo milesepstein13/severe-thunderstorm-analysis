{
 "cells": [
  {
   "cell_type": "markdown",
   "id": "0045e82f",
   "metadata": {},
   "source": [
    "Checking that missing dates are actually missing like we think"
   ]
  },
  {
   "cell_type": "code",
   "execution_count": null,
   "id": "4ed4a94b",
   "metadata": {},
   "outputs": [],
   "source": [
    "from utils_filter import *\n",
    "from utils_datetime import *\n",
    "from utils_geography import *\n",
    "from utils_plotting import *\n",
    "import numpy as np\n",
    "import matplotlib.pyplot as plt\n",
    "from matplotlib import colors"
   ]
  },
  {
   "cell_type": "markdown",
   "id": "0c3bc1e6",
   "metadata": {},
   "source": [
    "Checking in grid outlooks"
   ]
  },
  {
   "cell_type": "code",
   "execution_count": null,
   "id": "b474193d",
   "metadata": {},
   "outputs": [],
   "source": [
    "missing_dates = ['200204190000', '200204200000', '200204210000', '200204250000', '200205060000', '200205250000', '200207310000', '200208130000', '200208300000', '200211090000', '200212230000', '200302030000', '200303250000', '200304140000', '200304150000', '200304160000', '200305100000', '200306250000', '200306280000', '200307270000', '200307280000', '200309030000', '200312280000', '200404020000', '200404140000', '200405230000', '200408090000', '200410140000', '200503300000', '200506060000', '200508030000', '200701040000', '200905280000', '201105210000', '202005240000', '202106130000']"
   ]
  },
  {
   "cell_type": "code",
   "execution_count": null,
   "id": "5be5046e",
   "metadata": {},
   "outputs": [],
   "source": [
    "grid_outlook_location = 'data/outlooks/grid_outlooks.nc'\n",
    "grid_outlooks = xr.open_dataset(grid_outlook_location)"
   ]
  },
  {
   "cell_type": "code",
   "execution_count": null,
   "id": "e7125efa",
   "metadata": {},
   "outputs": [],
   "source": [
    "max_outlooks = grid_outlooks.max(dim = ['x', 'y'])['prob']\n",
    "\n",
    "dates = max_outlooks['time']\n",
    "thresholds = {'': .15,\n",
    "              ' Tornado': .05,\n",
    "              ' Wind': .15,\n",
    "              ' Hail': .15}\n",
    "days = ['Day 3', 'Day 2 7', 'Day 2 17', 'Day 1']\n",
    "hazard_days = ['Day 2 7', 'Day 2 17', 'Day 1']\n",
    "investigate_dates = []\n",
    "for date in dates:\n",
    "    max_outlooks_date = max_outlooks.sel(time = date)\n",
    "    for hazard in ['', ' Tornado', ' Wind', ' Hail']:\n",
    "        if hazard == '':\n",
    "            this_days = days\n",
    "        else:\n",
    "            this_days = hazard_days\n",
    "        outlook_keys = [item + hazard for item in this_days]\n",
    "        max_prob = max_outlooks_date.sel(outlook = outlook_keys).max()\n",
    "        if max_prob >= thresholds[hazard]:\n",
    "            for outlook_key in outlook_keys:\n",
    "                if max_outlooks_date.sel(outlook = outlook_key) == 0 and outlook_key == 'Day 1':\n",
    "                    print(str(date.data) + ' ' + str(outlook_key))\n",
    "                    investigate_dates.append(str(date.data))\n",
    "\n",
    "                \n",
    "\n",
    "print(investigate_dates)"
   ]
  },
  {
   "cell_type": "code",
   "execution_count": null,
   "id": "5d87e431",
   "metadata": {},
   "outputs": [],
   "source": [
    "print(missing_dates)\n",
    "print(investigate_dates)\n",
    "len(investigate_dates)"
   ]
  },
  {
   "cell_type": "code",
   "execution_count": null,
   "id": "12a525df",
   "metadata": {},
   "outputs": [],
   "source": [
    "pph = xr.open_dataset('data/pph/labelled_pph.nc')\n",
    "investigate_pph = pph.sel(time = investigate_dates)"
   ]
  },
  {
   "cell_type": "code",
   "execution_count": null,
   "id": "00cc8b56",
   "metadata": {},
   "outputs": [],
   "source": [
    "mdt_investigate_dates = investigate_pph['MAX_CAT'].isin(['MDT', 'HIGH'])\n",
    "mdt_investigate_dates\n",
    "mdt_investigate_pph = investigate_pph.sel(time = mdt_investigate_dates)\n",
    "mdt_investigate_pph"
   ]
  },
  {
   "cell_type": "markdown",
   "id": "c84b2ae0",
   "metadata": {},
   "source": [
    "Checking in raw data"
   ]
  },
  {
   "cell_type": "code",
   "execution_count": null,
   "id": "ad81b2c7",
   "metadata": {},
   "outputs": [],
   "source": [
    "raw_dir = '~/Downloads'\n",
    "outlook_raw_location = raw_dir + '/outlooks'\n",
    "\n",
    "# Read convective outlooks into outlooks\n",
    "year_list = [[2008, 2015]]\n",
    "for years, i in zip(year_list, range(len(year_list))):\n",
    "    print('reading file ' + str(i) + ', years ' + str(years[0]) +'-' + str(years[1]))\n",
    "    if i == 0:\n",
    "        outlooks_original = gp.read_file(outlook_raw_location + '/outlooks_' + str(years[0]) + '01010000_' + str(years[1]) + '12312359')\n",
    "    else:\n",
    "        outlooks_original = outlooks_original.append(gp.read_file(outlook_raw_location + '/outlooks_' + str(years[0]) + '01010000_' + str(years[1]) + '12312359'))\n",
    "print('files read')\n",
    "    \n",
    "outlooks_original"
   ]
  },
  {
   "cell_type": "code",
   "execution_count": null,
   "id": "49f02522",
   "metadata": {},
   "outputs": [],
   "source": [
    "for date in investigate_dates:\n",
    "    print(date)\n",
    "    print(outlooks_original[(outlooks_original['ISSUE'] == date[0:8] + '1200') & (outlooks_original['DAY'] == 1)]['CYCLE'].unique())\n"
   ]
  }
 ],
 "metadata": {
  "kernelspec": {
   "display_name": "Python 3",
   "language": "python",
   "name": "python3"
  },
  "language_info": {
   "codemirror_mode": {
    "name": "ipython",
    "version": 3
   },
   "file_extension": ".py",
   "mimetype": "text/x-python",
   "name": "python",
   "nbconvert_exporter": "python",
   "pygments_lexer": "ipython3",
   "version": "3.10.11"
  }
 },
 "nbformat": 4,
 "nbformat_minor": 5
}
