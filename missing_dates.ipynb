{
 "cells": [
  {
   "cell_type": "markdown",
   "id": "0045e82f",
   "metadata": {},
   "source": [
    "Checking that missing dates are actually missing like we think"
   ]
  },
  {
   "cell_type": "code",
   "execution_count": null,
   "id": "4ed4a94b",
   "metadata": {},
   "outputs": [],
   "source": [
    "from utils_filter import *\n",
    "from utils_datetime import *\n",
    "from utils_geography import *\n",
    "from utils_plotting import *\n",
    "import numpy as np\n",
    "import matplotlib.pyplot as plt\n",
    "from matplotlib import colors"
   ]
  },
  {
   "cell_type": "markdown",
   "id": "0c3bc1e6",
   "metadata": {},
   "source": [
    "Checking in grid outlooks"
   ]
  },
  {
   "cell_type": "code",
   "execution_count": null,
   "id": "b474193d",
   "metadata": {},
   "outputs": [],
   "source": [
    "missing_dates = ['200204250000', '200208300000', '200304150000', '200304160000', '200306250000', '200307270000', '200307280000', '200312280000', '200404140000', '200408090000', '200905280000', '201105210000', '202005240000']"
   ]
  },
  {
   "cell_type": "code",
   "execution_count": null,
   "id": "5be5046e",
   "metadata": {},
   "outputs": [],
   "source": [
    "grid_outlook_location = 'data/outlooks/grid_outlooks.nc'\n",
    "grid_outlooks = xr.open_dataset(grid_outlook_location)"
   ]
  },
  {
   "cell_type": "code",
   "execution_count": null,
   "id": "e7125efa",
   "metadata": {},
   "outputs": [
    {
     "ename": "",
     "evalue": "",
     "output_type": "error",
     "traceback": [
      "\u001b[1;31mThe Kernel crashed while executing code in the current cell or a previous cell. \n",
      "\u001b[1;31mPlease review the code in the cell(s) to identify a possible cause of the failure. \n",
      "\u001b[1;31mClick <a href='https://aka.ms/vscodeJupyterKernelCrash'>here</a> for more info. \n",
      "\u001b[1;31mView Jupyter <a href='command:jupyter.viewOutput'>log</a> for further details."
     ]
    }
   ],
   "source": [
    "max_outlooks = grid_outlooks.max(dim = ['x', 'y'])['prob']\n",
    "\n",
    "dates = max_outlooks['time']\n",
    "thresholds = {'': .15,\n",
    "              ' Tornado': .05,\n",
    "              ' Wind': .15,\n",
    "              ' Hail': .15}\n",
    "days = ['Day 3', 'Day 2 7', 'Day 2 17', 'Day 1']\n",
    "hazard_days = ['Day 2 7', 'Day 2 17', 'Day 1']\n",
    "investigate_dates = []\n",
    "for date in dates:\n",
    "    max_outlooks_date = max_outlooks.sel(time = date)\n",
    "    for hazard in ['', ' Tornado', ' Wind', ' Hail']:\n",
    "        if hazard == '':\n",
    "            this_days = days\n",
    "        else:\n",
    "            this_days = hazard_days\n",
    "        outlook_keys = [item + hazard for item in this_days]\n",
    "        max_prob = max_outlooks_date.sel(outlook = outlook_keys).max()\n",
    "        if max_prob >= thresholds[hazard]:\n",
    "            for outlook_key in outlook_keys:\n",
    "                if max_outlooks_date.sel(outlook = outlook_key) == 0 and outlook_key == 'Day 1':\n",
    "                    print(str(date.data) + ' ' + str(outlook_key))\n",
    "                    investigate_dates.append(str(date.data))\n",
    "\n",
    "                \n",
    "\n",
    "print(investigate_dates)"
   ]
  },
  {
   "cell_type": "code",
   "execution_count": null,
   "id": "5d87e431",
   "metadata": {},
   "outputs": [],
   "source": [
    "print(missing_dates)\n",
    "print(investigate_dates)\n",
    "len(investigate_dates)"
   ]
  },
  {
   "cell_type": "code",
   "execution_count": null,
   "id": "12a525df",
   "metadata": {},
   "outputs": [],
   "source": [
    "pph = xr.open_dataset('data/pph/labelled_pph.nc')\n",
    "investigate_pph = pph.sel(time = investigate_dates)"
   ]
  },
  {
   "cell_type": "code",
   "execution_count": null,
   "id": "00cc8b56",
   "metadata": {},
   "outputs": [],
   "source": [
    "mdt_investigate_dates = investigate_pph['MAX_CAT'].isin(['MDT', 'HIGH'])\n",
    "mdt_investigate_dates\n",
    "mdt_investigate_pph = investigate_pph.sel(time = mdt_investigate_dates)\n",
    "mdt_investigate_pph"
   ]
  },
  {
   "cell_type": "markdown",
   "id": "c84b2ae0",
   "metadata": {},
   "source": [
    "Checking in raw data"
   ]
  },
  {
   "cell_type": "code",
   "execution_count": null,
   "id": "ad81b2c7",
   "metadata": {},
   "outputs": [],
   "source": [
    "raw_dir = '~/Downloads'\n",
    "outlook_raw_location = raw_dir + '/outlooks'\n",
    "\n",
    "# Read convective outlooks into outlooks\n",
    "year_list = [[1987, 1991], [1992, 1999], [2000, 2007], [2008, 2015], [2016, 2023]]\n",
    "outlook_list = []\n",
    "\n",
    "for years, i in zip(year_list, range(len(year_list))):\n",
    "    print('reading file ' + str(i) + ', years ' + str(years[0]) + '-' + str(years[1]))\n",
    "    gdf = gp.read_file(outlook_raw_location + '/outlooks_' + str(years[0]) + '01010000_' + str(years[1]) + '12312359')\n",
    "    outlook_list.append(gdf)\n",
    "\n",
    "# Concatenate all GeoDataFrames into one\n",
    "outlooks_original = pd.concat(outlook_list, ignore_index=True)\n",
    "\n",
    "print('files read')\n",
    "    \n",
    "outlooks_original"
   ]
  },
  {
   "cell_type": "code",
   "execution_count": null,
   "id": "49f02522",
   "metadata": {},
   "outputs": [],
   "source": [
    "for date in investigate_dates:\n",
    "    print(date)\n",
    "    print(outlooks_original[(outlooks_original['ISSUE'] == date[0:8] + '1200') & (outlooks_original['DAY'] == 1)]['CYCLE'].unique())\n"
   ]
  },
  {
   "cell_type": "code",
   "execution_count": null,
   "id": "de970953",
   "metadata": {},
   "outputs": [],
   "source": [
    "outlooks_original[(outlooks_original['ISSUE'] == '202005241200')& (outlooks_original['DAY'] == 1)]"
   ]
  },
  {
   "cell_type": "markdown",
   "id": "058ad7cb",
   "metadata": {},
   "source": [
    "Look for dates with day 2 17 but no day 1 6 outlooks--there are a lot more, but with some spot checking they generally seem to have actually happened like this"
   ]
  },
  {
   "cell_type": "code",
   "execution_count": null,
   "id": "07c44e0f",
   "metadata": {},
   "outputs": [],
   "source": [
    "data_location = 'data'\n",
    "# outlooks, pph, reports = read_datasets(data_location)\n",
    "outlook1 = gp.read_file(f\"{data_location}/outlooks/all_outlooks_1.shp\", engine=\"pyogrio\")\n",
    "outlook2 = gp.read_file(f\"{data_location}/outlooks/all_outlooks_2.shp\", engine=\"pyogrio\")\n",
    "outlooks = gp.GeoDataFrame(pd.concat([outlook1, outlook2], ignore_index=True), crs=outlook1.crs)"
   ]
  },
  {
   "cell_type": "code",
   "execution_count": null,
   "id": "a2d80b45",
   "metadata": {},
   "outputs": [],
   "source": [
    "# Pre-filter relevant cycles to speed things up\n",
    "outlook_subset = outlooks[(outlooks['CYCLE'].isin([6, 17])) & outlooks['CATEGORY'].isin(['CATEGORICAL', 'WIND', 'HAIL', 'TORNADO'])]\n",
    "\n",
    "# Create a pivot table with counts of each cycle per (CATEGORY, DATE)\n",
    "pivot = outlook_subset.pivot_table(index=['DATE'], \n",
    "                                   columns='CYCLE', \n",
    "                                   aggfunc='size', \n",
    "                                   fill_value=0)\n",
    "\n",
    "\n",
    "\n",
    "# Check where 17 exists and 6 does not\n",
    "condition =  (pivot.get(17, 0) > 0) & (pivot.get(6, 0) == 0)\n",
    "\n",
    "for date in pivot.index[condition]:\n",
    "    print(date)\n",
    "\n",
    "len(pivot.index[condition])"
   ]
  },
  {
   "cell_type": "code",
   "execution_count": null,
   "id": "42f084a7",
   "metadata": {},
   "outputs": [],
   "source": [
    "['200204250000', '200208300000', '200304150000', '200304160000', '200306250000', '200307270000', '200307280000', '200312280000', '200404140000', '200408090000', '200905280000', '201105210000', '202005240000']"
   ]
  }
 ],
 "metadata": {
  "kernelspec": {
   "display_name": "Python 3",
   "language": "python",
   "name": "python3"
  },
  "language_info": {
   "codemirror_mode": {
    "name": "ipython",
    "version": 3
   },
   "file_extension": ".py",
   "mimetype": "text/x-python",
   "name": "python",
   "nbconvert_exporter": "python",
   "pygments_lexer": "ipython3",
   "version": "3.10.11"
  }
 },
 "nbformat": 4,
 "nbformat_minor": 5
}
