{
 "cells": [
  {
   "cell_type": "code",
   "execution_count": null,
   "metadata": {},
   "outputs": [],
   "source": [
    "import xarray as xr\n",
    "import numpy as np\n",
    "import matplotlib.pyplot as plt\n",
    "from utils_datetime import *\n",
    "from utils_filter import *\n",
    "from sklearn.calibration import calibration_curve"
   ]
  },
  {
   "cell_type": "code",
   "execution_count": null,
   "metadata": {},
   "outputs": [],
   "source": [
    "pph = xr.load_dataset('data/pph/labelled_pph.nc')\n",
    "grid_outlooks = xr.load_dataset('data/outlooks/grid_outlooks.nc')"
   ]
  },
  {
   "cell_type": "code",
   "execution_count": null,
   "metadata": {},
   "outputs": [],
   "source": [
    "missing_dates = ['200204250000', '200208300000', '200304150000', '200304160000', '200306250000', '200307270000', '200307280000', '200312280000', '200404140000', '200408090000', '200905280000', '201105210000', '202005240000']\n",
    "pph = pph.sel(time=~pph['time'].isin(missing_dates))\n",
    "grid_outlooks = grid_outlooks.sel(time=~grid_outlooks['time'].isin(missing_dates))\n",
    "\n",
    "day3_dates = pph['time'][pph['time'] >= '200203300000']\n",
    "pph = pph.sel(time = day3_dates)\n",
    "grid_outlooks = grid_outlooks.sel(time = day3_dates)\n",
    "\n",
    "mdt_dates = pph['time'][pph['MAX_CAT'].isin(['MDT', 'HIGH'])]\n",
    "mdt_pph = pph.sel(time = mdt_dates)\n",
    "mdt_outlooks = grid_outlooks.sel(time = mdt_dates)"
   ]
  },
  {
   "cell_type": "code",
   "execution_count": null,
   "metadata": {},
   "outputs": [],
   "source": [
    "mod = False\n",
    "if mod:\n",
    "    curr_pph = mdt_pph\n",
    "    curr_outlooks = mdt_outlooks\n",
    "else:\n",
    "    curr_pph = pph\n",
    "    curr_outlooks = grid_outlooks"
   ]
  },
  {
   "cell_type": "code",
   "execution_count": null,
   "metadata": {},
   "outputs": [],
   "source": [
    "pph_key_dict = {\n",
    "    'Wind': 'p_perfect_wind',\n",
    "    'Hail': 'p_perfect_hail',\n",
    "    'Tornado': 'p_perfect_tor',\n",
    "    'All Hazard': 'p_perfect_totalsvr'\n",
    "}\n",
    "\n",
    "outlook_key_dict = {\n",
    "    'Wind': 'Day 1 Wind',\n",
    "    'Hail': 'Day 1 Hail',\n",
    "    'Tornado': 'Day 1 Tornado',\n",
    "    'All Hazard': 'Day 1'\n",
    "}\n",
    "\n",
    "time_periods = ['2002_2006', '2007_2011', '2012_2016', '2017_2023']\n",
    "\n",
    "hazards = ['Wind', 'Hail', 'Tornado', 'All Hazard']"
   ]
  },
  {
   "cell_type": "code",
   "execution_count": null,
   "metadata": {},
   "outputs": [],
   "source": [
    "def make_calibration_curve(pph_probs, outlook_probs, title, labels, colors, show = True, save = False, save_title = None, counts = False):\n",
    "    plt.figure(figsize=(8, 6))\n",
    "    plt.plot([0, 1], [0, 1], 'k--')\n",
    "    \n",
    "\n",
    "    plt.xlabel('Outlook Probability')\n",
    "    plt.ylabel('PPH Probability')\n",
    "    plt.title(title)\n",
    "\n",
    "    m = 0\n",
    "    \n",
    "    for i, (pph_prob, outlook_prob) in enumerate(zip(pph_probs, outlook_probs)):\n",
    "        flat_outlook = outlook_prob.values.flatten()\n",
    "        flat_pph = pph_prob.values.flatten()\n",
    "\n",
    "        # Find the unique predicted values and the indices for grouping\n",
    "        unique_vals, inverse_indices = np.unique(flat_outlook, return_inverse=True)\n",
    "\n",
    "        # Compute the sum and count for each unique predicted value\n",
    "        sum_pph = np.bincount(inverse_indices, weights=flat_pph)\n",
    "        count_pph = np.bincount(inverse_indices)\n",
    "\n",
    "        # Calculate the mean pph_prob for each unique outlook probability\n",
    "        mean_pph = sum_pph / count_pph\n",
    "\n",
    "        # Plot the calibration curve: x-axis: unique predicted values; y-axis: mean pph_prob\n",
    "        \n",
    "        plt.plot(unique_vals, mean_pph, marker='o', linestyle='-', label = labels[i], color = colors[i])\n",
    "        \n",
    "        if max(max(unique_vals), max(mean_pph)) > m:\n",
    "            m = max(max(unique_vals), max(mean_pph))\n",
    "\n",
    "        if counts:\n",
    "            for i, count in enumerate(count_pph):\n",
    "                if i == 0:\n",
    "                    plt.annotate(count, (unique_vals[i]+.01, mean_pph[i]+.01))\n",
    "                else:\n",
    "                    plt.annotate(count, (unique_vals[i]+.01, mean_pph[i]-.01))\n",
    "\n",
    "    print(mean_pph[0])\n",
    "\n",
    "    plt.xlim(0, m + .1)\n",
    "    plt.ylim(0, m + .1)\n",
    "    plt.legend()   \n",
    "    \n",
    "    if save:\n",
    "        plt.savefig('plots/calibration/' + save_title + '.pdf')\n",
    "    if show: \n",
    "        plt.show()\n",
    "    "
   ]
  },
  {
   "cell_type": "code",
   "execution_count": null,
   "metadata": {},
   "outputs": [],
   "source": [
    "for haz in hazards:\n",
    "    pph_probs = []\n",
    "    outlook_probs = []\n",
    "    labels = []\n",
    "    colors = []\n",
    "    greys = np.linspace(.7, 0, len(time_periods))\n",
    "    for i, time_period in enumerate(time_periods):\n",
    "        if time_period != 'all':\n",
    "            year1 = time_period.split('_')[0]\n",
    "            year2 = time_period.split('_')[1]\n",
    "            this_pph = curr_pph.sel(time = (curr_pph['time'] >= year1 + '01010000') & (curr_pph['time'] <= year2 + '12312359'))\n",
    "            this_outlooks = curr_outlooks.sel(time = (curr_outlooks['time'] >= year1 + '01010000') & (curr_outlooks['time'] <= year2 + '12312359'))\n",
    "        else:\n",
    "            year1 = '2002'\n",
    "            year2 = '2023'\n",
    "            this_pph = curr_pph\n",
    "            this_outlooks = curr_outlooks\n",
    "        pph_probs.append(this_pph[pph_key_dict[haz]] / 100)\n",
    "        outlook_probs.append(this_outlooks.sel(outlook = outlook_key_dict[haz])['prob'])\n",
    "        labels.append(year1 + ' - ' + year2)\n",
    "        colors.append(str(greys[i]))\n",
    "    make_calibration_curve(pph_probs, outlook_probs, haz + ' Calibration Curve Over Time', labels, colors, save = True, save_title = 'calibration_curve_' + haz + '_over_time' + ('_mdt' if mod else '_all'))\n",
    "\n",
    "    make_calibration_curve([curr_pph[pph_key_dict[haz]] / 100], [curr_outlooks.sel(outlook = outlook_key_dict[haz])['prob']], haz + ' Overall Calibration Curve', [None], ['blue'], save = True, save_title = ('calibration_curve_' + haz + ('_mdt' if mod else '_all')), counts = True)\n"
   ]
  },
  {
   "cell_type": "code",
   "execution_count": null,
   "metadata": {},
   "outputs": [],
   "source": []
  }
 ],
 "metadata": {
  "kernelspec": {
   "display_name": "Python 3",
   "language": "python",
   "name": "python3"
  },
  "language_info": {
   "codemirror_mode": {
    "name": "ipython",
    "version": 3
   },
   "file_extension": ".py",
   "mimetype": "text/x-python",
   "name": "python",
   "nbconvert_exporter": "python",
   "pygments_lexer": "ipython3",
   "version": "3.10.11"
  }
 },
 "nbformat": 4,
 "nbformat_minor": 2
}
