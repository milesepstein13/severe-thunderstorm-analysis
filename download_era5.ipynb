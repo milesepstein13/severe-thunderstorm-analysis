{
 "cells": [
  {
   "cell_type": "code",
   "execution_count": 1,
   "metadata": {},
   "outputs": [],
   "source": [
    "from utils_environment import *\n",
    "\n",
    "import cdsapi\n",
    "c = cdsapi.Client()\n",
    "\n",
    "# file will download all desired environmental data by calling request_era5_days for relevant days with relevant inputs\n",
    "\n"
   ]
  },
  {
   "cell_type": "code",
   "execution_count": 4,
   "metadata": {},
   "outputs": [],
   "source": [
    "# Sample definitions\n",
    "sw_area = [37, -95, 30, -80] # large portion of SW US\n",
    "single_variable = [\n",
    "                '100m_u_component_of_wind', '100m_v_component_of_wind', '10m_u_component_of_wind',\n",
    "                '10m_v_component_of_wind', '2m_dewpoint_temperature', '2m_temperature',\n",
    "                'convective_available_potential_energy', 'surface_pressure',\n",
    "            ]\n",
    "pressure_variable = [\n",
    "            'geopotential', 'specific_humidity', 'u_component_of_wind',\n",
    "            'v_component_of_wind', 'vertical_velocity', 'temperature'\n",
    "        ]\n",
    "pressure_level = [\n",
    "            '1', '2', '3',\n",
    "            '5', '7', '10',\n",
    "            '20', '30', '50',\n",
    "            '70', '100', '125',\n",
    "            '150', '175', '200',\n",
    "            '225', '250', '300',\n",
    "            '350', '400', '450',\n",
    "            '500', '550', '600',\n",
    "            '650', '700', '750',\n",
    "            '775', '800', '825',\n",
    "            '850', '875', '900',\n",
    "            '925', '950', '975',\n",
    "            '1000',\n",
    "        ]\n",
    "datestring = '201104270000'\n",
    "times = [\n",
    "            '00:00', '06:00', '12:00',\n",
    "            '18:00',\n",
    "        ]\n",
    "save_location = 'data/era5/test'\n"
   ]
  },
  {
   "cell_type": "code",
   "execution_count": 5,
   "metadata": {},
   "outputs": [
    {
     "name": "stdout",
     "output_type": "stream",
     "text": [
      "Requesting Single Level\n"
     ]
    },
    {
     "name": "stderr",
     "output_type": "stream",
     "text": [
      "2024-06-28 10:25:15,899 INFO Welcome to the CDS\n",
      "2024-06-28 10:25:15,899 INFO Sending request to https://cds.climate.copernicus.eu/api/v2/resources/reanalysis-era5-single-levels\n",
      "2024-06-28 10:25:16,282 INFO Downloading https://download-0003-clone.copernicus-climate.eu/cache-compute-0003/cache/data9/adaptor.mars.internal-1719537616.6449542-12018-4-2918cc83-ea1c-48e4-9834-8f7a3d225dff.nc to data/era5/test/single/201104270000_single.nc (113.7K)\n",
      "2024-06-28 10:25:18,150 INFO Download rate 60.9K/s \n",
      "2024-06-28 10:25:18,554 INFO Welcome to the CDS\n"
     ]
    },
    {
     "name": "stdout",
     "output_type": "stream",
     "text": [
      "Requesting Pressure Levels\n"
     ]
    },
    {
     "name": "stderr",
     "output_type": "stream",
     "text": [
      "2024-06-28 10:25:18,554 INFO Sending request to https://cds.climate.copernicus.eu/api/v2/resources/reanalysis-era5-pressure-levels\n",
      "2024-06-28 10:25:18,868 INFO Request is queued\n",
      "2024-06-28 10:25:20,056 INFO Request is running\n",
      "2024-06-28 10:25:52,777 INFO Request is completed\n",
      "2024-06-28 10:25:52,781 INFO Downloading https://download-0008-clone.copernicus-climate.eu/cache-compute-0008/cache/data6/adaptor.mars.internal-1719595549.7636716-26632-3-f7573307-95cd-4271-965e-6c4a8f852ad0.nc to data/era5/test/pressure/201104270000_pressure.nc (3M)\n",
      "2024-06-28 10:25:56,727 INFO Download rate 778.3K/s \n"
     ]
    },
    {
     "ename": "",
     "evalue": "",
     "output_type": "error",
     "traceback": [
      "\u001b[1;31mThe Kernel crashed while executing code in the current cell or a previous cell. \n",
      "\u001b[1;31mPlease review the code in the cell(s) to identify a possible cause of the failure. \n",
      "\u001b[1;31mClick <a href='https://aka.ms/vscodeJupyterKernelCrash'>here</a> for more info. \n",
      "\u001b[1;31mView Jupyter <a href='command:jupyter.viewOutput'>log</a> for further details."
     ]
    }
   ],
   "source": [
    "# TODO: decdide what variables we want\n",
    "test_area = [36, -90, 33, -85] # single level 1 sec, pressure levels 30 sec\n",
    "request_era5_day(c, sw_area, single_variable, pressure_variable, pressure_level, datestring, times, save_location)"
   ]
  },
  {
   "cell_type": "code",
   "execution_count": null,
   "metadata": {},
   "outputs": [],
   "source": []
  }
 ],
 "metadata": {
  "kernelspec": {
   "display_name": "Python 3",
   "language": "python",
   "name": "python3"
  },
  "language_info": {
   "codemirror_mode": {
    "name": "ipython",
    "version": 3
   },
   "file_extension": ".py",
   "mimetype": "text/x-python",
   "name": "python",
   "nbconvert_exporter": "python",
   "pygments_lexer": "ipython3",
   "version": "3.10.11"
  }
 },
 "nbformat": 4,
 "nbformat_minor": 2
}
