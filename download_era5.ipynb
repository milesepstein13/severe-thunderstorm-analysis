{
 "cells": [
  {
   "cell_type": "code",
   "execution_count": 4,
   "metadata": {},
   "outputs": [
    {
     "name": "stderr",
     "output_type": "stream",
     "text": [
      "2025-01-26 13:36:15,827 INFO [2024-09-28T00:00:00] **Welcome to the New Climate Data Store (CDS)!** This new system is in its early days of full operations and still undergoing enhancements and fine tuning. Some disruptions are to be expected. Your \n",
      "[feedback](https://jira.ecmwf.int/plugins/servlet/desk/portal/1/create/202) is key to improve the user experience on the new CDS for the benefit of everyone. Thank you.\n",
      "2025-01-26 13:36:15,827 INFO [2024-09-26T00:00:00] Watch our [Forum](https://forum.ecmwf.int/) for Announcements, news and other discussed topics.\n",
      "2025-01-26 13:36:15,827 INFO [2024-09-16T00:00:00] Remember that you need to have an ECMWF account to use the new CDS. **Your old CDS credentials will not work in new CDS!**\n",
      "2025-01-26 13:36:15,827 WARNING [2024-06-16T00:00:00] CDS API syntax is changed and some keys or parameter names may have also changed. To avoid requests failing, please use the \"Show API request code\" tool on the dataset Download Form to check you are using the correct syntax for your API request.\n"
     ]
    }
   ],
   "source": [
    "from utils_environment import *\n",
    "\n",
    "import cdsapi\n",
    "c = cdsapi.Client()\n",
    "\n",
    "# file will download all desired environmental data by calling request_era5_days for relevant days with relevant inputs\n",
    "\n"
   ]
  },
  {
   "cell_type": "code",
   "execution_count": 5,
   "metadata": {},
   "outputs": [],
   "source": [
    "# Sample definitions\n",
    "sw_area = [37, -95, 30, -80] # large portion of SW US\n",
    "single_variable = [\n",
    "                '100m_u_component_of_wind', '100m_v_component_of_wind', '10m_u_component_of_wind',\n",
    "                '10m_v_component_of_wind', '2m_dewpoint_temperature', '2m_temperature',\n",
    "                'convective_available_potential_energy', 'surface_pressure',\n",
    "            ]\n",
    "pressure_variable = [\n",
    "            'geopotential', 'specific_humidity', 'u_component_of_wind',\n",
    "            'v_component_of_wind', 'vertical_velocity', 'temperature'\n",
    "        ]\n",
    "pressure_level = [\n",
    "            '1', '2', '3',\n",
    "            '5', '7', '10',\n",
    "            '20', '30', '50',\n",
    "            '70', '100', '125',\n",
    "            '150', '175', '200',\n",
    "            '225', '250', '300',\n",
    "            '350', '400', '450',\n",
    "            '500', '550', '600',\n",
    "            '650', '700', '750',\n",
    "            '775', '800', '825',\n",
    "            '850', '875', '900',\n",
    "            '925', '950', '975',\n",
    "            '1000',\n",
    "        ]\n",
    "datestring = '201104270000'\n",
    "times = [\n",
    "            '00:00', '06:00', '12:00',\n",
    "            '18:00',\n",
    "        ]\n",
    "save_location = 'data/era5/test'\n"
   ]
  },
  {
   "cell_type": "code",
   "execution_count": 8,
   "metadata": {},
   "outputs": [
    {
     "name": "stdout",
     "output_type": "stream",
     "text": [
      "{'product_type': 'reanalysis', 'format': 'netcdf', 'area': [36, -90, 33, -85], 'variable': ['100m_u_component_of_wind', '100m_v_component_of_wind', '10m_u_component_of_wind', '10m_v_component_of_wind', '2m_dewpoint_temperature', '2m_temperature', 'convective_available_potential_energy', 'surface_pressure'], 'year': '2011', 'month': '04', 'day': '27', 'time': ['00:00', '06:00', '12:00', '18:00']}\n",
      "Requesting Single Level\n",
      "<datapi.legacy_api_client.LegacyApiClient object at 0x00000235AD8B3610>\n"
     ]
    },
    {
     "name": "stderr",
     "output_type": "stream",
     "text": [
      "2025-01-26 13:39:17,923 INFO [2025-01-09T00:00:00] Please be aware that ERA5 data from 1st January 2025 was degraded and is being corrected. Watch the [Forum announcement](https://forum.ecmwf.int/t/era5-data-from-1st-january-2025-was-degraded-and-is-being-corrected/10689) for updates.\n",
      "2025-01-26 13:39:17,923 INFO Request ID is cb7b43fd-08c9-41bf-ac8a-a31ced1855ff\n",
      "2025-01-26 13:39:18,418 INFO status has been updated to accepted\n",
      "2025-01-26 13:39:21,594 INFO status has been updated to running\n",
      "2025-01-26 13:39:24,118 INFO status has been updated to successful\n"
     ]
    },
    {
     "data": {
      "application/vnd.jupyter.widget-view+json": {
       "model_id": "c9955be692324592aaef30427df076c3",
       "version_major": 2,
       "version_minor": 0
      },
      "text/plain": [
       "80acc6525043dbb9e973e50b7874279.nc:   0%|          | 0.00/106k [00:00<?, ?B/s]"
      ]
     },
     "metadata": {},
     "output_type": "display_data"
    },
    {
     "name": "stdout",
     "output_type": "stream",
     "text": [
      "Requesting Pressure Levels\n"
     ]
    },
    {
     "name": "stderr",
     "output_type": "stream",
     "text": [
      "2025-01-26 13:39:29,267 INFO [2025-01-09T00:00:00] Please be aware that ERA5 data from 1st January 2025 was degraded and is being corrected. Watch the [Forum announcement](https://forum.ecmwf.int/t/era5-data-from-1st-january-2025-was-degraded-and-is-being-corrected/10689) for updates.\n",
      "2025-01-26 13:39:29,269 INFO Request ID is bb0918cd-2695-4301-bcb8-af6f5ef045f8\n",
      "2025-01-26 13:39:29,523 INFO status has been updated to accepted\n",
      "2025-01-26 13:39:35,173 INFO status has been updated to running\n",
      "2025-01-26 13:40:21,256 INFO status has been updated to successful\n"
     ]
    },
    {
     "data": {
      "application/vnd.jupyter.widget-view+json": {
       "model_id": "0eccd29e4d134fb4aaff8dd9c06f0002",
       "version_major": 2,
       "version_minor": 0
      },
      "text/plain": [
       "53de72890765f7512076d85b3796a469.nc:   0%|          | 0.00/588k [00:00<?, ?B/s]"
      ]
     },
     "metadata": {},
     "output_type": "display_data"
    }
   ],
   "source": [
    "# TODO: decdide what variables we want\n",
    "test_area = [36, -90, 33, -85] # single level 1 sec, pressure levels 30 sec\n",
    "request_era5_day(c, test_area, single_variable, pressure_variable, pressure_level, datestring, times, 'data/era5/small_test')"
   ]
  },
  {
   "cell_type": "code",
   "execution_count": null,
   "metadata": {},
   "outputs": [],
   "source": []
  }
 ],
 "metadata": {
  "kernelspec": {
   "display_name": "Python 3",
   "language": "python",
   "name": "python3"
  },
  "language_info": {
   "codemirror_mode": {
    "name": "ipython",
    "version": 3
   },
   "file_extension": ".py",
   "mimetype": "text/x-python",
   "name": "python",
   "nbconvert_exporter": "python",
   "pygments_lexer": "ipython3",
   "version": "3.10.11"
  }
 },
 "nbformat": 4,
 "nbformat_minor": 2
}
