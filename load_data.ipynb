{
 "cells": [
  {
   "cell_type": "markdown",
   "metadata": {},
   "source": [
    "Getting familiar with all CO and PPH data"
   ]
  },
  {
   "cell_type": "code",
   "execution_count": 2,
   "metadata": {},
   "outputs": [],
   "source": [
    "import numpy as np\n",
    "import geopandas as gp\n",
    "import shapely as sp\n",
    "import matplotlib.pyplot as plt\n",
    "import contextily as cx\n",
    "import cartopy as cp\n",
    "from datetime import datetime as dt\n",
    "from datetime import timedelta\n",
    "import xarray as xr\n",
    "import pandas as pd\n",
    "import re\n",
    "import os\n",
    "from utils_filter import *\n",
    "from utils_datetime import *"
   ]
  },
  {
   "cell_type": "code",
   "execution_count": 30,
   "metadata": {},
   "outputs": [],
   "source": [
    "outlook_raw_location = 'raw_data/outlooks'\n",
    "report_raw_location = 'raw_data/storm_reports'\n",
    "pph_raw_location = 'raw_data/pph'\n",
    "outlook_save_location = 'data/outlooks'\n",
    "report_save_location = 'data/storm_reports'\n",
    "pph_save_location = 'data/pph'"
   ]
  },
  {
   "cell_type": "markdown",
   "metadata": {},
   "source": [
    "# Read in Convective outlooks and filter moderate days"
   ]
  },
  {
   "cell_type": "code",
   "execution_count": 31,
   "metadata": {},
   "outputs": [
    {
     "name": "stdout",
     "output_type": "stream",
     "text": [
      "reading file 0, years 1987-1991\n",
      "reading file 1, years 1992-1999\n"
     ]
    },
    {
     "name": "stderr",
     "output_type": "stream",
     "text": [
      "C:\\Users\\miles\\AppData\\Local\\Temp\\ipykernel_20944\\2443588550.py:8: FutureWarning: The frame.append method is deprecated and will be removed from pandas in a future version. Use pandas.concat instead.\n",
      "  outlooks_original = outlooks_original.append(gp.read_file(outlook_raw_location + '/outlooks_' + str(years[0]) + '01010000_' + str(years[1]) + '12312359'))\n"
     ]
    },
    {
     "name": "stdout",
     "output_type": "stream",
     "text": [
      "reading file 2, years 2000-2007\n"
     ]
    },
    {
     "name": "stderr",
     "output_type": "stream",
     "text": [
      "C:\\Users\\miles\\AppData\\Local\\Temp\\ipykernel_20944\\2443588550.py:8: FutureWarning: The frame.append method is deprecated and will be removed from pandas in a future version. Use pandas.concat instead.\n",
      "  outlooks_original = outlooks_original.append(gp.read_file(outlook_raw_location + '/outlooks_' + str(years[0]) + '01010000_' + str(years[1]) + '12312359'))\n"
     ]
    },
    {
     "name": "stdout",
     "output_type": "stream",
     "text": [
      "reading file 3, years 2008-2015\n"
     ]
    },
    {
     "name": "stderr",
     "output_type": "stream",
     "text": [
      "C:\\Users\\miles\\AppData\\Local\\Temp\\ipykernel_20944\\2443588550.py:8: FutureWarning: The frame.append method is deprecated and will be removed from pandas in a future version. Use pandas.concat instead.\n",
      "  outlooks_original = outlooks_original.append(gp.read_file(outlook_raw_location + '/outlooks_' + str(years[0]) + '01010000_' + str(years[1]) + '12312359'))\n"
     ]
    },
    {
     "name": "stdout",
     "output_type": "stream",
     "text": [
      "reading file 4, years 2016-2023\n"
     ]
    },
    {
     "name": "stderr",
     "output_type": "stream",
     "text": [
      "C:\\Users\\miles\\AppData\\Local\\Temp\\ipykernel_20944\\2443588550.py:8: FutureWarning: The frame.append method is deprecated and will be removed from pandas in a future version. Use pandas.concat instead.\n",
      "  outlooks_original = outlooks_original.append(gp.read_file(outlook_raw_location + '/outlooks_' + str(years[0]) + '01010000_' + str(years[1]) + '12312359'))\n"
     ]
    },
    {
     "name": "stdout",
     "output_type": "stream",
     "text": [
      "files read\n"
     ]
    },
    {
     "data": {
      "text/html": [
       "<div>\n",
       "<style scoped>\n",
       "    .dataframe tbody tr th:only-of-type {\n",
       "        vertical-align: middle;\n",
       "    }\n",
       "\n",
       "    .dataframe tbody tr th {\n",
       "        vertical-align: top;\n",
       "    }\n",
       "\n",
       "    .dataframe thead th {\n",
       "        text-align: right;\n",
       "    }\n",
       "</style>\n",
       "<table border=\"1\" class=\"dataframe\">\n",
       "  <thead>\n",
       "    <tr style=\"text-align: right;\">\n",
       "      <th></th>\n",
       "      <th>ISSUE</th>\n",
       "      <th>EXPIRE</th>\n",
       "      <th>PRODISS</th>\n",
       "      <th>TYPE</th>\n",
       "      <th>DAY</th>\n",
       "      <th>THRESHOLD</th>\n",
       "      <th>CATEGORY</th>\n",
       "      <th>CYCLE</th>\n",
       "      <th>geometry</th>\n",
       "    </tr>\n",
       "  </thead>\n",
       "  <tbody>\n",
       "    <tr>\n",
       "      <th>0</th>\n",
       "      <td>198701011200</td>\n",
       "      <td>198701021200</td>\n",
       "      <td>198701010635</td>\n",
       "      <td>C</td>\n",
       "      <td>1</td>\n",
       "      <td>TSTM</td>\n",
       "      <td>CATEGORICAL</td>\n",
       "      <td>-1</td>\n",
       "      <td>MULTIPOLYGON (((-80.69500 29.36500, -80.68200 ...</td>\n",
       "    </tr>\n",
       "    <tr>\n",
       "      <th>1</th>\n",
       "      <td>198701011500</td>\n",
       "      <td>198701021200</td>\n",
       "      <td>198701011441</td>\n",
       "      <td>C</td>\n",
       "      <td>1</td>\n",
       "      <td>TSTM</td>\n",
       "      <td>CATEGORICAL</td>\n",
       "      <td>-1</td>\n",
       "      <td>POLYGON ((-70.15100 42.90900, -70.14600 42.899...</td>\n",
       "    </tr>\n",
       "    <tr>\n",
       "      <th>2</th>\n",
       "      <td>198701011900</td>\n",
       "      <td>198701021200</td>\n",
       "      <td>198701011849</td>\n",
       "      <td>C</td>\n",
       "      <td>1</td>\n",
       "      <td>TSTM</td>\n",
       "      <td>CATEGORICAL</td>\n",
       "      <td>-1</td>\n",
       "      <td>POLYGON ((-73.73200 39.90700, -73.73200 39.892...</td>\n",
       "    </tr>\n",
       "    <tr>\n",
       "      <th>3</th>\n",
       "      <td>198701021200</td>\n",
       "      <td>198701031200</td>\n",
       "      <td>198701020637</td>\n",
       "      <td>C</td>\n",
       "      <td>1</td>\n",
       "      <td>TSTM</td>\n",
       "      <td>CATEGORICAL</td>\n",
       "      <td>-1</td>\n",
       "      <td>POLYGON ((-124.43300 41.91800, -124.44100 41.9...</td>\n",
       "    </tr>\n",
       "    <tr>\n",
       "      <th>4</th>\n",
       "      <td>198701031200</td>\n",
       "      <td>198701041200</td>\n",
       "      <td>198701020725</td>\n",
       "      <td>C</td>\n",
       "      <td>2</td>\n",
       "      <td>None</td>\n",
       "      <td>None</td>\n",
       "      <td>-1</td>\n",
       "      <td>None</td>\n",
       "    </tr>\n",
       "    <tr>\n",
       "      <th>...</th>\n",
       "      <td>...</td>\n",
       "      <td>...</td>\n",
       "      <td>...</td>\n",
       "      <td>...</td>\n",
       "      <td>...</td>\n",
       "      <td>...</td>\n",
       "      <td>...</td>\n",
       "      <td>...</td>\n",
       "      <td>...</td>\n",
       "    </tr>\n",
       "    <tr>\n",
       "      <th>118483</th>\n",
       "      <td>202401021200</td>\n",
       "      <td>202401031200</td>\n",
       "      <td>202312310815</td>\n",
       "      <td>C</td>\n",
       "      <td>3</td>\n",
       "      <td>TSTM</td>\n",
       "      <td>CATEGORICAL</td>\n",
       "      <td>8</td>\n",
       "      <td>POLYGON ((-90.74500 28.71100, -91.08300 28.732...</td>\n",
       "    </tr>\n",
       "    <tr>\n",
       "      <th>118484</th>\n",
       "      <td>202312311300</td>\n",
       "      <td>202401011200</td>\n",
       "      <td>202312311236</td>\n",
       "      <td>C</td>\n",
       "      <td>1</td>\n",
       "      <td>None</td>\n",
       "      <td>None</td>\n",
       "      <td>13</td>\n",
       "      <td>None</td>\n",
       "    </tr>\n",
       "    <tr>\n",
       "      <th>118485</th>\n",
       "      <td>202312311630</td>\n",
       "      <td>202401011200</td>\n",
       "      <td>202312311558</td>\n",
       "      <td>C</td>\n",
       "      <td>1</td>\n",
       "      <td>None</td>\n",
       "      <td>None</td>\n",
       "      <td>16</td>\n",
       "      <td>None</td>\n",
       "    </tr>\n",
       "    <tr>\n",
       "      <th>118486</th>\n",
       "      <td>202401011200</td>\n",
       "      <td>202401021200</td>\n",
       "      <td>202312311712</td>\n",
       "      <td>C</td>\n",
       "      <td>2</td>\n",
       "      <td>None</td>\n",
       "      <td>None</td>\n",
       "      <td>17</td>\n",
       "      <td>None</td>\n",
       "    </tr>\n",
       "    <tr>\n",
       "      <th>118487</th>\n",
       "      <td>202312312000</td>\n",
       "      <td>202401011200</td>\n",
       "      <td>202312311950</td>\n",
       "      <td>C</td>\n",
       "      <td>1</td>\n",
       "      <td>None</td>\n",
       "      <td>None</td>\n",
       "      <td>20</td>\n",
       "      <td>None</td>\n",
       "    </tr>\n",
       "  </tbody>\n",
       "</table>\n",
       "<p>366371 rows × 9 columns</p>\n",
       "</div>"
      ],
      "text/plain": [
       "               ISSUE        EXPIRE       PRODISS TYPE  DAY THRESHOLD  \\\n",
       "0       198701011200  198701021200  198701010635    C    1      TSTM   \n",
       "1       198701011500  198701021200  198701011441    C    1      TSTM   \n",
       "2       198701011900  198701021200  198701011849    C    1      TSTM   \n",
       "3       198701021200  198701031200  198701020637    C    1      TSTM   \n",
       "4       198701031200  198701041200  198701020725    C    2      None   \n",
       "...              ...           ...           ...  ...  ...       ...   \n",
       "118483  202401021200  202401031200  202312310815    C    3      TSTM   \n",
       "118484  202312311300  202401011200  202312311236    C    1      None   \n",
       "118485  202312311630  202401011200  202312311558    C    1      None   \n",
       "118486  202401011200  202401021200  202312311712    C    2      None   \n",
       "118487  202312312000  202401011200  202312311950    C    1      None   \n",
       "\n",
       "           CATEGORY  CYCLE                                           geometry  \n",
       "0       CATEGORICAL     -1  MULTIPOLYGON (((-80.69500 29.36500, -80.68200 ...  \n",
       "1       CATEGORICAL     -1  POLYGON ((-70.15100 42.90900, -70.14600 42.899...  \n",
       "2       CATEGORICAL     -1  POLYGON ((-73.73200 39.90700, -73.73200 39.892...  \n",
       "3       CATEGORICAL     -1  POLYGON ((-124.43300 41.91800, -124.44100 41.9...  \n",
       "4              None     -1                                               None  \n",
       "...             ...    ...                                                ...  \n",
       "118483  CATEGORICAL      8  POLYGON ((-90.74500 28.71100, -91.08300 28.732...  \n",
       "118484         None     13                                               None  \n",
       "118485         None     16                                               None  \n",
       "118486         None     17                                               None  \n",
       "118487         None     20                                               None  \n",
       "\n",
       "[366371 rows x 9 columns]"
      ]
     },
     "execution_count": 31,
     "metadata": {},
     "output_type": "execute_result"
    }
   ],
   "source": [
    "# Read convective outlooks into outlooks\n",
    "year_list = [[1987, 1991], [1992, 1999], [2000, 2007], [2008, 2015], [2016, 2023]]\n",
    "for years, i in zip(year_list, range(len(year_list))):\n",
    "    print('reading file ' + str(i) + ', years ' + str(years[0]) +'-' + str(years[1]))\n",
    "    if i == 0:\n",
    "        outlooks_original = gp.read_file(outlook_raw_location + '/outlooks_' + str(years[0]) + '01010000_' + str(years[1]) + '12312359')\n",
    "    else:\n",
    "        outlooks_original = outlooks_original.append(gp.read_file(outlook_raw_location + '/outlooks_' + str(years[0]) + '01010000_' + str(years[1]) + '12312359'))\n",
    "print('files read')\n",
    "    \n",
    "outlooks_original\n",
    "\n"
   ]
  },
  {
   "cell_type": "code",
   "execution_count": 33,
   "metadata": {},
   "outputs": [],
   "source": [
    "# make dates datetime\n",
    "outlooks = outlooks_original\n",
    "outlooks['ISSUE'] = parse_datetime(outlooks['ISSUE'])\n",
    "outlooks['EXPIRE'] = parse_datetime(outlooks['EXPIRE'])\n",
    "outlooks['PRODISS'] = parse_datetime(outlooks['PRODISS'])"
   ]
  },
  {
   "cell_type": "code",
   "execution_count": 34,
   "metadata": {},
   "outputs": [],
   "source": [
    "# add column with just valid date\n",
    "outlooks['DATE'] = create_dates(outlooks['EXPIRE'], -1)\n",
    "\n",
    "# identify dates with MDT\n",
    "mod_dates = identify_dates_above_threshold(outlooks, 'MDT')"
   ]
  },
  {
   "cell_type": "code",
   "execution_count": 35,
   "metadata": {},
   "outputs": [
    {
     "data": {
      "text/plain": [
       "(array([36., 40., 67., 75., 64., 70., 73., 57., 82., 71., 59., 64., 55.,\n",
       "        65., 58., 61., 60., 46., 54., 48., 33., 50., 32., 28., 38., 23.,\n",
       "        21., 20., 12., 10., 17., 13., 13., 10., 14., 27.]),\n",
       " array([1987., 1988., 1989., 1990., 1991., 1992., 1993., 1994., 1995.,\n",
       "        1996., 1997., 1998., 1999., 2000., 2001., 2002., 2003., 2004.,\n",
       "        2005., 2006., 2007., 2008., 2009., 2010., 2011., 2012., 2013.,\n",
       "        2014., 2015., 2016., 2017., 2018., 2019., 2020., 2021., 2022.,\n",
       "        2023.]),\n",
       " <BarContainer object of 36 artists>)"
      ]
     },
     "execution_count": 35,
     "metadata": {},
     "output_type": "execute_result"
    },
    {
     "data": {
      "image/png": "[encoded data removed]",
      "text/plain": [
       "<Figure size 640x480 with 1 Axes>"
      ]
     },
     "metadata": {},
     "output_type": "display_data"
    }
   ],
   "source": [
    "# Plot number of MDT days by year\n",
    "years_of_mdt = get_years(mod_dates)\n",
    "plt.hist(years_of_mdt, bins=range(min(years_of_mdt), max(years_of_mdt) + 1, 1))"
   ]
  },
  {
   "cell_type": "code",
   "execution_count": 36,
   "metadata": {},
   "outputs": [
    {
     "name": "stderr",
     "output_type": "stream",
     "text": [
      "C:\\Users\\miles\\AppData\\Local\\Packages\\PythonSoftwareFoundation.Python.3.10_qbz5n2kfra8p0\\LocalCache\\local-packages\\Python310\\site-packages\\geopandas\\geodataframe.py:1543: SettingWithCopyWarning: \n",
      "A value is trying to be set on a copy of a slice from a DataFrame.\n",
      "Try using .loc[row_indexer,col_indexer] = value instead\n",
      "\n",
      "See the caveats in the documentation: https://pandas.pydata.org/pandas-docs/stable/user_guide/indexing.html#returning-a-view-versus-a-copy\n",
      "  super().__setitem__(key, value)\n"
     ]
    }
   ],
   "source": [
    "# dataframe containing only outlooks for days in which there was a MDT risk\n",
    "mdt_outlooks = outlooks[outlooks['DATE'].isin(mod_dates)]\n",
    "\n",
    "# convert datetimes back to strings\n",
    "outlooks = revert_all_datetimes(outlooks)\n",
    "mdt_outlooks = revert_all_datetimes(mdt_outlooks)\n",
    "\n",
    "# save dataframes\n",
    "outlooks.iloc[:int(len(outlooks)/2)].to_file(outlook_save_location + '/all_outlooks_1.shp')\n",
    "outlooks.iloc[int(len(outlooks)/2)+1:].to_file(outlook_save_location + '/all_outlooks_2.shp')\n",
    "mdt_outlooks.to_file(outlook_save_location + '/mdt_outlooks.shp')\n"
   ]
  },
  {
   "cell_type": "markdown",
   "metadata": {},
   "source": [
    "# Now read, combine, filter (to mdt), and save PPH data"
   ]
  },
  {
   "cell_type": "code",
   "execution_count": 41,
   "metadata": {},
   "outputs": [
    {
     "name": "stdout",
     "output_type": "stream",
     "text": [
      "reading in wind pph\n",
      "reading in sig_wind pph\n",
      "reading in hail pph\n",
      "reading in sig_hail pph\n",
      "reading in tor pph\n",
      "reading in sig_tor pph\n"
     ]
    }
   ],
   "source": [
    "hazard_types = ['wind', 'sig_wind', 'hail', 'sig_hail', 'tor', 'sig_tor']\n",
    "for hazard, i in zip(hazard_types, range(len(hazard_types))):\n",
    "    print('reading in ' + hazard + ' pph')\n",
    "    if i == 0:\n",
    "        pph_data = xr.open_dataset(pph_raw_location + '/pper_' + hazard + '_1979_2019.nc')\n",
    "    else:\n",
    "        new_data = xr.open_dataset(pph_raw_location + '/pper_' + hazard + '_1979_2019.nc')\n",
    "        pph_data = xr.merge([pph_data, new_data])\n",
    "\n",
    "\n"
   ]
  },
  {
   "cell_type": "code",
   "execution_count": 130,
   "metadata": {},
   "outputs": [],
   "source": [
    "# select pph data on days with mdt risk\n",
    "pph_data_mod = pph_data.sel(time=pph_data.time.dt.date.isin(mod_dates.tolist()))"
   ]
  },
  {
   "cell_type": "code",
   "execution_count": 132,
   "metadata": {},
   "outputs": [],
   "source": [
    "# save full and moderate pph datasets\n",
    "pph_data.to_netcdf(pph_save_location + '/all_pph.nc')\n",
    "pph_data_mod.to_netcdf(pph_save_location + '/mdt_pph.nc')"
   ]
  },
  {
   "cell_type": "markdown",
   "metadata": {},
   "source": [
    "# Read in, combine, filter, and save raw storm reports"
   ]
  },
  {
   "cell_type": "code",
   "execution_count": 194,
   "metadata": {},
   "outputs": [],
   "source": [
    "columns =['STATE', 'EVENT_TYPE', 'CZ_TYPE', 'CZ_NAME', 'CZ_NAME', 'WFO', 'BEGIN_DATE_TIME', 'CZ_TIMEZONE', 'END_DATE_TIME', 'INJURIES_DIRECT', 'INJURIES_INDIRECT', 'DEATHS_DIRECT', 'DEATHS_INDIRECT', 'DAMAGE_PROPERTY', 'DAMAGE_CROPS', 'SOURCE', 'MAGNITUDE', 'MAGNITUDE_TYPE', 'TOR_F_SCALE', 'TOR_LENGTH', 'TOR_WIDTH', 'TOR_OTHER_WFO', 'TOR_OTHER_CZ_STATE', 'TOR_OTHER_CZ_FIPS', 'TOR_OTHER_CZ_NAME', 'BEGIN_RANGE', 'BEGIN_AZIMUTH', 'BEGIN_LOCATION', 'END_RANGE', 'END_AZIMUTH', 'END_LOCATION', 'BEGIN_LAT', 'BEGIN_LON', 'END_LAT', 'END_LON']\n",
    "event_types = ['Funnel Cloud', 'Hail', 'Marine Hail', 'Marine Thunderstorm Wind', 'Thunderstorm Wind', 'Tornado', 'Waterspout']\n",
    "\n",
    "\n"
   ]
  },
  {
   "cell_type": "code",
   "execution_count": 200,
   "metadata": {},
   "outputs": [
    {
     "name": "stdout",
     "output_type": "stream",
     "text": [
      "readingStormEvents_details-ftp_v1.0_d1950_c20210803.csv\n",
      "readingStormEvents_details-ftp_v1.0_d1951_c20210803.csv\n"
     ]
    },
    {
     "name": "stderr",
     "output_type": "stream",
     "text": [
      "C:\\Users\\miles\\AppData\\Local\\Temp\\ipykernel_20944\\957715867.py:12: FutureWarning: The frame.append method is deprecated and will be removed from pandas in a future version. Use pandas.concat instead.\n",
      "  all_reports = all_reports.append(filter_reports(reports, columns, event_types))\n",
      "C:\\Users\\miles\\AppData\\Local\\Temp\\ipykernel_20944\\957715867.py:12: FutureWarning: The frame.append method is deprecated and will be removed from pandas in a future version. Use pandas.concat instead.\n",
      "  all_reports = all_reports.append(filter_reports(reports, columns, event_types))\n"
     ]
    },
    {
     "name": "stdout",
     "output_type": "stream",
     "text": [
      "readingStormEvents_details-ftp_v1.0_d1952_c20210803.csv\n",
      "readingStormEvents_details-ftp_v1.0_d1953_c20210803.csv\n"
     ]
    },
    {
     "name": "stderr",
     "output_type": "stream",
     "text": [
      "C:\\Users\\miles\\AppData\\Local\\Temp\\ipykernel_20944\\957715867.py:12: FutureWarning: The frame.append method is deprecated and will be removed from pandas in a future version. Use pandas.concat instead.\n",
      "  all_reports = all_reports.append(filter_reports(reports, columns, event_types))\n"
     ]
    },
    {
     "name": "stdout",
     "output_type": "stream",
     "text": [
      "readingStormEvents_details-ftp_v1.0_d1954_c20210803.csv\n"
     ]
    },
    {
     "name": "stderr",
     "output_type": "stream",
     "text": [
      "C:\\Users\\miles\\AppData\\Local\\Temp\\ipykernel_20944\\957715867.py:12: FutureWarning: The frame.append method is deprecated and will be removed from pandas in a future version. Use pandas.concat instead.\n",
      "  all_reports = all_reports.append(filter_reports(reports, columns, event_types))\n"
     ]
    },
    {
     "name": "stdout",
     "output_type": "stream",
     "text": [
      "readingStormEvents_details-ftp_v1.0_d1955_c20210803.csv\n"
     ]
    },
    {
     "name": "stderr",
     "output_type": "stream",
     "text": [
      "C:\\Users\\miles\\AppData\\Local\\Temp\\ipykernel_20944\\957715867.py:12: FutureWarning: The frame.append method is deprecated and will be removed from pandas in a future version. Use pandas.concat instead.\n",
      "  all_reports = all_reports.append(filter_reports(reports, columns, event_types))\n"
     ]
    },
    {
     "name": "stdout",
     "output_type": "stream",
     "text": [
      "readingStormEvents_details-ftp_v1.0_d1956_c20210803.csv\n"
     ]
    },
    {
     "name": "stderr",
     "output_type": "stream",
     "text": [
      "C:\\Users\\miles\\AppData\\Local\\Temp\\ipykernel_20944\\957715867.py:12: FutureWarning: The frame.append method is deprecated and will be removed from pandas in a future version. Use pandas.concat instead.\n",
      "  all_reports = all_reports.append(filter_reports(reports, columns, event_types))\n"
     ]
    },
    {
     "name": "stdout",
     "output_type": "stream",
     "text": [
      "readingStormEvents_details-ftp_v1.0_d1957_c20210803.csv\n"
     ]
    },
    {
     "name": "stderr",
     "output_type": "stream",
     "text": [
      "C:\\Users\\miles\\AppData\\Local\\Temp\\ipykernel_20944\\957715867.py:12: FutureWarning: The frame.append method is deprecated and will be removed from pandas in a future version. Use pandas.concat instead.\n",
      "  all_reports = all_reports.append(filter_reports(reports, columns, event_types))\n"
     ]
    },
    {
     "name": "stdout",
     "output_type": "stream",
     "text": [
      "readingStormEvents_details-ftp_v1.0_d1958_c20210803.csv\n"
     ]
    },
    {
     "name": "stderr",
     "output_type": "stream",
     "text": [
      "C:\\Users\\miles\\AppData\\Local\\Temp\\ipykernel_20944\\957715867.py:12: FutureWarning: The frame.append method is deprecated and will be removed from pandas in a future version. Use pandas.concat instead.\n",
      "  all_reports = all_reports.append(filter_reports(reports, columns, event_types))\n"
     ]
    },
    {
     "name": "stdout",
     "output_type": "stream",
     "text": [
      "readingStormEvents_details-ftp_v1.0_d1959_c20210803.csv\n"
     ]
    },
    {
     "name": "stderr",
     "output_type": "stream",
     "text": [
      "C:\\Users\\miles\\AppData\\Local\\Temp\\ipykernel_20944\\957715867.py:12: FutureWarning: The frame.append method is deprecated and will be removed from pandas in a future version. Use pandas.concat instead.\n",
      "  all_reports = all_reports.append(filter_reports(reports, columns, event_types))\n"
     ]
    },
    {
     "name": "stdout",
     "output_type": "stream",
     "text": [
      "readingStormEvents_details-ftp_v1.0_d1960_c20210803.csv\n"
     ]
    },
    {
     "name": "stderr",
     "output_type": "stream",
     "text": [
      "C:\\Users\\miles\\AppData\\Local\\Temp\\ipykernel_20944\\957715867.py:12: FutureWarning: The frame.append method is deprecated and will be removed from pandas in a future version. Use pandas.concat instead.\n",
      "  all_reports = all_reports.append(filter_reports(reports, columns, event_types))\n"
     ]
    },
    {
     "name": "stdout",
     "output_type": "stream",
     "text": [
      "readingStormEvents_details-ftp_v1.0_d1961_c20210803.csv\n"
     ]
    },
    {
     "name": "stderr",
     "output_type": "stream",
     "text": [
      "C:\\Users\\miles\\AppData\\Local\\Temp\\ipykernel_20944\\957715867.py:12: FutureWarning: The frame.append method is deprecated and will be removed from pandas in a future version. Use pandas.concat instead.\n",
      "  all_reports = all_reports.append(filter_reports(reports, columns, event_types))\n"
     ]
    },
    {
     "name": "stdout",
     "output_type": "stream",
     "text": [
      "readingStormEvents_details-ftp_v1.0_d1962_c20210803.csv\n"
     ]
    },
    {
     "name": "stderr",
     "output_type": "stream",
     "text": [
      "C:\\Users\\miles\\AppData\\Local\\Temp\\ipykernel_20944\\957715867.py:12: FutureWarning: The frame.append method is deprecated and will be removed from pandas in a future version. Use pandas.concat instead.\n",
      "  all_reports = all_reports.append(filter_reports(reports, columns, event_types))\n"
     ]
    },
    {
     "name": "stdout",
     "output_type": "stream",
     "text": [
      "readingStormEvents_details-ftp_v1.0_d1963_c20210803.csv\n"
     ]
    },
    {
     "name": "stderr",
     "output_type": "stream",
     "text": [
      "C:\\Users\\miles\\AppData\\Local\\Temp\\ipykernel_20944\\957715867.py:12: FutureWarning: The frame.append method is deprecated and will be removed from pandas in a future version. Use pandas.concat instead.\n",
      "  all_reports = all_reports.append(filter_reports(reports, columns, event_types))\n"
     ]
    },
    {
     "name": "stdout",
     "output_type": "stream",
     "text": [
      "readingStormEvents_details-ftp_v1.0_d1964_c20210803.csv\n"
     ]
    },
    {
     "name": "stderr",
     "output_type": "stream",
     "text": [
      "C:\\Users\\miles\\AppData\\Local\\Temp\\ipykernel_20944\\957715867.py:12: FutureWarning: The frame.append method is deprecated and will be removed from pandas in a future version. Use pandas.concat instead.\n",
      "  all_reports = all_reports.append(filter_reports(reports, columns, event_types))\n"
     ]
    },
    {
     "name": "stdout",
     "output_type": "stream",
     "text": [
      "readingStormEvents_details-ftp_v1.0_d1965_c20210803.csv\n"
     ]
    },
    {
     "name": "stderr",
     "output_type": "stream",
     "text": [
      "C:\\Users\\miles\\AppData\\Local\\Temp\\ipykernel_20944\\957715867.py:12: FutureWarning: The frame.append method is deprecated and will be removed from pandas in a future version. Use pandas.concat instead.\n",
      "  all_reports = all_reports.append(filter_reports(reports, columns, event_types))\n"
     ]
    },
    {
     "name": "stdout",
     "output_type": "stream",
     "text": [
      "readingStormEvents_details-ftp_v1.0_d1966_c20210803.csv\n"
     ]
    },
    {
     "name": "stderr",
     "output_type": "stream",
     "text": [
      "C:\\Users\\miles\\AppData\\Local\\Temp\\ipykernel_20944\\957715867.py:12: FutureWarning: The frame.append method is deprecated and will be removed from pandas in a future version. Use pandas.concat instead.\n",
      "  all_reports = all_reports.append(filter_reports(reports, columns, event_types))\n"
     ]
    },
    {
     "name": "stdout",
     "output_type": "stream",
     "text": [
      "readingStormEvents_details-ftp_v1.0_d1967_c20210803.csv\n"
     ]
    },
    {
     "name": "stderr",
     "output_type": "stream",
     "text": [
      "C:\\Users\\miles\\AppData\\Local\\Temp\\ipykernel_20944\\957715867.py:12: FutureWarning: The frame.append method is deprecated and will be removed from pandas in a future version. Use pandas.concat instead.\n",
      "  all_reports = all_reports.append(filter_reports(reports, columns, event_types))\n"
     ]
    },
    {
     "name": "stdout",
     "output_type": "stream",
     "text": [
      "readingStormEvents_details-ftp_v1.0_d1968_c20210803.csv\n"
     ]
    },
    {
     "name": "stderr",
     "output_type": "stream",
     "text": [
      "C:\\Users\\miles\\AppData\\Local\\Temp\\ipykernel_20944\\957715867.py:12: FutureWarning: The frame.append method is deprecated and will be removed from pandas in a future version. Use pandas.concat instead.\n",
      "  all_reports = all_reports.append(filter_reports(reports, columns, event_types))\n"
     ]
    },
    {
     "name": "stdout",
     "output_type": "stream",
     "text": [
      "readingStormEvents_details-ftp_v1.0_d1969_c20210803.csv\n"
     ]
    },
    {
     "name": "stderr",
     "output_type": "stream",
     "text": [
      "C:\\Users\\miles\\AppData\\Local\\Temp\\ipykernel_20944\\957715867.py:12: FutureWarning: The frame.append method is deprecated and will be removed from pandas in a future version. Use pandas.concat instead.\n",
      "  all_reports = all_reports.append(filter_reports(reports, columns, event_types))\n"
     ]
    },
    {
     "name": "stdout",
     "output_type": "stream",
     "text": [
      "readingStormEvents_details-ftp_v1.0_d1970_c20210803.csv\n"
     ]
    },
    {
     "name": "stderr",
     "output_type": "stream",
     "text": [
      "C:\\Users\\miles\\AppData\\Local\\Temp\\ipykernel_20944\\957715867.py:12: FutureWarning: The frame.append method is deprecated and will be removed from pandas in a future version. Use pandas.concat instead.\n",
      "  all_reports = all_reports.append(filter_reports(reports, columns, event_types))\n"
     ]
    },
    {
     "name": "stdout",
     "output_type": "stream",
     "text": [
      "readingStormEvents_details-ftp_v1.0_d1971_c20210803.csv\n"
     ]
    },
    {
     "name": "stderr",
     "output_type": "stream",
     "text": [
      "C:\\Users\\miles\\AppData\\Local\\Temp\\ipykernel_20944\\957715867.py:12: FutureWarning: The frame.append method is deprecated and will be removed from pandas in a future version. Use pandas.concat instead.\n",
      "  all_reports = all_reports.append(filter_reports(reports, columns, event_types))\n"
     ]
    },
    {
     "name": "stdout",
     "output_type": "stream",
     "text": [
      "readingStormEvents_details-ftp_v1.0_d1972_c20220425.csv\n"
     ]
    },
    {
     "name": "stderr",
     "output_type": "stream",
     "text": [
      "C:\\Users\\miles\\AppData\\Local\\Temp\\ipykernel_20944\\957715867.py:12: FutureWarning: The frame.append method is deprecated and will be removed from pandas in a future version. Use pandas.concat instead.\n",
      "  all_reports = all_reports.append(filter_reports(reports, columns, event_types))\n"
     ]
    },
    {
     "name": "stdout",
     "output_type": "stream",
     "text": [
      "readingStormEvents_details-ftp_v1.0_d1973_c20220425.csv\n"
     ]
    },
    {
     "name": "stderr",
     "output_type": "stream",
     "text": [
      "C:\\Users\\miles\\AppData\\Local\\Temp\\ipykernel_20944\\957715867.py:12: FutureWarning: The frame.append method is deprecated and will be removed from pandas in a future version. Use pandas.concat instead.\n",
      "  all_reports = all_reports.append(filter_reports(reports, columns, event_types))\n"
     ]
    },
    {
     "name": "stdout",
     "output_type": "stream",
     "text": [
      "readingStormEvents_details-ftp_v1.0_d1974_c20220425.csv\n"
     ]
    },
    {
     "name": "stderr",
     "output_type": "stream",
     "text": [
      "C:\\Users\\miles\\AppData\\Local\\Temp\\ipykernel_20944\\957715867.py:12: FutureWarning: The frame.append method is deprecated and will be removed from pandas in a future version. Use pandas.concat instead.\n",
      "  all_reports = all_reports.append(filter_reports(reports, columns, event_types))\n"
     ]
    },
    {
     "name": "stdout",
     "output_type": "stream",
     "text": [
      "readingStormEvents_details-ftp_v1.0_d1975_c20220425.csv\n"
     ]
    },
    {
     "name": "stderr",
     "output_type": "stream",
     "text": [
      "C:\\Users\\miles\\AppData\\Local\\Temp\\ipykernel_20944\\957715867.py:12: FutureWarning: The frame.append method is deprecated and will be removed from pandas in a future version. Use pandas.concat instead.\n",
      "  all_reports = all_reports.append(filter_reports(reports, columns, event_types))\n"
     ]
    },
    {
     "name": "stdout",
     "output_type": "stream",
     "text": [
      "readingStormEvents_details-ftp_v1.0_d1976_c20220425.csv\n"
     ]
    },
    {
     "name": "stderr",
     "output_type": "stream",
     "text": [
      "C:\\Users\\miles\\AppData\\Local\\Temp\\ipykernel_20944\\957715867.py:12: FutureWarning: The frame.append method is deprecated and will be removed from pandas in a future version. Use pandas.concat instead.\n",
      "  all_reports = all_reports.append(filter_reports(reports, columns, event_types))\n"
     ]
    },
    {
     "name": "stdout",
     "output_type": "stream",
     "text": [
      "readingStormEvents_details-ftp_v1.0_d1977_c20220425.csv\n"
     ]
    },
    {
     "name": "stderr",
     "output_type": "stream",
     "text": [
      "C:\\Users\\miles\\AppData\\Local\\Temp\\ipykernel_20944\\957715867.py:12: FutureWarning: The frame.append method is deprecated and will be removed from pandas in a future version. Use pandas.concat instead.\n",
      "  all_reports = all_reports.append(filter_reports(reports, columns, event_types))\n"
     ]
    },
    {
     "name": "stdout",
     "output_type": "stream",
     "text": [
      "readingStormEvents_details-ftp_v1.0_d1978_c20220425.csv\n"
     ]
    },
    {
     "name": "stderr",
     "output_type": "stream",
     "text": [
      "C:\\Users\\miles\\AppData\\Local\\Temp\\ipykernel_20944\\957715867.py:12: FutureWarning: The frame.append method is deprecated and will be removed from pandas in a future version. Use pandas.concat instead.\n",
      "  all_reports = all_reports.append(filter_reports(reports, columns, event_types))\n"
     ]
    },
    {
     "name": "stdout",
     "output_type": "stream",
     "text": [
      "readingStormEvents_details-ftp_v1.0_d1979_c20220425.csv\n"
     ]
    },
    {
     "name": "stderr",
     "output_type": "stream",
     "text": [
      "C:\\Users\\miles\\AppData\\Local\\Temp\\ipykernel_20944\\957715867.py:12: FutureWarning: The frame.append method is deprecated and will be removed from pandas in a future version. Use pandas.concat instead.\n",
      "  all_reports = all_reports.append(filter_reports(reports, columns, event_types))\n"
     ]
    },
    {
     "name": "stdout",
     "output_type": "stream",
     "text": [
      "readingStormEvents_details-ftp_v1.0_d1980_c20220425.csv\n"
     ]
    },
    {
     "name": "stderr",
     "output_type": "stream",
     "text": [
      "C:\\Users\\miles\\AppData\\Local\\Temp\\ipykernel_20944\\957715867.py:12: FutureWarning: The frame.append method is deprecated and will be removed from pandas in a future version. Use pandas.concat instead.\n",
      "  all_reports = all_reports.append(filter_reports(reports, columns, event_types))\n"
     ]
    },
    {
     "name": "stdout",
     "output_type": "stream",
     "text": [
      "readingStormEvents_details-ftp_v1.0_d1981_c20220425.csv\n"
     ]
    },
    {
     "name": "stderr",
     "output_type": "stream",
     "text": [
      "C:\\Users\\miles\\AppData\\Local\\Temp\\ipykernel_20944\\957715867.py:12: FutureWarning: The frame.append method is deprecated and will be removed from pandas in a future version. Use pandas.concat instead.\n",
      "  all_reports = all_reports.append(filter_reports(reports, columns, event_types))\n"
     ]
    },
    {
     "name": "stdout",
     "output_type": "stream",
     "text": [
      "readingStormEvents_details-ftp_v1.0_d1982_c20220425.csv\n"
     ]
    },
    {
     "name": "stderr",
     "output_type": "stream",
     "text": [
      "C:\\Users\\miles\\AppData\\Local\\Temp\\ipykernel_20944\\957715867.py:12: FutureWarning: The frame.append method is deprecated and will be removed from pandas in a future version. Use pandas.concat instead.\n",
      "  all_reports = all_reports.append(filter_reports(reports, columns, event_types))\n"
     ]
    },
    {
     "name": "stdout",
     "output_type": "stream",
     "text": [
      "readingStormEvents_details-ftp_v1.0_d1983_c20220425.csv\n"
     ]
    },
    {
     "name": "stderr",
     "output_type": "stream",
     "text": [
      "C:\\Users\\miles\\AppData\\Local\\Temp\\ipykernel_20944\\957715867.py:12: FutureWarning: The frame.append method is deprecated and will be removed from pandas in a future version. Use pandas.concat instead.\n",
      "  all_reports = all_reports.append(filter_reports(reports, columns, event_types))\n"
     ]
    },
    {
     "name": "stdout",
     "output_type": "stream",
     "text": [
      "readingStormEvents_details-ftp_v1.0_d1984_c20220425.csv\n"
     ]
    },
    {
     "name": "stderr",
     "output_type": "stream",
     "text": [
      "C:\\Users\\miles\\AppData\\Local\\Temp\\ipykernel_20944\\957715867.py:12: FutureWarning: The frame.append method is deprecated and will be removed from pandas in a future version. Use pandas.concat instead.\n",
      "  all_reports = all_reports.append(filter_reports(reports, columns, event_types))\n"
     ]
    },
    {
     "name": "stdout",
     "output_type": "stream",
     "text": [
      "readingStormEvents_details-ftp_v1.0_d1985_c20220425.csv\n"
     ]
    },
    {
     "name": "stderr",
     "output_type": "stream",
     "text": [
      "C:\\Users\\miles\\AppData\\Local\\Temp\\ipykernel_20944\\957715867.py:12: FutureWarning: The frame.append method is deprecated and will be removed from pandas in a future version. Use pandas.concat instead.\n",
      "  all_reports = all_reports.append(filter_reports(reports, columns, event_types))\n"
     ]
    },
    {
     "name": "stdout",
     "output_type": "stream",
     "text": [
      "readingStormEvents_details-ftp_v1.0_d1986_c20220425.csv\n"
     ]
    },
    {
     "name": "stderr",
     "output_type": "stream",
     "text": [
      "C:\\Users\\miles\\AppData\\Local\\Temp\\ipykernel_20944\\957715867.py:12: FutureWarning: The frame.append method is deprecated and will be removed from pandas in a future version. Use pandas.concat instead.\n",
      "  all_reports = all_reports.append(filter_reports(reports, columns, event_types))\n"
     ]
    },
    {
     "name": "stdout",
     "output_type": "stream",
     "text": [
      "readingStormEvents_details-ftp_v1.0_d1987_c20220425.csv\n"
     ]
    },
    {
     "name": "stderr",
     "output_type": "stream",
     "text": [
      "C:\\Users\\miles\\AppData\\Local\\Temp\\ipykernel_20944\\957715867.py:12: FutureWarning: The frame.append method is deprecated and will be removed from pandas in a future version. Use pandas.concat instead.\n",
      "  all_reports = all_reports.append(filter_reports(reports, columns, event_types))\n"
     ]
    },
    {
     "name": "stdout",
     "output_type": "stream",
     "text": [
      "readingStormEvents_details-ftp_v1.0_d1988_c20220425.csv\n"
     ]
    },
    {
     "name": "stderr",
     "output_type": "stream",
     "text": [
      "C:\\Users\\miles\\AppData\\Local\\Temp\\ipykernel_20944\\957715867.py:12: FutureWarning: The frame.append method is deprecated and will be removed from pandas in a future version. Use pandas.concat instead.\n",
      "  all_reports = all_reports.append(filter_reports(reports, columns, event_types))\n"
     ]
    },
    {
     "name": "stdout",
     "output_type": "stream",
     "text": [
      "readingStormEvents_details-ftp_v1.0_d1989_c20220425.csv\n"
     ]
    },
    {
     "name": "stderr",
     "output_type": "stream",
     "text": [
      "C:\\Users\\miles\\AppData\\Local\\Temp\\ipykernel_20944\\957715867.py:12: FutureWarning: The frame.append method is deprecated and will be removed from pandas in a future version. Use pandas.concat instead.\n",
      "  all_reports = all_reports.append(filter_reports(reports, columns, event_types))\n"
     ]
    },
    {
     "name": "stdout",
     "output_type": "stream",
     "text": [
      "readingStormEvents_details-ftp_v1.0_d1990_c20220425.csv\n"
     ]
    },
    {
     "name": "stderr",
     "output_type": "stream",
     "text": [
      "C:\\Users\\miles\\AppData\\Local\\Temp\\ipykernel_20944\\957715867.py:12: FutureWarning: The frame.append method is deprecated and will be removed from pandas in a future version. Use pandas.concat instead.\n",
      "  all_reports = all_reports.append(filter_reports(reports, columns, event_types))\n"
     ]
    },
    {
     "name": "stdout",
     "output_type": "stream",
     "text": [
      "readingStormEvents_details-ftp_v1.0_d1991_c20220425.csv\n"
     ]
    },
    {
     "name": "stderr",
     "output_type": "stream",
     "text": [
      "C:\\Users\\miles\\AppData\\Local\\Temp\\ipykernel_20944\\957715867.py:12: FutureWarning: The frame.append method is deprecated and will be removed from pandas in a future version. Use pandas.concat instead.\n",
      "  all_reports = all_reports.append(filter_reports(reports, columns, event_types))\n"
     ]
    },
    {
     "name": "stdout",
     "output_type": "stream",
     "text": [
      "readingStormEvents_details-ftp_v1.0_d1992_c20220425.csv\n"
     ]
    },
    {
     "name": "stderr",
     "output_type": "stream",
     "text": [
      "C:\\Users\\miles\\AppData\\Local\\Temp\\ipykernel_20944\\957715867.py:12: FutureWarning: The frame.append method is deprecated and will be removed from pandas in a future version. Use pandas.concat instead.\n",
      "  all_reports = all_reports.append(filter_reports(reports, columns, event_types))\n"
     ]
    },
    {
     "name": "stdout",
     "output_type": "stream",
     "text": [
      "readingStormEvents_details-ftp_v1.0_d1993_c20220425.csv\n"
     ]
    },
    {
     "name": "stderr",
     "output_type": "stream",
     "text": [
      "C:\\Users\\miles\\AppData\\Local\\Temp\\ipykernel_20944\\957715867.py:12: FutureWarning: The frame.append method is deprecated and will be removed from pandas in a future version. Use pandas.concat instead.\n",
      "  all_reports = all_reports.append(filter_reports(reports, columns, event_types))\n"
     ]
    },
    {
     "name": "stdout",
     "output_type": "stream",
     "text": [
      "readingStormEvents_details-ftp_v1.0_d1994_c20220425.csv\n"
     ]
    },
    {
     "name": "stderr",
     "output_type": "stream",
     "text": [
      "C:\\Users\\miles\\AppData\\Local\\Temp\\ipykernel_20944\\957715867.py:12: FutureWarning: The frame.append method is deprecated and will be removed from pandas in a future version. Use pandas.concat instead.\n",
      "  all_reports = all_reports.append(filter_reports(reports, columns, event_types))\n"
     ]
    },
    {
     "name": "stdout",
     "output_type": "stream",
     "text": [
      "readingStormEvents_details-ftp_v1.0_d1995_c20220425.csv\n"
     ]
    },
    {
     "name": "stderr",
     "output_type": "stream",
     "text": [
      "C:\\Users\\miles\\AppData\\Local\\Temp\\ipykernel_20944\\957715867.py:12: FutureWarning: The frame.append method is deprecated and will be removed from pandas in a future version. Use pandas.concat instead.\n",
      "  all_reports = all_reports.append(filter_reports(reports, columns, event_types))\n"
     ]
    },
    {
     "name": "stdout",
     "output_type": "stream",
     "text": [
      "readingStormEvents_details-ftp_v1.0_d1996_c20220425.csv\n"
     ]
    },
    {
     "name": "stderr",
     "output_type": "stream",
     "text": [
      "C:\\Users\\miles\\AppData\\Local\\Temp\\ipykernel_20944\\957715867.py:12: FutureWarning: The frame.append method is deprecated and will be removed from pandas in a future version. Use pandas.concat instead.\n",
      "  all_reports = all_reports.append(filter_reports(reports, columns, event_types))\n"
     ]
    },
    {
     "name": "stdout",
     "output_type": "stream",
     "text": [
      "readingStormEvents_details-ftp_v1.0_d1997_c20220425.csv\n"
     ]
    },
    {
     "name": "stderr",
     "output_type": "stream",
     "text": [
      "C:\\Users\\miles\\AppData\\Local\\Temp\\ipykernel_20944\\957715867.py:12: FutureWarning: The frame.append method is deprecated and will be removed from pandas in a future version. Use pandas.concat instead.\n",
      "  all_reports = all_reports.append(filter_reports(reports, columns, event_types))\n"
     ]
    },
    {
     "name": "stdout",
     "output_type": "stream",
     "text": [
      "readingStormEvents_details-ftp_v1.0_d1998_c20220425.csv\n"
     ]
    },
    {
     "name": "stderr",
     "output_type": "stream",
     "text": [
      "C:\\Users\\miles\\AppData\\Local\\Temp\\ipykernel_20944\\957715867.py:12: FutureWarning: The frame.append method is deprecated and will be removed from pandas in a future version. Use pandas.concat instead.\n",
      "  all_reports = all_reports.append(filter_reports(reports, columns, event_types))\n"
     ]
    },
    {
     "name": "stdout",
     "output_type": "stream",
     "text": [
      "readingStormEvents_details-ftp_v1.0_d1999_c20220425.csv\n"
     ]
    },
    {
     "name": "stderr",
     "output_type": "stream",
     "text": [
      "C:\\Users\\miles\\AppData\\Local\\Temp\\ipykernel_20944\\957715867.py:12: FutureWarning: The frame.append method is deprecated and will be removed from pandas in a future version. Use pandas.concat instead.\n",
      "  all_reports = all_reports.append(filter_reports(reports, columns, event_types))\n"
     ]
    },
    {
     "name": "stdout",
     "output_type": "stream",
     "text": [
      "readingStormEvents_details-ftp_v1.0_d2000_c20220425.csv\n"
     ]
    },
    {
     "name": "stderr",
     "output_type": "stream",
     "text": [
      "C:\\Users\\miles\\AppData\\Local\\Temp\\ipykernel_20944\\957715867.py:12: FutureWarning: The frame.append method is deprecated and will be removed from pandas in a future version. Use pandas.concat instead.\n",
      "  all_reports = all_reports.append(filter_reports(reports, columns, event_types))\n"
     ]
    },
    {
     "name": "stdout",
     "output_type": "stream",
     "text": [
      "readingStormEvents_details-ftp_v1.0_d2001_c20220425.csv\n"
     ]
    },
    {
     "name": "stderr",
     "output_type": "stream",
     "text": [
      "C:\\Users\\miles\\AppData\\Local\\Temp\\ipykernel_20944\\957715867.py:12: FutureWarning: The frame.append method is deprecated and will be removed from pandas in a future version. Use pandas.concat instead.\n",
      "  all_reports = all_reports.append(filter_reports(reports, columns, event_types))\n"
     ]
    },
    {
     "name": "stdout",
     "output_type": "stream",
     "text": [
      "readingStormEvents_details-ftp_v1.0_d2002_c20220425.csv\n"
     ]
    },
    {
     "name": "stderr",
     "output_type": "stream",
     "text": [
      "C:\\Users\\miles\\AppData\\Local\\Temp\\ipykernel_20944\\957715867.py:12: FutureWarning: The frame.append method is deprecated and will be removed from pandas in a future version. Use pandas.concat instead.\n",
      "  all_reports = all_reports.append(filter_reports(reports, columns, event_types))\n"
     ]
    },
    {
     "name": "stdout",
     "output_type": "stream",
     "text": [
      "readingStormEvents_details-ftp_v1.0_d2003_c20220425.csv\n"
     ]
    },
    {
     "name": "stderr",
     "output_type": "stream",
     "text": [
      "C:\\Users\\miles\\AppData\\Local\\Temp\\ipykernel_20944\\957715867.py:12: FutureWarning: The frame.append method is deprecated and will be removed from pandas in a future version. Use pandas.concat instead.\n",
      "  all_reports = all_reports.append(filter_reports(reports, columns, event_types))\n"
     ]
    },
    {
     "name": "stdout",
     "output_type": "stream",
     "text": [
      "readingStormEvents_details-ftp_v1.0_d2004_c20220425.csv\n"
     ]
    },
    {
     "name": "stderr",
     "output_type": "stream",
     "text": [
      "C:\\Users\\miles\\AppData\\Local\\Temp\\ipykernel_20944\\957715867.py:12: FutureWarning: The frame.append method is deprecated and will be removed from pandas in a future version. Use pandas.concat instead.\n",
      "  all_reports = all_reports.append(filter_reports(reports, columns, event_types))\n"
     ]
    },
    {
     "name": "stdout",
     "output_type": "stream",
     "text": [
      "readingStormEvents_details-ftp_v1.0_d2005_c20220425.csv\n"
     ]
    },
    {
     "name": "stderr",
     "output_type": "stream",
     "text": [
      "C:\\Users\\miles\\AppData\\Local\\Temp\\ipykernel_20944\\957715867.py:12: FutureWarning: The frame.append method is deprecated and will be removed from pandas in a future version. Use pandas.concat instead.\n",
      "  all_reports = all_reports.append(filter_reports(reports, columns, event_types))\n"
     ]
    },
    {
     "name": "stdout",
     "output_type": "stream",
     "text": [
      "readingStormEvents_details-ftp_v1.0_d2006_c20220425.csv\n"
     ]
    },
    {
     "name": "stderr",
     "output_type": "stream",
     "text": [
      "C:\\Users\\miles\\AppData\\Local\\Temp\\ipykernel_20944\\957715867.py:12: FutureWarning: The frame.append method is deprecated and will be removed from pandas in a future version. Use pandas.concat instead.\n",
      "  all_reports = all_reports.append(filter_reports(reports, columns, event_types))\n"
     ]
    },
    {
     "name": "stdout",
     "output_type": "stream",
     "text": [
      "readingStormEvents_details-ftp_v1.0_d2007_c20240216.csv\n"
     ]
    },
    {
     "name": "stderr",
     "output_type": "stream",
     "text": [
      "C:\\Users\\miles\\AppData\\Local\\Temp\\ipykernel_20944\\957715867.py:12: FutureWarning: The frame.append method is deprecated and will be removed from pandas in a future version. Use pandas.concat instead.\n",
      "  all_reports = all_reports.append(filter_reports(reports, columns, event_types))\n"
     ]
    },
    {
     "name": "stdout",
     "output_type": "stream",
     "text": [
      "readingStormEvents_details-ftp_v1.0_d2008_c20220425.csv\n"
     ]
    },
    {
     "name": "stderr",
     "output_type": "stream",
     "text": [
      "C:\\Users\\miles\\AppData\\Local\\Temp\\ipykernel_20944\\957715867.py:12: FutureWarning: The frame.append method is deprecated and will be removed from pandas in a future version. Use pandas.concat instead.\n",
      "  all_reports = all_reports.append(filter_reports(reports, columns, event_types))\n"
     ]
    },
    {
     "name": "stdout",
     "output_type": "stream",
     "text": [
      "readingStormEvents_details-ftp_v1.0_d2009_c20231116.csv\n"
     ]
    },
    {
     "name": "stderr",
     "output_type": "stream",
     "text": [
      "C:\\Users\\miles\\AppData\\Local\\Temp\\ipykernel_20944\\957715867.py:12: FutureWarning: The frame.append method is deprecated and will be removed from pandas in a future version. Use pandas.concat instead.\n",
      "  all_reports = all_reports.append(filter_reports(reports, columns, event_types))\n"
     ]
    },
    {
     "name": "stdout",
     "output_type": "stream",
     "text": [
      "readingStormEvents_details-ftp_v1.0_d2010_c20220425.csv\n"
     ]
    },
    {
     "name": "stderr",
     "output_type": "stream",
     "text": [
      "C:\\Users\\miles\\AppData\\Local\\Temp\\ipykernel_20944\\957715867.py:12: FutureWarning: The frame.append method is deprecated and will be removed from pandas in a future version. Use pandas.concat instead.\n",
      "  all_reports = all_reports.append(filter_reports(reports, columns, event_types))\n"
     ]
    },
    {
     "name": "stdout",
     "output_type": "stream",
     "text": [
      "readingStormEvents_details-ftp_v1.0_d2011_c20230417.csv\n"
     ]
    },
    {
     "name": "stderr",
     "output_type": "stream",
     "text": [
      "C:\\Users\\miles\\AppData\\Local\\Temp\\ipykernel_20944\\957715867.py:12: FutureWarning: The frame.append method is deprecated and will be removed from pandas in a future version. Use pandas.concat instead.\n",
      "  all_reports = all_reports.append(filter_reports(reports, columns, event_types))\n"
     ]
    },
    {
     "name": "stdout",
     "output_type": "stream",
     "text": [
      "readingStormEvents_details-ftp_v1.0_d2012_c20221216.csv\n"
     ]
    },
    {
     "name": "stderr",
     "output_type": "stream",
     "text": [
      "C:\\Users\\miles\\AppData\\Local\\Temp\\ipykernel_20944\\957715867.py:12: FutureWarning: The frame.append method is deprecated and will be removed from pandas in a future version. Use pandas.concat instead.\n",
      "  all_reports = all_reports.append(filter_reports(reports, columns, event_types))\n"
     ]
    },
    {
     "name": "stdout",
     "output_type": "stream",
     "text": [
      "readingStormEvents_details-ftp_v1.0_d2013_c20230118.csv\n"
     ]
    },
    {
     "name": "stderr",
     "output_type": "stream",
     "text": [
      "C:\\Users\\miles\\AppData\\Local\\Temp\\ipykernel_20944\\957715867.py:12: FutureWarning: The frame.append method is deprecated and will be removed from pandas in a future version. Use pandas.concat instead.\n",
      "  all_reports = all_reports.append(filter_reports(reports, columns, event_types))\n"
     ]
    },
    {
     "name": "stdout",
     "output_type": "stream",
     "text": [
      "readingStormEvents_details-ftp_v1.0_d2014_c20231116.csv\n"
     ]
    },
    {
     "name": "stderr",
     "output_type": "stream",
     "text": [
      "C:\\Users\\miles\\AppData\\Local\\Temp\\ipykernel_20944\\957715867.py:12: FutureWarning: The frame.append method is deprecated and will be removed from pandas in a future version. Use pandas.concat instead.\n",
      "  all_reports = all_reports.append(filter_reports(reports, columns, event_types))\n"
     ]
    },
    {
     "name": "stdout",
     "output_type": "stream",
     "text": [
      "readingStormEvents_details-ftp_v1.0_d2015_c20220425.csv\n"
     ]
    },
    {
     "name": "stderr",
     "output_type": "stream",
     "text": [
      "C:\\Users\\miles\\AppData\\Local\\Temp\\ipykernel_20944\\957715867.py:12: FutureWarning: The frame.append method is deprecated and will be removed from pandas in a future version. Use pandas.concat instead.\n",
      "  all_reports = all_reports.append(filter_reports(reports, columns, event_types))\n"
     ]
    },
    {
     "name": "stdout",
     "output_type": "stream",
     "text": [
      "readingStormEvents_details-ftp_v1.0_d2016_c20220719.csv\n"
     ]
    },
    {
     "name": "stderr",
     "output_type": "stream",
     "text": [
      "C:\\Users\\miles\\AppData\\Local\\Temp\\ipykernel_20944\\957715867.py:12: FutureWarning: The frame.append method is deprecated and will be removed from pandas in a future version. Use pandas.concat instead.\n",
      "  all_reports = all_reports.append(filter_reports(reports, columns, event_types))\n"
     ]
    },
    {
     "name": "stdout",
     "output_type": "stream",
     "text": [
      "readingStormEvents_details-ftp_v1.0_d2017_c20230317.csv\n"
     ]
    },
    {
     "name": "stderr",
     "output_type": "stream",
     "text": [
      "C:\\Users\\miles\\AppData\\Local\\Temp\\ipykernel_20944\\957715867.py:12: FutureWarning: The frame.append method is deprecated and will be removed from pandas in a future version. Use pandas.concat instead.\n",
      "  all_reports = all_reports.append(filter_reports(reports, columns, event_types))\n"
     ]
    },
    {
     "name": "stdout",
     "output_type": "stream",
     "text": [
      "readingStormEvents_details-ftp_v1.0_d2018_c20230616.csv\n"
     ]
    },
    {
     "name": "stderr",
     "output_type": "stream",
     "text": [
      "C:\\Users\\miles\\AppData\\Local\\Temp\\ipykernel_20944\\957715867.py:12: FutureWarning: The frame.append method is deprecated and will be removed from pandas in a future version. Use pandas.concat instead.\n",
      "  all_reports = all_reports.append(filter_reports(reports, columns, event_types))\n"
     ]
    },
    {
     "name": "stdout",
     "output_type": "stream",
     "text": [
      "readingStormEvents_details-ftp_v1.0_d2019_c20240117.csv\n"
     ]
    },
    {
     "name": "stderr",
     "output_type": "stream",
     "text": [
      "C:\\Users\\miles\\AppData\\Local\\Temp\\ipykernel_20944\\957715867.py:12: FutureWarning: The frame.append method is deprecated and will be removed from pandas in a future version. Use pandas.concat instead.\n",
      "  all_reports = all_reports.append(filter_reports(reports, columns, event_types))\n"
     ]
    },
    {
     "name": "stdout",
     "output_type": "stream",
     "text": [
      "readingStormEvents_details-ftp_v1.0_d2020_c20231217.csv\n"
     ]
    },
    {
     "name": "stderr",
     "output_type": "stream",
     "text": [
      "C:\\Users\\miles\\AppData\\Local\\Temp\\ipykernel_20944\\957715867.py:12: FutureWarning: The frame.append method is deprecated and will be removed from pandas in a future version. Use pandas.concat instead.\n",
      "  all_reports = all_reports.append(filter_reports(reports, columns, event_types))\n"
     ]
    },
    {
     "name": "stdout",
     "output_type": "stream",
     "text": [
      "readingStormEvents_details-ftp_v1.0_d2021_c20231217.csv\n"
     ]
    },
    {
     "name": "stderr",
     "output_type": "stream",
     "text": [
      "C:\\Users\\miles\\AppData\\Local\\Temp\\ipykernel_20944\\957715867.py:12: FutureWarning: The frame.append method is deprecated and will be removed from pandas in a future version. Use pandas.concat instead.\n",
      "  all_reports = all_reports.append(filter_reports(reports, columns, event_types))\n"
     ]
    },
    {
     "name": "stdout",
     "output_type": "stream",
     "text": [
      "readingStormEvents_details-ftp_v1.0_d2022_c20240216.csv\n"
     ]
    },
    {
     "name": "stderr",
     "output_type": "stream",
     "text": [
      "C:\\Users\\miles\\AppData\\Local\\Temp\\ipykernel_20944\\957715867.py:12: FutureWarning: The frame.append method is deprecated and will be removed from pandas in a future version. Use pandas.concat instead.\n",
      "  all_reports = all_reports.append(filter_reports(reports, columns, event_types))\n"
     ]
    },
    {
     "name": "stdout",
     "output_type": "stream",
     "text": [
      "readingStormEvents_details-ftp_v1.0_d2023_c20240216.csv\n"
     ]
    },
    {
     "name": "stderr",
     "output_type": "stream",
     "text": [
      "C:\\Users\\miles\\AppData\\Local\\Temp\\ipykernel_20944\\957715867.py:12: FutureWarning: The frame.append method is deprecated and will be removed from pandas in a future version. Use pandas.concat instead.\n",
      "  all_reports = all_reports.append(filter_reports(reports, columns, event_types))\n"
     ]
    }
   ],
   "source": [
    "# read in reports and combine into all_reports\n",
    "first = True\n",
    "for file in os.listdir(os.fsencode(report_raw_location)):\n",
    "    filename = os.fsdecode(file)\n",
    "    if 'StormEvents_details-ftp_v1.0_d' in filename:\n",
    "        print('reading' + filename)\n",
    "        reports = gp.read_file(report_raw_location + '/' + filename)\n",
    "        if first:\n",
    "            all_reports = filter_reports(reports, columns, event_types)\n",
    "            first = False\n",
    "        else:\n",
    "            all_reports = all_reports.append(filter_reports(reports, columns, event_types))\n"
   ]
  },
  {
   "cell_type": "code",
   "execution_count": 201,
   "metadata": {},
   "outputs": [],
   "source": [
    "# filter all_reports to get all_reports_mdt\n",
    "all_reports['DATE'] = parse_datetime_reports(all_reports['BEGIN_DATE_TIME'])\n",
    "all_reports_mdt = all_reports[all_reports['DATE'].isin(mod_dates.tolist())]\n",
    "\n"
   ]
  },
  {
   "cell_type": "code",
   "execution_count": 202,
   "metadata": {},
   "outputs": [],
   "source": [
    "# save report data\n",
    "all_reports.to_csv(report_save_location + '/all_reports.csv')\n",
    "all_reports_mdt.to_csv(report_save_location + '/mdt_reports.csv')\n"
   ]
  },
  {
   "cell_type": "code",
   "execution_count": null,
   "metadata": {},
   "outputs": [],
   "source": []
  }
 ],
 "metadata": {
  "kernelspec": {
   "display_name": "Python 3",
   "language": "python",
   "name": "python3"
  },
  "language_info": {
   "codemirror_mode": {
    "name": "ipython",
    "version": 3
   },
   "file_extension": ".py",
   "mimetype": "text/x-python",
   "name": "python",
   "nbconvert_exporter": "python",
   "pygments_lexer": "ipython3",
   "version": "3.10.11"
  }
 },
 "nbformat": 4,
 "nbformat_minor": 2
}
