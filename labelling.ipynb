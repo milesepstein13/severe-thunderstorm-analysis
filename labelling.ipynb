{
 "cells": [
  {
   "cell_type": "code",
   "execution_count": 1,
   "metadata": {},
   "outputs": [],
   "source": [
    "from utils_filter import *\n",
    "from utils_datetime import *\n",
    "from utils_geography import *\n",
    "from dateutil import parser\n",
    "from dateutil.relativedelta import relativedelta\n",
    "from collections import Counter\n",
    "import math\n",
    "\n",
    "\n",
    "\n"
   ]
  },
  {
   "cell_type": "markdown",
   "metadata": {},
   "source": [
    "Subsets outlooks, pph, and report data in various ways (add label to each datapoint for each method of subsetting so can be pulled out of full dataset later)\n"
   ]
  },
  {
   "cell_type": "code",
   "execution_count": 2,
   "metadata": {},
   "outputs": [
    {
     "name": "stdout",
     "output_type": "stream",
     "text": [
      "reading outlooks\n",
      "reading pph\n",
      "reading storm reports\n"
     ]
    }
   ],
   "source": [
    "# read in data\n",
    "data_location = 'data'\n",
    "labelled = True # if starting with already labelled data\n",
    "if labelled == True:\n",
    "    outlooks, pph, reports = read_datasets(data_location, 'labelled')\n",
    "else:\n",
    "    outlooks, pph, reports = read_datasets(data_location)"
   ]
  },
  {
   "cell_type": "code",
   "execution_count": 3,
   "metadata": {},
   "outputs": [],
   "source": [
    "tz_conversions = {'PST': timedelta(hours=8),\n",
    "                  'MST': timedelta(hours=7),\n",
    "                  'CST': timedelta(hours=6),\n",
    "                  'CSt': timedelta(hours=6),\n",
    "                  'CSC': timedelta(hours=6),\n",
    "                  'SCT': timedelta(hours=6),\n",
    "                  'EST': timedelta(hours=5),\n",
    "                  'ESt': timedelta(hours=5),\n",
    "                  'PDT': timedelta(hours=7),\n",
    "                  'MDT': timedelta(hours=6),\n",
    "                  'CDT': timedelta(hours=5),\n",
    "                  'EDT': timedelta(hours=4),\n",
    "                  'HST': timedelta(hours=10),\n",
    "                  'SST': timedelta(hours=11),\n",
    "                  'GST': timedelta(hours=10),\n",
    "                  'AKS': timedelta(hours=9),\n",
    "                  'AST': timedelta(hours=4),\n",
    "                  'UNK': timedelta(hours=5),\n",
    "                  'GMT': timedelta(0)}\n",
    "\n",
    "def get_reports_date_strings(date_times, timezones):\n",
    "    # returns list of strings of date of given datetime and timezone (where day cutoffs are 12-12 UTC) formatted as 'YYYYMMDD0000'\n",
    "    for datetime, timezone, i in zip(date_times, timezones, range(len(timezones))):\n",
    "        #print(datetime + ' ' + timezone[:3])\n",
    "        datetime = parser.parse(datetime)\n",
    "        datetime = datetime + tz_conversions[timezone[:3]]\n",
    "        #print(datetime)\n",
    "        if (datetime.hour < 12):\n",
    "            datetime = datetime - timedelta(days = 1)\n",
    "        if datetime.year > 2049:\n",
    "            datetime = datetime - relativedelta(years = 100)\n",
    "        datetime = datetime.strftime(\"%Y%m%d\") + '0000'\n",
    "        if i == 0:\n",
    "            ret = [datetime]\n",
    "        else:\n",
    "            ret.append(datetime)\n",
    "    return ret\n",
    "\n",
    "def get_pph_date_strings(times):\n",
    "    # returns a list of strings of given dates formatted as 'YYYYMMDD0000'\n",
    "    for datetime, i in zip(times, range(len(times))):\n",
    "        string = datetime.dt.strftime(\"%Y%m%d\").values + '0000'\n",
    "        if i == 0:\n",
    "            ret = [string]\n",
    "        else:\n",
    "            ret.append(string)\n",
    "    return ret"
   ]
  },
  {
   "cell_type": "code",
   "execution_count": 4,
   "metadata": {},
   "outputs": [],
   "source": [
    "# add dates to reports and pph in same format as in outlooks\n",
    "if labelled == False:\n",
    "    reports['DATE'] = get_reports_date_strings(reports['BEGIN_DATE_TIME'], reports['CZ_TIMEZONE']) \n",
    "    pph['time'] = get_pph_date_strings(pph.time) \n",
    "    # subset outlooks into only one day 1, two day 2, and one day 3 categorical outlooks \n",
    "    # day 3: cycle not -1. day 2: cycle not -1. Day 1: cycle 6. Category: categorical.\n",
    "    outlooks = outlooks[(((outlooks['DAY'] == 1) & (outlooks['CYCLE'] == 6)) | ((outlooks['DAY'] == 2) & (outlooks['CYCLE'] != -1)) | ((outlooks['DAY'] == 3) & (outlooks['CYCLE'] != -1)))\n",
    "            & (outlooks['CATEGORY'] == 'CATEGORICAL')]\n",
    "\n",
    "    # reset incicies\n",
    "    outlooks = outlooks.reset_index(drop=True)"
   ]
  },
  {
   "cell_type": "code",
   "execution_count": 5,
   "metadata": {},
   "outputs": [],
   "source": [
    "def add_outlooks_label(outlooks, label_dates, labels, label_name, none_label):\n",
    "    # adds new column with values from labels on the corresponding list of dates in label_dates (DONE)\n",
    "    print(\"adding a new column in outlooks\")\n",
    "    outlooks[label_name] = none_label\n",
    "    for label, dates in zip(labels, label_dates):\n",
    "        #print(label)\n",
    "        outlooks[label_name].loc[outlooks['DATE'].isin(dates)] = label\n",
    "    return outlooks\n",
    "\n",
    "def add_pph_label(pph, label_dates, labels, label_name, none_label):\n",
    "    # adds new variable with values from labels on the corresponding list of dates in label_dates (DONE)\n",
    "    print(\"adding new variable in pph\")\n",
    "    pph[label_name] = (('time'), np.full(len(pph['time']), none_label))\n",
    "    for label, dates in zip(labels, label_dates):\n",
    "        #print(label) # TODO: only adding limited characters\n",
    "        pph[label_name].loc[pph['time'].isin(dates)] = label  \n",
    "    return pph\n",
    "\n",
    "def add_reports_label(reports, label_dates, labels, label_name, none_label):\n",
    "    # adds new column with values from labels on the corresponding list of dates in label_dates (DONE)\n",
    "    reports[label_name] = none_label\n",
    "    print(\"adding a new column in reports\")\n",
    "    for label, dates in zip(labels, label_dates):\n",
    "       #print(label)\n",
    "       reports[label_name].loc[reports['DATE'].isin(dates)] = label #\n",
    "    return reports\n",
    "\n",
    "def add_labels(outlooks, pph, reports, label_dates, labels, label_name, none_label):\n",
    "    # adds labels, overwriting with later ones if a date has multiple labels\n",
    "    return(add_outlooks_label(outlooks, label_dates, labels, label_name, none_label), \n",
    "           add_pph_label(pph, label_dates, labels, label_name, none_label),\n",
    "           add_reports_label(reports, label_dates, labels, label_name, none_label))\n",
    "\n"
   ]
  },
  {
   "cell_type": "code",
   "execution_count": 6,
   "metadata": {},
   "outputs": [],
   "source": [
    "def add_numerical_categorical_columns(new_outlooks, new_pph, new_reports, dates, values, category_thresholds, name, add_cat = True, add_num = True):\n",
    "    # from a list of dates and the corresponding values on those dates, adds numerical and categorical labels\n",
    "    # category thresholds: lower thresholds of each category for values (e.g. 60 for HIGH PPH)\n",
    "    num_dict = {\n",
    "        0: []\n",
    "    }\n",
    "    cat_dict  = dict((k, []) for k, v in category_thresholds.items())    \n",
    "        \n",
    "    for date, value in zip(dates, values):\n",
    "        # add to categorical dict\n",
    "        for cat in cat_dict:\n",
    "            if value >= category_thresholds[cat]:\n",
    "                # ... copy from non-generalized PPH code below\n",
    "                cat_dict[cat].append(date)\n",
    "                break\n",
    "        \n",
    "        # add to numerical dict\n",
    "        if value in num_dict:\n",
    "            num_dict[value].append(date)\n",
    "        else:\n",
    "            num_dict[value] = [date]\n",
    "\n",
    "    if add_cat:\n",
    "        (new_outlooks, new_pph, new_reports) = add_labels(new_outlooks, new_pph, new_reports, list(cat_dict.values()), cat_dict.keys(), name + '_CAT', 'NONE')\n",
    "    if add_num:\n",
    "        (new_outlooks, new_pph, new_reports) = add_labels(new_outlooks, new_pph, new_reports, list(num_dict.values()), num_dict.keys(), name + '_NUM', 0)\n",
    "\n",
    "    return(new_outlooks, new_pph, new_reports)"
   ]
  },
  {
   "cell_type": "code",
   "execution_count": 7,
   "metadata": {},
   "outputs": [],
   "source": [
    "new_outlooks = outlooks\n",
    "new_pph = pph\n",
    "new_reports = reports.drop(columns=['geometry'])"
   ]
  },
  {
   "cell_type": "markdown",
   "metadata": {},
   "source": [
    "## ALWAYS RUN THROUGH HERE. THEN TO ADD MORE LABELS, RUN JUST THE LABELLING YOU WISH TO BELOW"
   ]
  },
  {
   "cell_type": "markdown",
   "metadata": {},
   "source": [
    "# Subset by threshold"
   ]
  },
  {
   "cell_type": "code",
   "execution_count": null,
   "metadata": {},
   "outputs": [],
   "source": [
    "# add max threshold forecasted for valid day to each datapoint\n",
    "\n",
    "categories = ['TSTM', 'MRGL', 'SLGT', 'ENH', 'MDT', 'HIGH']\n",
    "category_dates = []\n",
    "for category in categories:\n",
    "    category_dates.append(identify_dates_above_threshold(new_outlooks, category))\n",
    "\n",
    "(new_outlooks, new_pph, new_reports) = add_labels(new_outlooks, new_pph, new_reports, category_dates, categories, 'MAX_CAT', 'NONE')\n",
    "\n"
   ]
  },
  {
   "cell_type": "markdown",
   "metadata": {},
   "source": [
    "# Subset by ramp up/down amount"
   ]
  },
  {
   "cell_type": "code",
   "execution_count": 10,
   "metadata": {},
   "outputs": [],
   "source": [
    "# put new_outlooks in correct order\n",
    "\n",
    "new_outlooks['DATE_ORDER'] = 0\n",
    "for index, row in new_outlooks.iterrows():\n",
    "    if row['DAY'] == 3:\n",
    "        new_outlooks.at[index, 'DATE_ORDER'] = row['DATE'] + '1'\n",
    "    elif row['DAY'] == 1:\n",
    "        new_outlooks.at[index, 'DATE_ORDER'] = row['DATE'] + '4'\n",
    "    elif row['CYCLE'] == 7:\n",
    "        new_outlooks.at[index, 'DATE_ORDER'] = row['DATE'] + '2'\n",
    "    else:\n",
    "        new_outlooks.at[index, 'DATE_ORDER'] = row['DATE'] + '3'\n",
    "new_outlooks = new_outlooks.sort_values('DATE_ORDER')\n",
    "\n"
   ]
  },
  {
   "cell_type": "code",
   "execution_count": 11,
   "metadata": {},
   "outputs": [],
   "source": [
    "def get_day_3_cutoff(outlooks):\n",
    "    # returns list of dates in outlooks \n",
    "    return outlooks[outlooks['DAY'] == 3]['DATE'].min()"
   ]
  },
  {
   "cell_type": "code",
   "execution_count": 12,
   "metadata": {},
   "outputs": [],
   "source": [
    "def create_ramp_lists(outlooks, category_dict):\n",
    "\n",
    "    first_day_3 = get_day_3_cutoff(outlooks)\n",
    "    first_day_2_1 = '199707100000'\n",
    "    first_day_2_2 = '199504040000'\n",
    "\n",
    "    ramp_ups = {\n",
    "        0: [],\n",
    "        1: [],\n",
    "        2: [],\n",
    "        3: [],\n",
    "        4: [],\n",
    "        5: [],\n",
    "        6: []\n",
    "    }\n",
    "\n",
    "    ramp_downs = {\n",
    "        0: [],\n",
    "        -1: [],\n",
    "        -2: [],\n",
    "        -3: [],\n",
    "        -4: [],\n",
    "        -5: [],\n",
    "        -6: []\n",
    "    }\n",
    "\n",
    "    ramp_categories = {\n",
    "        'up': [],\n",
    "        'down': [],\n",
    "        'both': [],\n",
    "        'neither': []\n",
    "    }\n",
    "\n",
    "    old_date = '0'\n",
    "    old_do = '0'\n",
    "    first = True\n",
    "\n",
    "    for index, row in outlooks.iterrows(): #iterrating through each polygon in the outlook dataset\n",
    "        cat = category_dict[row['THRESHOLD']]\n",
    "        do = row['DATE_ORDER']\n",
    "        date = row['DATE']\n",
    "\n",
    "        if date != old_date: # New date, save ramp up and ramp down and save alongside old date, then reset ramps, max and min categories seen, and do threshold\n",
    "            \n",
    "            \n",
    "            if first == True:\n",
    "                first = False\n",
    "            else:\n",
    "\n",
    "                if max_cat_do - min_cat_date > ramp_up:\n",
    "                    ramp_up = max_cat_do - min_cat_date\n",
    "                if max_cat_do - max_cat_date < ramp_down:\n",
    "                    ramp_down = max_cat_do - max_cat_date\n",
    "\n",
    "                if max_cat_do > max_cat_date:\n",
    "                    max_cat_date = max_cat_do\n",
    "                if max_cat_do < min_cat_date:\n",
    "                    min_cat_date = max_cat_do\n",
    "\n",
    "                ramp_ups[ramp_up].append(old_date)\n",
    "                ramp_downs[ramp_down].append(old_date)\n",
    "                if ramp_up > 0 and ramp_down < 0:\n",
    "                    ramp_categories['both'].append(old_date)\n",
    "                elif ramp_up > 0:\n",
    "                    ramp_categories['up'].append(old_date)\n",
    "                elif ramp_down < 0:\n",
    "                    ramp_categories['down'].append(old_date)\n",
    "                else:\n",
    "                    ramp_categories['neither'].append(old_date)\n",
    "\n",
    "            old_date = date\n",
    "            old_do = do\n",
    "            \n",
    "            ramp_down = 0\n",
    "            ramp_up = 0\n",
    "            max_cat_date = -1\n",
    "            \n",
    "    \n",
    "            if date > first_day_3 and do[-1] == '1': # Since 2002\n",
    "                min_cat_date = 5 \n",
    "            elif date > first_day_2_1 and (do[-1] == '2' or do[-1] == '1'): # Since 1997. Check for 1 is in case there is an earlier forecast issued.\n",
    "                min_cat_date = 5 \n",
    "            elif date > first_day_2_2 and (do[-1] == '3' or do[-1] == '2' or do[-1] == '1'): # Since 1995\n",
    "                min_cat_date = 5 \n",
    "            elif date <= first_day_2_2:\n",
    "                min_cat_date = 5\n",
    "            else:\n",
    "                min_cat_date = -1 # The first outlook on this date was not the earliest forecast it could have been, so it ramped up from no forecast\n",
    "\n",
    "            max_cat_do = cat\n",
    "\n",
    "\n",
    "        elif do != old_do: # new outlook, update min and max categories seen, ramp value\n",
    "            if max_cat_do - min_cat_date > ramp_up:\n",
    "                ramp_up = max_cat_do - min_cat_date\n",
    "            if max_cat_do - max_cat_date < ramp_down:\n",
    "                ramp_down = max_cat_do - max_cat_date\n",
    "\n",
    "            if max_cat_do > max_cat_date:\n",
    "                max_cat_date = max_cat_do\n",
    "            if max_cat_do < min_cat_date:\n",
    "                min_cat_date = max_cat_do\n",
    "\n",
    "            old_do = do\n",
    "\n",
    "            max_cat_do = cat\n",
    "\n",
    "        else: # Just another threshold within the same polygon\n",
    "            if cat > max_cat_do:\n",
    "                max_cat_do = cat\n",
    "            \n",
    "        \n",
    "    # for last iteration\n",
    "    ramp_ups[ramp_up].append(old_date)\n",
    "    ramp_downs[ramp_down].append(old_date)\n",
    "    if ramp_up > 0 and ramp_down < 0:\n",
    "        ramp_categories['both'].append(old_date)\n",
    "    elif ramp_up > 0:\n",
    "        ramp_categories['up'].append(old_date)\n",
    "    elif ramp_down < 0:\n",
    "        ramp_categories['down'].append(old_date)\n",
    "    else:\n",
    "        ramp_categories['neither'].append(old_date)\n",
    "\n",
    "    return(ramp_ups, ramp_downs, ramp_categories)\n"
   ]
  },
  {
   "cell_type": "code",
   "execution_count": 13,
   "metadata": {},
   "outputs": [],
   "source": [
    "# define and add ramp category for each datapoint. Potentially add 2 binary ramp up and ramp down (4 options are [up, down, up and down, niether]). How many forecasts to consider for each day? The day 3, both day 2, and the first day 1 (so 4 forecasts ramp)\n",
    "# dictionary of category to number\n",
    "category_dict = {\n",
    "    None : -1,\n",
    "    'NONE' : -1,\n",
    "    'TSTM': 0,\n",
    "    'MRGL': 1,\n",
    "    'SLGT': 2,\n",
    "    'ENH': 3,\n",
    "    'MDT': 4,\n",
    "    'HIGH': 5\n",
    "}\n",
    "\n",
    "(ramp_ups, ramp_downs, ramp_categories) = create_ramp_lists(new_outlooks, category_dict)"
   ]
  },
  {
   "cell_type": "code",
   "execution_count": 14,
   "metadata": {},
   "outputs": [
    {
     "name": "stdout",
     "output_type": "stream",
     "text": [
      "adding a new column in outlooks\n",
      "adding new variable in pph\n"
     ]
    },
    {
     "name": "stderr",
     "output_type": "stream",
     "text": [
      "C:\\Users\\miles\\AppData\\Local\\Temp\\ipykernel_16700\\3725785756.py:7: SettingWithCopyWarning: \n",
      "A value is trying to be set on a copy of a slice from a DataFrame\n",
      "\n",
      "See the caveats in the documentation: https://pandas.pydata.org/pandas-docs/stable/user_guide/indexing.html#returning-a-view-versus-a-copy\n",
      "  outlooks[label_name].loc[outlooks['DATE'].isin(dates)] = label\n"
     ]
    },
    {
     "name": "stdout",
     "output_type": "stream",
     "text": [
      "adding a new column in reports\n"
     ]
    },
    {
     "name": "stderr",
     "output_type": "stream",
     "text": [
      "C:\\Users\\miles\\AppData\\Local\\Temp\\ipykernel_16700\\3725785756.py:25: SettingWithCopyWarning: \n",
      "A value is trying to be set on a copy of a slice from a DataFrame\n",
      "\n",
      "See the caveats in the documentation: https://pandas.pydata.org/pandas-docs/stable/user_guide/indexing.html#returning-a-view-versus-a-copy\n",
      "  reports[label_name].loc[reports['DATE'].isin(dates)] = label #\n"
     ]
    },
    {
     "name": "stdout",
     "output_type": "stream",
     "text": [
      "adding a new column in outlooks\n",
      "adding new variable in pph\n",
      "adding a new column in reports\n",
      "adding a new column in outlooks\n",
      "adding new variable in pph\n"
     ]
    },
    {
     "name": "stderr",
     "output_type": "stream",
     "text": [
      "C:\\Users\\miles\\AppData\\Local\\Temp\\ipykernel_16700\\3725785756.py:7: SettingWithCopyWarning: \n",
      "A value is trying to be set on a copy of a slice from a DataFrame\n",
      "\n",
      "See the caveats in the documentation: https://pandas.pydata.org/pandas-docs/stable/user_guide/indexing.html#returning-a-view-versus-a-copy\n",
      "  outlooks[label_name].loc[outlooks['DATE'].isin(dates)] = label\n"
     ]
    },
    {
     "name": "stdout",
     "output_type": "stream",
     "text": [
      "adding a new column in reports\n"
     ]
    },
    {
     "name": "stderr",
     "output_type": "stream",
     "text": [
      "C:\\Users\\miles\\AppData\\Local\\Temp\\ipykernel_16700\\3725785756.py:25: SettingWithCopyWarning: \n",
      "A value is trying to be set on a copy of a slice from a DataFrame\n",
      "\n",
      "See the caveats in the documentation: https://pandas.pydata.org/pandas-docs/stable/user_guide/indexing.html#returning-a-view-versus-a-copy\n",
      "  reports[label_name].loc[reports['DATE'].isin(dates)] = label #\n"
     ]
    }
   ],
   "source": [
    "\n",
    "# ramp up\n",
    "(new_outlooks, new_pph, new_reports) = add_labels(new_outlooks, new_pph, new_reports, list(ramp_ups.values()), ramp_ups.keys(), 'RAMP_UP', 0)\n",
    "\n",
    "# ramp down\n",
    "(new_outlooks, new_pph, new_reports) = add_labels(new_outlooks, new_pph, new_reports, list(ramp_downs.values()), ramp_downs.keys(), 'RAMP_DOWN', 0)\n",
    "\n",
    "# ramp categories\n",
    "(new_outlooks, new_pph, new_reports) = add_labels(new_outlooks, new_pph, new_reports, list(ramp_categories.values()), ramp_categories.keys(), 'RAMP_CATEGORIES', 'neither')\n"
   ]
  },
  {
   "cell_type": "markdown",
   "metadata": {},
   "source": [
    "# Subset by accurate/inaccurate"
   ]
  },
  {
   "cell_type": "markdown",
   "metadata": {},
   "source": [
    "Consider forecast issue time for day 1--subset reports (and revise pph?)--look at other studies to see how they handled multiple day 1 outlooks (see the one in slack). Starting point should be use first forecasts, later ones would be a different analysis for another time. Decide if we should denote these somehow.."
   ]
  },
  {
   "cell_type": "markdown",
   "metadata": {},
   "source": [
    "# Subset by season"
   ]
  },
  {
   "cell_type": "code",
   "execution_count": null,
   "metadata": {},
   "outputs": [],
   "source": [
    "def get_season_dates(pph):\n",
    "    dates = list(set(pph['time'].values))\n",
    "    season_dates = [[], [], [], []]\n",
    "    for date in dates:\n",
    "        month = int(date[4:6])\n",
    "        if month == 12 or month < 3:\n",
    "            season_dates[0].append(date)\n",
    "        elif month < 6:\n",
    "            season_dates[1].append(date)\n",
    "        elif month < 9:\n",
    "            season_dates[2].append(date)\n",
    "        else:\n",
    "            season_dates[3].append(date)\n",
    "    return season_dates"
   ]
  },
  {
   "cell_type": "code",
   "execution_count": null,
   "metadata": {},
   "outputs": [],
   "source": [
    "# add column denoting season (4 met seasons as starting point)\n",
    "\n",
    "seasons = ['Winter', 'Spring', 'Summer', 'Fall']\n",
    "season_dates = get_season_dates(new_pph)\n",
    "(new_outlooks, new_pph, new_reports) = add_labels(new_outlooks, new_pph, new_reports, season_dates, seasons, 'SEASON', 'xxxxxx')\n"
   ]
  },
  {
   "cell_type": "markdown",
   "metadata": {},
   "source": [
    "# Subset by region"
   ]
  },
  {
   "cell_type": "code",
   "execution_count": null,
   "metadata": {},
   "outputs": [],
   "source": [
    "# decide how to do... lower priotity, could do by state of center of highest category (or center of PPH?) Could start with super basic version\n",
    "# same regions as Anderson-Frey 2016\n",
    "# center is grid square with highest p_perfect prob of at least one hazard (assuming each hazard in independent)\n",
    "\n",
    "# practically perfect probability of at least one hazard occuring near datapoint\n",
    "new_pph['p_perfect_total'] = (1 - (1-new_pph['p_perfect_wind']/100)*(1-new_pph['p_perfect_hail']/100)*(1-new_pph['p_perfect_tor']/100))*100\n"
   ]
  },
  {
   "cell_type": "code",
   "execution_count": null,
   "metadata": {},
   "outputs": [],
   "source": [
    "# collect regions in chunks (since doing it all at once can time out)\n",
    "regions = {\n",
    "        'West': [],\n",
    "        'Midwest': [],\n",
    "        'Great Plains': [],\n",
    "        'Northeast': [],\n",
    "        'South': [],\n",
    "        'NONE': []\n",
    "    }\n"
   ]
  },
  {
   "cell_type": "code",
   "execution_count": null,
   "metadata": {},
   "outputs": [],
   "source": [
    "def get_state(lat, lon, geolocator):\n",
    "    location = geolocator.reverse(str(lat)+\",\"+str(lon))\n",
    "    if location == None:\n",
    "        return None\n",
    "    address = location.raw['address']\n",
    "    state = address.get('state', '')\n",
    "    return state\n",
    "\n",
    "def get_region(lat, lon, west_threshold_co_nm, regions_dict, geolocator):\n",
    "    state = get_state(lat, lon, geolocator)\n",
    "    if state == 'Colorado' or state == 'New Mexico':\n",
    "        if lon < west_threshold_co_nm:\n",
    "            return('West')\n",
    "        else:\n",
    "            return('Great Plains')\n",
    "    for region in regions_dict:\n",
    "        if state in regions_dict[region]:\n",
    "            return region\n",
    "    # Cases where highest PPH is out of contiguous states, usually just outside bc nearest gridpoint is on other side of border\n",
    "    if lat > 38:\n",
    "        if lon > -80.5:\n",
    "            return('Northeast')\n",
    "        elif lon > -104:\n",
    "            return('Great Plains')\n",
    "        else:\n",
    "            return('West')\n",
    "    else:\n",
    "        if lon > -93.8:\n",
    "            return('South')\n",
    "        elif lon > -106.5:\n",
    "            return('Great Plains')\n",
    "        else:\n",
    "            return('West')\n",
    "    return('NONE')\n",
    "\n",
    "\n",
    "def create_regions(pph):\n",
    "    regions = {\n",
    "        'West': [],\n",
    "        'Midwest': [],\n",
    "        'Great Plains': [],\n",
    "        'Northeast': [],\n",
    "        'South': [],\n",
    "        'NONE': []\n",
    "    }\n",
    "\n",
    "    geolocator = Nominatim(user_agent=\"severe_thunderstorm_miles\")\n",
    "    west_threshold_co_nm = -105\n",
    "    regions_dict = { # list of states fully within each region (doesn't include AK, HI, CO, NM)\n",
    "        'West': ['Washington', 'Oregon', 'California', 'Idaho', 'Montana', 'Wyoming', 'Utah', 'Arizona'],\n",
    "        'Midwest': ['North Dakota', 'South Dakota', 'Minnesota', 'Iowa', 'Wisconsin', 'Illinois', 'Michigan', 'Indiana', 'Ohio', 'Kentucky'],\n",
    "        'Great Plains': ['Nebraska', 'Kansas', 'Oklahoma', 'Texas', 'Missouri'],\n",
    "        'Northeast': ['Maine', 'Vermont', 'New Hampshire', 'Massachusetts', 'Rhode Island', 'Connecticut', 'New York', 'Pennsylvania', 'New Jersey', 'Delaware', 'Maryland', 'District of Columbia', 'West Virginia'],\n",
    "        'South': ['Virginia', 'Arkansas', 'Louisiana', 'Tennessee', 'Mississippi', 'Alabama', 'Georgia', 'North Carolina', 'South Carolina', 'Florida']\n",
    "    }\n",
    "\n",
    "    old_year = ''\n",
    "    for date, date_pph in pph.groupby('time'):\n",
    "        if date_pph['p_perfect_total'].max() > 0:\n",
    "            year = date[0:4]\n",
    "            if year != old_year:\n",
    "                print(\"Finding regions for \" + year)\n",
    "                old_year = year\n",
    "            max_coords = date_pph['p_perfect_total'].argmax(dim = ['x', 'y'])\n",
    "            max_x_coord = max_coords['x'].values\n",
    "            max_y_coord = max_coords['y'].values\n",
    "            lat = date_pph['lat'].loc[dict(x = max_x_coord, y = max_y_coord)].values\n",
    "            lon = date_pph['lon'].loc[dict(x = max_x_coord, y = max_y_coord)].values\n",
    "            region = get_region(lat, lon, west_threshold_co_nm, regions_dict, geolocator)\n",
    "            regions[region].append(date)\n",
    "            \n",
    "    return(regions)"
   ]
  },
  {
   "cell_type": "code",
   "execution_count": null,
   "metadata": {},
   "outputs": [],
   "source": [
    "chunks = 10\n",
    "time_array = new_pph['time']\n",
    "chunk_size = math.ceil(len(time_array)/chunks)\n",
    "time_arrays = [time_array[i:i + chunk_size] for i in range(0, len(time_array), chunk_size)]\n",
    "for i in range(2, 3):\n",
    "    chunk_regions = create_regions(new_pph.sel(time = time_arrays[i]))\n",
    "    for region in regions:\n",
    "        regions[region] += chunk_regions[region]\n",
    "    print('Added chunk ' + str(i) + ' to regions')"
   ]
  },
  {
   "cell_type": "code",
   "execution_count": null,
   "metadata": {},
   "outputs": [],
   "source": [
    "(new_outlooks, new_pph, new_reports) = add_labels(new_outlooks, new_pph, new_reports, list(regions.values()), regions.keys(), 'REGION', 'NONE')"
   ]
  },
  {
   "cell_type": "markdown",
   "metadata": {},
   "source": [
    "# Subset by environmental data (to do later)"
   ]
  },
  {
   "cell_type": "code",
   "execution_count": null,
   "metadata": {},
   "outputs": [],
   "source": []
  },
  {
   "cell_type": "markdown",
   "metadata": {},
   "source": [
    "# Label by max total pph"
   ]
  },
  {
   "cell_type": "code",
   "execution_count": 15,
   "metadata": {},
   "outputs": [],
   "source": [
    "# testing add numerical_categorical_columns\n",
    "dates = []\n",
    "pphs = []\n",
    "for date, date_pph in pph.groupby('time'):\n",
    "    dates.append(date)\n",
    "    pphs.append(float(date_pph['p_perfect_total'].max().values))\n",
    "\n",
    "pph_thresholds = { \n",
    "    'HIGH': 60,\n",
    "    'MDT': 45,\n",
    "    'ENH': 30,\n",
    "    'SLGT': 15,\n",
    "    'MRGL': 5,\n",
    "    'ZERO': 0\n",
    "}"
   ]
  },
  {
   "cell_type": "code",
   "execution_count": 16,
   "metadata": {},
   "outputs": [
    {
     "name": "stdout",
     "output_type": "stream",
     "text": [
      "adding a new column in outlooks\n",
      "adding new variable in pph\n"
     ]
    },
    {
     "name": "stderr",
     "output_type": "stream",
     "text": [
      "C:\\Users\\miles\\AppData\\Local\\Temp\\ipykernel_16700\\3725785756.py:7: SettingWithCopyWarning: \n",
      "A value is trying to be set on a copy of a slice from a DataFrame\n",
      "\n",
      "See the caveats in the documentation: https://pandas.pydata.org/pandas-docs/stable/user_guide/indexing.html#returning-a-view-versus-a-copy\n",
      "  outlooks[label_name].loc[outlooks['DATE'].isin(dates)] = label\n"
     ]
    },
    {
     "name": "stdout",
     "output_type": "stream",
     "text": [
      "adding a new column in reports\n"
     ]
    },
    {
     "name": "stderr",
     "output_type": "stream",
     "text": [
      "C:\\Users\\miles\\AppData\\Local\\Temp\\ipykernel_16700\\3725785756.py:25: SettingWithCopyWarning: \n",
      "A value is trying to be set on a copy of a slice from a DataFrame\n",
      "\n",
      "See the caveats in the documentation: https://pandas.pydata.org/pandas-docs/stable/user_guide/indexing.html#returning-a-view-versus-a-copy\n",
      "  reports[label_name].loc[reports['DATE'].isin(dates)] = label #\n"
     ]
    },
    {
     "name": "stdout",
     "output_type": "stream",
     "text": [
      "adding a new column in outlooks\n"
     ]
    },
    {
     "name": "stderr",
     "output_type": "stream",
     "text": [
      "C:\\Users\\miles\\AppData\\Local\\Temp\\ipykernel_16700\\3725785756.py:7: SettingWithCopyWarning: \n",
      "A value is trying to be set on a copy of a slice from a DataFrame\n",
      "\n",
      "See the caveats in the documentation: https://pandas.pydata.org/pandas-docs/stable/user_guide/indexing.html#returning-a-view-versus-a-copy\n",
      "  outlooks[label_name].loc[outlooks['DATE'].isin(dates)] = label\n"
     ]
    },
    {
     "name": "stdout",
     "output_type": "stream",
     "text": [
      "adding new variable in pph\n",
      "adding a new column in reports\n"
     ]
    },
    {
     "name": "stderr",
     "output_type": "stream",
     "text": [
      "C:\\Users\\miles\\AppData\\Local\\Temp\\ipykernel_16700\\3725785756.py:25: SettingWithCopyWarning: \n",
      "A value is trying to be set on a copy of a slice from a DataFrame\n",
      "\n",
      "See the caveats in the documentation: https://pandas.pydata.org/pandas-docs/stable/user_guide/indexing.html#returning-a-view-versus-a-copy\n",
      "  reports[label_name].loc[reports['DATE'].isin(dates)] = label #\n"
     ]
    }
   ],
   "source": [
    "new_outlooks, new_pph, new_reports = add_numerical_categorical_columns(new_outlooks, new_pph, new_reports, dates, pphs, pph_thresholds, 'MAX_PPH')"
   ]
  },
  {
   "cell_type": "markdown",
   "metadata": {},
   "source": [
    "# Label by number of storm reports"
   ]
  },
  {
   "cell_type": "code",
   "execution_count": 17,
   "metadata": {},
   "outputs": [],
   "source": [
    "reports_severe = new_reports\n",
    "new_reports.loc[new_reports['MAGNITUDE'] == '', 'MAGNITUDE'] = 0\n",
    "reports_severe = reports_severe[(reports_severe['EVENT_TYPE'] == 'Tornado') | \n",
    "                             ((reports_severe['EVENT_TYPE'] == 'Thunderstorm Wind') & (reports_severe['MAGNITUDE'].astype(float) >= 50)) |\n",
    "                             ((reports_severe['EVENT_TYPE'] == 'Hail') & (reports_severe['MAGNITUDE'].astype(float) >= 1))]\n",
    "full_dates = reports_severe['DATE']\n",
    "c = Counter(full_dates)\n",
    "\n",
    "num_reports_thresholds = {\n",
    "    '1000': 1000,\n",
    "    '500': 500,\n",
    "    '100': 100,\n",
    "    '50': 50,\n",
    "    '10': 10,\n",
    "    '1': 1,\n",
    "    '0': 0\n",
    "}\n",
    "    "
   ]
  },
  {
   "cell_type": "code",
   "execution_count": 18,
   "metadata": {},
   "outputs": [
    {
     "name": "stdout",
     "output_type": "stream",
     "text": [
      "adding a new column in outlooks\n"
     ]
    },
    {
     "name": "stderr",
     "output_type": "stream",
     "text": [
      "C:\\Users\\miles\\AppData\\Local\\Temp\\ipykernel_16700\\3725785756.py:7: SettingWithCopyWarning: \n",
      "A value is trying to be set on a copy of a slice from a DataFrame\n",
      "\n",
      "See the caveats in the documentation: https://pandas.pydata.org/pandas-docs/stable/user_guide/indexing.html#returning-a-view-versus-a-copy\n",
      "  outlooks[label_name].loc[outlooks['DATE'].isin(dates)] = label\n"
     ]
    },
    {
     "name": "stdout",
     "output_type": "stream",
     "text": [
      "adding new variable in pph\n",
      "adding a new column in reports\n"
     ]
    },
    {
     "name": "stderr",
     "output_type": "stream",
     "text": [
      "C:\\Users\\miles\\AppData\\Local\\Temp\\ipykernel_16700\\3725785756.py:25: SettingWithCopyWarning: \n",
      "A value is trying to be set on a copy of a slice from a DataFrame\n",
      "\n",
      "See the caveats in the documentation: https://pandas.pydata.org/pandas-docs/stable/user_guide/indexing.html#returning-a-view-versus-a-copy\n",
      "  reports[label_name].loc[reports['DATE'].isin(dates)] = label #\n"
     ]
    }
   ],
   "source": [
    "new_outlooks, new_pph, new_reports = add_numerical_categorical_columns(new_outlooks, new_pph, new_reports, c.keys(), c.values(), num_reports_thresholds, 'NUM_REPORTS', add_cat = False)"
   ]
  },
  {
   "cell_type": "markdown",
   "metadata": {},
   "source": [
    "# Label by number of each type of report"
   ]
  },
  {
   "cell_type": "code",
   "execution_count": 19,
   "metadata": {},
   "outputs": [],
   "source": [
    "tornado_reports = new_reports[new_reports['EVENT_TYPE'] == 'Tornado']\n",
    "\n",
    "wind_reports = reports_severe[reports_severe['EVENT_TYPE'] == 'Thunderstorm Wind']\n",
    "\n",
    "hail_reports = reports_severe[reports_severe['EVENT_TYPE'] == 'Hail']"
   ]
  },
  {
   "cell_type": "code",
   "execution_count": 20,
   "metadata": {},
   "outputs": [
    {
     "name": "stdout",
     "output_type": "stream",
     "text": [
      "adding a new column in outlooks\n"
     ]
    },
    {
     "name": "stderr",
     "output_type": "stream",
     "text": [
      "C:\\Users\\miles\\AppData\\Local\\Temp\\ipykernel_16700\\3725785756.py:7: SettingWithCopyWarning: \n",
      "A value is trying to be set on a copy of a slice from a DataFrame\n",
      "\n",
      "See the caveats in the documentation: https://pandas.pydata.org/pandas-docs/stable/user_guide/indexing.html#returning-a-view-versus-a-copy\n",
      "  outlooks[label_name].loc[outlooks['DATE'].isin(dates)] = label\n"
     ]
    },
    {
     "name": "stdout",
     "output_type": "stream",
     "text": [
      "adding new variable in pph\n",
      "adding a new column in reports\n"
     ]
    },
    {
     "name": "stderr",
     "output_type": "stream",
     "text": [
      "C:\\Users\\miles\\AppData\\Local\\Temp\\ipykernel_16700\\3725785756.py:25: SettingWithCopyWarning: \n",
      "A value is trying to be set on a copy of a slice from a DataFrame\n",
      "\n",
      "See the caveats in the documentation: https://pandas.pydata.org/pandas-docs/stable/user_guide/indexing.html#returning-a-view-versus-a-copy\n",
      "  reports[label_name].loc[reports['DATE'].isin(dates)] = label #\n"
     ]
    },
    {
     "name": "stdout",
     "output_type": "stream",
     "text": [
      "adding a new column in outlooks\n"
     ]
    },
    {
     "name": "stderr",
     "output_type": "stream",
     "text": [
      "C:\\Users\\miles\\AppData\\Local\\Temp\\ipykernel_16700\\3725785756.py:7: SettingWithCopyWarning: \n",
      "A value is trying to be set on a copy of a slice from a DataFrame\n",
      "\n",
      "See the caveats in the documentation: https://pandas.pydata.org/pandas-docs/stable/user_guide/indexing.html#returning-a-view-versus-a-copy\n",
      "  outlooks[label_name].loc[outlooks['DATE'].isin(dates)] = label\n"
     ]
    },
    {
     "name": "stdout",
     "output_type": "stream",
     "text": [
      "adding new variable in pph\n",
      "adding a new column in reports\n"
     ]
    },
    {
     "name": "stderr",
     "output_type": "stream",
     "text": [
      "C:\\Users\\miles\\AppData\\Local\\Temp\\ipykernel_16700\\3725785756.py:25: SettingWithCopyWarning: \n",
      "A value is trying to be set on a copy of a slice from a DataFrame\n",
      "\n",
      "See the caveats in the documentation: https://pandas.pydata.org/pandas-docs/stable/user_guide/indexing.html#returning-a-view-versus-a-copy\n",
      "  reports[label_name].loc[reports['DATE'].isin(dates)] = label #\n"
     ]
    },
    {
     "name": "stdout",
     "output_type": "stream",
     "text": [
      "adding a new column in outlooks\n"
     ]
    },
    {
     "name": "stderr",
     "output_type": "stream",
     "text": [
      "C:\\Users\\miles\\AppData\\Local\\Temp\\ipykernel_16700\\3725785756.py:7: SettingWithCopyWarning: \n",
      "A value is trying to be set on a copy of a slice from a DataFrame\n",
      "\n",
      "See the caveats in the documentation: https://pandas.pydata.org/pandas-docs/stable/user_guide/indexing.html#returning-a-view-versus-a-copy\n",
      "  outlooks[label_name].loc[outlooks['DATE'].isin(dates)] = label\n"
     ]
    },
    {
     "name": "stdout",
     "output_type": "stream",
     "text": [
      "adding new variable in pph\n",
      "adding a new column in reports\n"
     ]
    },
    {
     "name": "stderr",
     "output_type": "stream",
     "text": [
      "C:\\Users\\miles\\AppData\\Local\\Temp\\ipykernel_16700\\3725785756.py:25: SettingWithCopyWarning: \n",
      "A value is trying to be set on a copy of a slice from a DataFrame\n",
      "\n",
      "See the caveats in the documentation: https://pandas.pydata.org/pandas-docs/stable/user_guide/indexing.html#returning-a-view-versus-a-copy\n",
      "  reports[label_name].loc[reports['DATE'].isin(dates)] = label #\n"
     ]
    }
   ],
   "source": [
    "tornado_dates = tornado_reports['DATE']\n",
    "tornado_c = Counter(tornado_dates)\n",
    "\n",
    "wind_dates = wind_reports['DATE']\n",
    "wind_c = Counter(wind_dates)\n",
    "\n",
    "hail_dates = hail_reports['DATE']\n",
    "hail_c = Counter(hail_dates)\n",
    "\n",
    "new_outlooks, new_pph, new_reports = add_numerical_categorical_columns(new_outlooks, new_pph, new_reports, tornado_c.keys(), tornado_c.values(), num_reports_thresholds, 'TOR_REPORTS', add_cat = False)\n",
    "new_outlooks, new_pph, new_reports = add_numerical_categorical_columns(new_outlooks, new_pph, new_reports, wind_c.keys(), wind_c.values(), num_reports_thresholds, 'WIND_REPORTS', add_cat = False)\n",
    "new_outlooks, new_pph, new_reports = add_numerical_categorical_columns(new_outlooks, new_pph, new_reports, hail_c.keys(), hail_c.values(), num_reports_thresholds, 'HAIL_REPORTS', add_cat = False)"
   ]
  },
  {
   "cell_type": "markdown",
   "metadata": {},
   "source": [
    "# Label by size of largest report of each type"
   ]
  },
  {
   "cell_type": "code",
   "execution_count": 21,
   "metadata": {},
   "outputs": [
    {
     "name": "stdout",
     "output_type": "stream",
     "text": [
      "adding a new column in outlooks\n",
      "adding new variable in pph\n"
     ]
    },
    {
     "name": "stderr",
     "output_type": "stream",
     "text": [
      "C:\\Users\\miles\\AppData\\Local\\Temp\\ipykernel_16700\\3725785756.py:7: SettingWithCopyWarning: \n",
      "A value is trying to be set on a copy of a slice from a DataFrame\n",
      "\n",
      "See the caveats in the documentation: https://pandas.pydata.org/pandas-docs/stable/user_guide/indexing.html#returning-a-view-versus-a-copy\n",
      "  outlooks[label_name].loc[outlooks['DATE'].isin(dates)] = label\n"
     ]
    },
    {
     "name": "stdout",
     "output_type": "stream",
     "text": [
      "adding a new column in reports\n"
     ]
    },
    {
     "name": "stderr",
     "output_type": "stream",
     "text": [
      "C:\\Users\\miles\\AppData\\Local\\Temp\\ipykernel_16700\\3725785756.py:25: SettingWithCopyWarning: \n",
      "A value is trying to be set on a copy of a slice from a DataFrame\n",
      "\n",
      "See the caveats in the documentation: https://pandas.pydata.org/pandas-docs/stable/user_guide/indexing.html#returning-a-view-versus-a-copy\n",
      "  reports[label_name].loc[reports['DATE'].isin(dates)] = label #\n"
     ]
    }
   ],
   "source": [
    "# tor: Categorical. Decide if we want to combine f and ef max \n",
    "strongest_tornadoes = tornado_reports.groupby('DATE').agg({'TOR_F_SCALE': 'max'})['TOR_F_SCALE']\n",
    "strongest_tornadoes_without_u = tornado_reports[tornado_reports['TOR_F_SCALE'] != 'EFU'].groupby('DATE').agg({'TOR_F_SCALE': 'max'})['TOR_F_SCALE']\n",
    "\n",
    "tornado_strengths = {\n",
    "    'EFU': [],\n",
    "    '(E)F0': [],\n",
    "    '(E)F1': [],\n",
    "    '(E)F2': [],\n",
    "    '(E)F3': [],\n",
    "    '(E)F4': [],\n",
    "    '(E)F5': []\n",
    "}\n",
    "for date, s in zip(strongest_tornadoes.index, strongest_tornadoes):\n",
    "    if s == 'EFU':\n",
    "        if date in strongest_tornadoes_without_u:\n",
    "            tornado_strengths['(E)F' + strongest_tornadoes_without_u[date][-1]].append(date)\n",
    "        else:\n",
    "            tornado_strengths['EFU'].append(date)\n",
    "\n",
    "    elif s != '':\n",
    "        tornado_strengths['(E)F' + s[-1]].append(date)\n",
    "\n",
    "(new_outlooks, new_pph, new_reports) = add_labels(new_outlooks, new_pph, new_reports, list(tornado_strengths.values()), tornado_strengths.keys(), 'MAX_TORNADO_RATING', 'NONE')"
   ]
  },
  {
   "cell_type": "code",
   "execution_count": 22,
   "metadata": {},
   "outputs": [],
   "source": [
    "# both wind and hail have a few weird outliers: Wind all pre-2000. Hail has 2 0.00 and 1 0.01 in 2005. Unmeasured wind reports are 50 (knots)\n",
    "winds = wind_reports.groupby('DATE').agg({'MAGNITUDE': 'max'})\n",
    "hails = hail_reports.groupby('DATE').agg({'MAGNITUDE': 'max'})"
   ]
  },
  {
   "cell_type": "code",
   "execution_count": 23,
   "metadata": {},
   "outputs": [],
   "source": [
    "wind_thresholds = {\n",
    "    'sig_severe': 65,\n",
    "    'severe': 50,\n",
    "    'NONE': 0\n",
    "}\n",
    "\n",
    "hail_thresholds = {\n",
    "    'sig_severe': 2,\n",
    "    'severe': 1,\n",
    "    'NONE': 0\n",
    "}"
   ]
  },
  {
   "cell_type": "code",
   "execution_count": 24,
   "metadata": {},
   "outputs": [
    {
     "name": "stdout",
     "output_type": "stream",
     "text": [
      "adding a new column in outlooks\n",
      "adding new variable in pph\n"
     ]
    },
    {
     "name": "stderr",
     "output_type": "stream",
     "text": [
      "C:\\Users\\miles\\AppData\\Local\\Temp\\ipykernel_16700\\3725785756.py:7: SettingWithCopyWarning: \n",
      "A value is trying to be set on a copy of a slice from a DataFrame\n",
      "\n",
      "See the caveats in the documentation: https://pandas.pydata.org/pandas-docs/stable/user_guide/indexing.html#returning-a-view-versus-a-copy\n",
      "  outlooks[label_name].loc[outlooks['DATE'].isin(dates)] = label\n"
     ]
    },
    {
     "name": "stdout",
     "output_type": "stream",
     "text": [
      "adding a new column in reports\n"
     ]
    },
    {
     "name": "stderr",
     "output_type": "stream",
     "text": [
      "C:\\Users\\miles\\AppData\\Local\\Temp\\ipykernel_16700\\3725785756.py:25: SettingWithCopyWarning: \n",
      "A value is trying to be set on a copy of a slice from a DataFrame\n",
      "\n",
      "See the caveats in the documentation: https://pandas.pydata.org/pandas-docs/stable/user_guide/indexing.html#returning-a-view-versus-a-copy\n",
      "  reports[label_name].loc[reports['DATE'].isin(dates)] = label #\n"
     ]
    },
    {
     "name": "stdout",
     "output_type": "stream",
     "text": [
      "adding a new column in outlooks\n"
     ]
    },
    {
     "name": "stderr",
     "output_type": "stream",
     "text": [
      "C:\\Users\\miles\\AppData\\Local\\Temp\\ipykernel_16700\\3725785756.py:7: SettingWithCopyWarning: \n",
      "A value is trying to be set on a copy of a slice from a DataFrame\n",
      "\n",
      "See the caveats in the documentation: https://pandas.pydata.org/pandas-docs/stable/user_guide/indexing.html#returning-a-view-versus-a-copy\n",
      "  outlooks[label_name].loc[outlooks['DATE'].isin(dates)] = label\n"
     ]
    },
    {
     "name": "stdout",
     "output_type": "stream",
     "text": [
      "adding new variable in pph\n",
      "adding a new column in reports\n"
     ]
    },
    {
     "name": "stderr",
     "output_type": "stream",
     "text": [
      "C:\\Users\\miles\\AppData\\Local\\Temp\\ipykernel_16700\\3725785756.py:25: SettingWithCopyWarning: \n",
      "A value is trying to be set on a copy of a slice from a DataFrame\n",
      "\n",
      "See the caveats in the documentation: https://pandas.pydata.org/pandas-docs/stable/user_guide/indexing.html#returning-a-view-versus-a-copy\n",
      "  reports[label_name].loc[reports['DATE'].isin(dates)] = label #\n"
     ]
    },
    {
     "name": "stdout",
     "output_type": "stream",
     "text": [
      "adding a new column in outlooks\n",
      "adding new variable in pph\n"
     ]
    },
    {
     "name": "stderr",
     "output_type": "stream",
     "text": [
      "C:\\Users\\miles\\AppData\\Local\\Temp\\ipykernel_16700\\3725785756.py:7: SettingWithCopyWarning: \n",
      "A value is trying to be set on a copy of a slice from a DataFrame\n",
      "\n",
      "See the caveats in the documentation: https://pandas.pydata.org/pandas-docs/stable/user_guide/indexing.html#returning-a-view-versus-a-copy\n",
      "  outlooks[label_name].loc[outlooks['DATE'].isin(dates)] = label\n"
     ]
    },
    {
     "name": "stdout",
     "output_type": "stream",
     "text": [
      "adding a new column in reports\n"
     ]
    },
    {
     "name": "stderr",
     "output_type": "stream",
     "text": [
      "C:\\Users\\miles\\AppData\\Local\\Temp\\ipykernel_16700\\3725785756.py:25: SettingWithCopyWarning: \n",
      "A value is trying to be set on a copy of a slice from a DataFrame\n",
      "\n",
      "See the caveats in the documentation: https://pandas.pydata.org/pandas-docs/stable/user_guide/indexing.html#returning-a-view-versus-a-copy\n",
      "  reports[label_name].loc[reports['DATE'].isin(dates)] = label #\n"
     ]
    },
    {
     "name": "stdout",
     "output_type": "stream",
     "text": [
      "adding a new column in outlooks\n"
     ]
    },
    {
     "name": "stderr",
     "output_type": "stream",
     "text": [
      "C:\\Users\\miles\\AppData\\Local\\Temp\\ipykernel_16700\\3725785756.py:7: SettingWithCopyWarning: \n",
      "A value is trying to be set on a copy of a slice from a DataFrame\n",
      "\n",
      "See the caveats in the documentation: https://pandas.pydata.org/pandas-docs/stable/user_guide/indexing.html#returning-a-view-versus-a-copy\n",
      "  outlooks[label_name].loc[outlooks['DATE'].isin(dates)] = label\n"
     ]
    },
    {
     "name": "stdout",
     "output_type": "stream",
     "text": [
      "adding new variable in pph\n",
      "adding a new column in reports\n"
     ]
    },
    {
     "name": "stderr",
     "output_type": "stream",
     "text": [
      "C:\\Users\\miles\\AppData\\Local\\Temp\\ipykernel_16700\\3725785756.py:25: SettingWithCopyWarning: \n",
      "A value is trying to be set on a copy of a slice from a DataFrame\n",
      "\n",
      "See the caveats in the documentation: https://pandas.pydata.org/pandas-docs/stable/user_guide/indexing.html#returning-a-view-versus-a-copy\n",
      "  reports[label_name].loc[reports['DATE'].isin(dates)] = label #\n"
     ]
    },
    {
     "data": {
      "text/plain": [
       "(              ISSUE        EXPIRE       PRODISS TYPE  DAY THRESHOLD  \\\n",
       " 0      198701161200  198701171200  198701160615    C    1      TSTM   \n",
       " 1      198701271200  198701281200  198701270643    C    1      TSTM   \n",
       " 2      198701281200  198701291200  198701280631    C    1      TSTM   \n",
       " 3      198701291200  198701301200  198701290631    C    1      TSTM   \n",
       " 4      198701301200  198701311200  198701300636    C    1      TSTM   \n",
       " ...             ...           ...           ...  ...  ...       ...   \n",
       " 62396  202312301200  202312311200  202312280746    C    3      TSTM   \n",
       " 62397  202312301200  202312311200  202312290600    C    2      TSTM   \n",
       " 62398  202312301200  202312311200  202312291644    C    2      TSTM   \n",
       " 62399  202312311200  202401011200  202312290818    C    3      TSTM   \n",
       " 62400  202401021200  202401031200  202312310815    C    3      TSTM   \n",
       " \n",
       "           CATEGORY  CYCLE          DATE MAX_CAT  ... MAX_PPH_NUM  \\\n",
       " 0      CATEGORICAL      6  198701160000    TSTM  ...         0.0   \n",
       " 1      CATEGORICAL      6  198701270000    TSTM  ...         0.0   \n",
       " 2      CATEGORICAL      6  198701280000    TSTM  ...         0.0   \n",
       " 3      CATEGORICAL      6  198701290000    TSTM  ...         0.0   \n",
       " 4      CATEGORICAL      6  198701300000    TSTM  ...         0.0   \n",
       " ...            ...    ...           ...     ...  ...         ...   \n",
       " 62396  CATEGORICAL      8  202312300000    TSTM  ...         0.0   \n",
       " 62397  CATEGORICAL      7  202312300000    TSTM  ...         0.0   \n",
       " 62398  CATEGORICAL     17  202312300000    TSTM  ...         0.0   \n",
       " 62399  CATEGORICAL      8  202312310000    TSTM  ...         0.0   \n",
       " 62400  CATEGORICAL      8  202401020000    TSTM  ...         0.0   \n",
       " \n",
       "        NUM_REPORTS_NUM  TOR_REPORTS_NUM WIND_REPORTS_NUM HAIL_REPORTS_NUM  \\\n",
       " 0                    0                0                0                0   \n",
       " 1                    0                0                0                0   \n",
       " 2                    0                0                0                0   \n",
       " 3                    0                0                0                0   \n",
       " 4                    0                0                0                0   \n",
       " ...                ...              ...              ...              ...   \n",
       " 62396                0                0                0                0   \n",
       " 62397                0                0                0                0   \n",
       " 62398                0                0                0                0   \n",
       " 62399                0                0                0                0   \n",
       " 62400                0                0                0                0   \n",
       " \n",
       "       MAX_TORNADO_RATING MAX_WIND_SPEED_CAT MAX_WIND_SPEED_NUM  \\\n",
       " 0                   NONE               NONE                0.0   \n",
       " 1                   NONE               NONE                0.0   \n",
       " 2                   NONE               NONE                0.0   \n",
       " 3                   NONE               NONE                0.0   \n",
       " 4                   NONE               NONE                0.0   \n",
       " ...                  ...                ...                ...   \n",
       " 62396               NONE               NONE                0.0   \n",
       " 62397               NONE               NONE                0.0   \n",
       " 62398               NONE               NONE                0.0   \n",
       " 62399               NONE               NONE                0.0   \n",
       " 62400               NONE               NONE                0.0   \n",
       " \n",
       "        MAX_HAIL_SIZE_CAT  MAX_HAIL_SIZE_NUM  \n",
       " 0                   NONE                0.0  \n",
       " 1                   NONE                0.0  \n",
       " 2                   NONE                0.0  \n",
       " 3                   NONE                0.0  \n",
       " 4                   NONE                0.0  \n",
       " ...                  ...                ...  \n",
       " 62396               NONE                0.0  \n",
       " 62397               NONE                0.0  \n",
       " 62398               NONE                0.0  \n",
       " 62399               NONE                0.0  \n",
       " 62400               NONE                0.0  \n",
       " \n",
       " [62401 rows x 28 columns],\n",
       " <xarray.Dataset>\n",
       " Dimensions:             (time: 16071, x: 93, y: 65)\n",
       " Coordinates:\n",
       "   * time                (time) object '197901010000' ... '202212310000'\n",
       "   * x                   (x) float64 0.0 1.0 2.0 3.0 4.0 ... 89.0 90.0 91.0 92.0\n",
       "   * y                   (y) float64 0.0 1.0 2.0 3.0 4.0 ... 61.0 62.0 63.0 64.0\n",
       " Data variables: (12/26)\n",
       "     lat                 (y, x) float64 ...\n",
       "     lon                 (y, x) float64 ...\n",
       "     p_perfect_wind      (time, y, x) float64 ...\n",
       "     p_perfect_sig_wind  (time, y, x) float64 ...\n",
       "     p_perfect_hail      (time, y, x) float64 ...\n",
       "     p_perfect_sig_hail  (time, y, x) float64 ...\n",
       "     ...                  ...\n",
       "     HAIL_REPORTS_NUM    (time) int32 0 0 0 0 0 0 0 0 0 0 ... 0 0 0 0 0 0 0 1 0 0\n",
       "     MAX_TORNADO_RATING  (time) <U4 'NONE' 'NONE' 'NONE' ... '(E)F' '(E)F' 'NONE'\n",
       "     MAX_WIND_SPEED_CAT  (time) <U4 'NONE' 'seve' 'NONE' ... 'seve' 'sig_' 'NONE'\n",
       "     MAX_WIND_SPEED_NUM  (time) int32 0 50 0 0 0 0 0 0 0 ... 62 0 0 0 0 0 52 70 0\n",
       "     MAX_HAIL_SIZE_CAT   (time) <U4 'NONE' 'NONE' 'NONE' ... 'seve' 'NONE' 'NONE'\n",
       "     MAX_HAIL_SIZE_NUM   (time) int32 0 0 0 0 0 0 0 0 0 0 ... 0 0 0 0 0 0 0 1 0 0\n",
       " Attributes:\n",
       "     title:         Practically Perfect Wind Hindcasts\n",
       "     grid:          80-km NCEP 211\n",
       "     sigma:         1.5\n",
       "     author:        Dr. Victor Gensini\n",
       "     author_email:  vgensini@niu.edu\n",
       "     citation:      https://doi.org/10.1175/BAMS-D-19-0321.1,\n",
       "         field_1         STATE         EVENT_TYPE CZ_TYPE   CZ_NAME  WFO  \\\n",
       " 0             0      OKLAHOMA            Tornado       C   WASHITA        \n",
       " 1             1         TEXAS            Tornado       C  COMANCHE        \n",
       " 2             2  PENNSYLVANIA            Tornado       C    LEHIGH        \n",
       " 3             3  PENNSYLVANIA            Tornado       C   DAUPHIN        \n",
       " 4             4  PENNSYLVANIA            Tornado       C  CRAWFORD        \n",
       " ...         ...           ...                ...     ...       ...  ...   \n",
       " 1054186   72123       ARIZONA  Thunderstorm Wind       C      PIMA  TWC   \n",
       " 1054187   72124       ARIZONA  Thunderstorm Wind       C      PIMA  TWC   \n",
       " 1054188   72125       GEORGIA  Thunderstorm Wind       C   DOUGLAS  FFC   \n",
       " 1054189   72132     MINNESOTA            Tornado       C    NORMAN  FGF   \n",
       " 1054190   72133      NEW YORK  Thunderstorm Wind       C    ORANGE  OKX   \n",
       " \n",
       "             BEGIN_DATE_TIME CZ_TIMEZONE       END_DATE_TIME INJURIES_DIRECT  \\\n",
       " 0        28-APR-50 14:45:00         CST  28-APR-50 14:45:00               0   \n",
       " 1        29-APR-50 15:30:00         CST  29-APR-50 15:30:00               0   \n",
       " 2        05-JUL-50 18:00:00         CST  05-JUL-50 18:00:00               2   \n",
       " 3        05-JUL-50 18:30:00         CST  05-JUL-50 18:30:00               0   \n",
       " 4        24-JUL-50 14:40:00         CST  24-JUL-50 14:40:00               0   \n",
       " ...                     ...         ...                 ...             ...   \n",
       " 1054186  31-JUL-23 18:40:00       MST-7  31-JUL-23 18:40:00               0   \n",
       " 1054187  31-JUL-23 19:35:00       MST-7  31-JUL-23 19:35:00               0   \n",
       " 1054188  06-AUG-23 13:25:00       EST-5  06-AUG-23 13:27:00               0   \n",
       " 1054189  24-JUN-23 15:10:00       CST-6  24-JUN-23 15:14:00               0   \n",
       " 1054190  03-JUL-23 15:00:00       EST-5  03-JUL-23 15:00:00               0   \n",
       " \n",
       "          ... MAX_PPH_NUM NUM_REPORTS_NUM TOR_REPORTS_NUM WIND_REPORTS_NUM  \\\n",
       " 0        ...         0.0               7               7                0   \n",
       " 1        ...         0.0               2               2                0   \n",
       " 2        ...         0.0               2               2                0   \n",
       " 3        ...         0.0               2               2                0   \n",
       " 4        ...         0.0               1               1                0   \n",
       " ...      ...         ...             ...             ...              ...   \n",
       " 1054186  ...         0.0              84               1               55   \n",
       " 1054187  ...         0.0              84               1               55   \n",
       " 1054188  ...         0.0             289              12              248   \n",
       " 1054189  ...         0.0             134              13               55   \n",
       " 1054190  ...         0.0             286               2              234   \n",
       " \n",
       "         HAIL_REPORTS_NUM MAX_TORNADO_RATING MAX_WIND_SPEED_CAT  \\\n",
       " 0                      0              (E)F4               NONE   \n",
       " 1                      0              (E)F2               NONE   \n",
       " 2                      0              (E)F2               NONE   \n",
       " 3                      0              (E)F2               NONE   \n",
       " 4                      0              (E)F0               NONE   \n",
       " ...                  ...                ...                ...   \n",
       " 1054186               28                EFU         sig_severe   \n",
       " 1054187               28                EFU         sig_severe   \n",
       " 1054188               29              (E)F2         sig_severe   \n",
       " 1054189               66              (E)F2         sig_severe   \n",
       " 1054190               50              (E)F0         sig_severe   \n",
       " \n",
       "         MAX_WIND_SPEED_NUM MAX_HAIL_SIZE_CAT MAX_HAIL_SIZE_NUM  \n",
       " 0                      0.0              NONE              0.00  \n",
       " 1                      0.0              NONE              0.00  \n",
       " 2                      0.0              NONE              0.00  \n",
       " 3                      0.0              NONE              0.00  \n",
       " 4                      0.0              NONE              0.00  \n",
       " ...                    ...               ...               ...  \n",
       " 1054186               75.0            severe              1.50  \n",
       " 1054187               75.0            severe              1.50  \n",
       " 1054188               74.0        sig_severe              2.50  \n",
       " 1054189               74.0        sig_severe              3.00  \n",
       " 1054190               90.0        sig_severe              2.75  \n",
       " \n",
       " [1054191 rows x 53 columns])"
      ]
     },
     "execution_count": 24,
     "metadata": {},
     "output_type": "execute_result"
    }
   ],
   "source": [
    "add_numerical_categorical_columns(new_outlooks, new_pph, new_reports, winds.index, winds.astype(float)['MAGNITUDE'].values, wind_thresholds, 'MAX_WIND_SPEED')\n",
    "add_numerical_categorical_columns(new_outlooks, new_pph, new_reports, hails.index, hails.astype(float)['MAGNITUDE'].values, hail_thresholds, 'MAX_HAIL_SIZE')"
   ]
  },
  {
   "cell_type": "code",
   "execution_count": 41,
   "metadata": {},
   "outputs": [
    {
     "data": {
      "text/html": [
       "<div><svg style=\"position: absolute; width: 0; height: 0; overflow: hidden\">\n",
       "<defs>\n",
       "<symbol id=\"icon-database\" viewBox=\"0 0 32 32\">\n",
       "<path d=\"M16 0c-8.837 0-16 2.239-16 5v4c0 2.761 7.163 5 16 5s16-2.239 16-5v-4c0-2.761-7.163-5-16-5z\"></path>\n",
       "<path d=\"M16 17c-8.837 0-16-2.239-16-5v6c0 2.761 7.163 5 16 5s16-2.239 16-5v-6c0 2.761-7.163 5-16 5z\"></path>\n",
       "<path d=\"M16 26c-8.837 0-16-2.239-16-5v6c0 2.761 7.163 5 16 5s16-2.239 16-5v-6c0 2.761-7.163 5-16 5z\"></path>\n",
       "</symbol>\n",
       "<symbol id=\"icon-file-text2\" viewBox=\"0 0 32 32\">\n",
       "<path d=\"M28.681 7.159c-0.694-0.947-1.662-2.053-2.724-3.116s-2.169-2.030-3.116-2.724c-1.612-1.182-2.393-1.319-2.841-1.319h-15.5c-1.378 0-2.5 1.121-2.5 2.5v27c0 1.378 1.122 2.5 2.5 2.5h23c1.378 0 2.5-1.122 2.5-2.5v-19.5c0-0.448-0.137-1.23-1.319-2.841zM24.543 5.457c0.959 0.959 1.712 1.825 2.268 2.543h-4.811v-4.811c0.718 0.556 1.584 1.309 2.543 2.268zM28 29.5c0 0.271-0.229 0.5-0.5 0.5h-23c-0.271 0-0.5-0.229-0.5-0.5v-27c0-0.271 0.229-0.5 0.5-0.5 0 0 15.499-0 15.5 0v7c0 0.552 0.448 1 1 1h7v19.5z\"></path>\n",
       "<path d=\"M23 26h-14c-0.552 0-1-0.448-1-1s0.448-1 1-1h14c0.552 0 1 0.448 1 1s-0.448 1-1 1z\"></path>\n",
       "<path d=\"M23 22h-14c-0.552 0-1-0.448-1-1s0.448-1 1-1h14c0.552 0 1 0.448 1 1s-0.448 1-1 1z\"></path>\n",
       "<path d=\"M23 18h-14c-0.552 0-1-0.448-1-1s0.448-1 1-1h14c0.552 0 1 0.448 1 1s-0.448 1-1 1z\"></path>\n",
       "</symbol>\n",
       "</defs>\n",
       "</svg>\n",
       "<style>/* CSS stylesheet for displaying xarray objects in jupyterlab.\n",
       " *\n",
       " */\n",
       "\n",
       ":root {\n",
       "  --xr-font-color0: var(--jp-content-font-color0, rgba(0, 0, 0, 1));\n",
       "  --xr-font-color2: var(--jp-content-font-color2, rgba(0, 0, 0, 0.54));\n",
       "  --xr-font-color3: var(--jp-content-font-color3, rgba(0, 0, 0, 0.38));\n",
       "  --xr-border-color: var(--jp-border-color2, #e0e0e0);\n",
       "  --xr-disabled-color: var(--jp-layout-color3, #bdbdbd);\n",
       "  --xr-background-color: var(--jp-layout-color0, white);\n",
       "  --xr-background-color-row-even: var(--jp-layout-color1, white);\n",
       "  --xr-background-color-row-odd: var(--jp-layout-color2, #eeeeee);\n",
       "}\n",
       "\n",
       "html[theme=dark],\n",
       "body[data-theme=dark],\n",
       "body.vscode-dark {\n",
       "  --xr-font-color0: rgba(255, 255, 255, 1);\n",
       "  --xr-font-color2: rgba(255, 255, 255, 0.54);\n",
       "  --xr-font-color3: rgba(255, 255, 255, 0.38);\n",
       "  --xr-border-color: #1F1F1F;\n",
       "  --xr-disabled-color: #515151;\n",
       "  --xr-background-color: #111111;\n",
       "  --xr-background-color-row-even: #111111;\n",
       "  --xr-background-color-row-odd: #313131;\n",
       "}\n",
       "\n",
       ".xr-wrap {\n",
       "  display: block !important;\n",
       "  min-width: 300px;\n",
       "  max-width: 700px;\n",
       "}\n",
       "\n",
       ".xr-text-repr-fallback {\n",
       "  /* fallback to plain text repr when CSS is not injected (untrusted notebook) */\n",
       "  display: none;\n",
       "}\n",
       "\n",
       ".xr-header {\n",
       "  padding-top: 6px;\n",
       "  padding-bottom: 6px;\n",
       "  margin-bottom: 4px;\n",
       "  border-bottom: solid 1px var(--xr-border-color);\n",
       "}\n",
       "\n",
       ".xr-header > div,\n",
       ".xr-header > ul {\n",
       "  display: inline;\n",
       "  margin-top: 0;\n",
       "  margin-bottom: 0;\n",
       "}\n",
       "\n",
       ".xr-obj-type,\n",
       ".xr-array-name {\n",
       "  margin-left: 2px;\n",
       "  margin-right: 10px;\n",
       "}\n",
       "\n",
       ".xr-obj-type {\n",
       "  color: var(--xr-font-color2);\n",
       "}\n",
       "\n",
       ".xr-sections {\n",
       "  padding-left: 0 !important;\n",
       "  display: grid;\n",
       "  grid-template-columns: 150px auto auto 1fr 20px 20px;\n",
       "}\n",
       "\n",
       ".xr-section-item {\n",
       "  display: contents;\n",
       "}\n",
       "\n",
       ".xr-section-item input {\n",
       "  display: none;\n",
       "}\n",
       "\n",
       ".xr-section-item input + label {\n",
       "  color: var(--xr-disabled-color);\n",
       "}\n",
       "\n",
       ".xr-section-item input:enabled + label {\n",
       "  cursor: pointer;\n",
       "  color: var(--xr-font-color2);\n",
       "}\n",
       "\n",
       ".xr-section-item input:enabled + label:hover {\n",
       "  color: var(--xr-font-color0);\n",
       "}\n",
       "\n",
       ".xr-section-summary {\n",
       "  grid-column: 1;\n",
       "  color: var(--xr-font-color2);\n",
       "  font-weight: 500;\n",
       "}\n",
       "\n",
       ".xr-section-summary > span {\n",
       "  display: inline-block;\n",
       "  padding-left: 0.5em;\n",
       "}\n",
       "\n",
       ".xr-section-summary-in:disabled + label {\n",
       "  color: var(--xr-font-color2);\n",
       "}\n",
       "\n",
       ".xr-section-summary-in + label:before {\n",
       "  display: inline-block;\n",
       "  content: '►';\n",
       "  font-size: 11px;\n",
       "  width: 15px;\n",
       "  text-align: center;\n",
       "}\n",
       "\n",
       ".xr-section-summary-in:disabled + label:before {\n",
       "  color: var(--xr-disabled-color);\n",
       "}\n",
       "\n",
       ".xr-section-summary-in:checked + label:before {\n",
       "  content: '▼';\n",
       "}\n",
       "\n",
       ".xr-section-summary-in:checked + label > span {\n",
       "  display: none;\n",
       "}\n",
       "\n",
       ".xr-section-summary,\n",
       ".xr-section-inline-details {\n",
       "  padding-top: 4px;\n",
       "  padding-bottom: 4px;\n",
       "}\n",
       "\n",
       ".xr-section-inline-details {\n",
       "  grid-column: 2 / -1;\n",
       "}\n",
       "\n",
       ".xr-section-details {\n",
       "  display: none;\n",
       "  grid-column: 1 / -1;\n",
       "  margin-bottom: 5px;\n",
       "}\n",
       "\n",
       ".xr-section-summary-in:checked ~ .xr-section-details {\n",
       "  display: contents;\n",
       "}\n",
       "\n",
       ".xr-array-wrap {\n",
       "  grid-column: 1 / -1;\n",
       "  display: grid;\n",
       "  grid-template-columns: 20px auto;\n",
       "}\n",
       "\n",
       ".xr-array-wrap > label {\n",
       "  grid-column: 1;\n",
       "  vertical-align: top;\n",
       "}\n",
       "\n",
       ".xr-preview {\n",
       "  color: var(--xr-font-color3);\n",
       "}\n",
       "\n",
       ".xr-array-preview,\n",
       ".xr-array-data {\n",
       "  padding: 0 5px !important;\n",
       "  grid-column: 2;\n",
       "}\n",
       "\n",
       ".xr-array-data,\n",
       ".xr-array-in:checked ~ .xr-array-preview {\n",
       "  display: none;\n",
       "}\n",
       "\n",
       ".xr-array-in:checked ~ .xr-array-data,\n",
       ".xr-array-preview {\n",
       "  display: inline-block;\n",
       "}\n",
       "\n",
       ".xr-dim-list {\n",
       "  display: inline-block !important;\n",
       "  list-style: none;\n",
       "  padding: 0 !important;\n",
       "  margin: 0;\n",
       "}\n",
       "\n",
       ".xr-dim-list li {\n",
       "  display: inline-block;\n",
       "  padding: 0;\n",
       "  margin: 0;\n",
       "}\n",
       "\n",
       ".xr-dim-list:before {\n",
       "  content: '(';\n",
       "}\n",
       "\n",
       ".xr-dim-list:after {\n",
       "  content: ')';\n",
       "}\n",
       "\n",
       ".xr-dim-list li:not(:last-child):after {\n",
       "  content: ',';\n",
       "  padding-right: 5px;\n",
       "}\n",
       "\n",
       ".xr-has-index {\n",
       "  font-weight: bold;\n",
       "}\n",
       "\n",
       ".xr-var-list,\n",
       ".xr-var-item {\n",
       "  display: contents;\n",
       "}\n",
       "\n",
       ".xr-var-item > div,\n",
       ".xr-var-item label,\n",
       ".xr-var-item > .xr-var-name span {\n",
       "  background-color: var(--xr-background-color-row-even);\n",
       "  margin-bottom: 0;\n",
       "}\n",
       "\n",
       ".xr-var-item > .xr-var-name:hover span {\n",
       "  padding-right: 5px;\n",
       "}\n",
       "\n",
       ".xr-var-list > li:nth-child(odd) > div,\n",
       ".xr-var-list > li:nth-child(odd) > label,\n",
       ".xr-var-list > li:nth-child(odd) > .xr-var-name span {\n",
       "  background-color: var(--xr-background-color-row-odd);\n",
       "}\n",
       "\n",
       ".xr-var-name {\n",
       "  grid-column: 1;\n",
       "}\n",
       "\n",
       ".xr-var-dims {\n",
       "  grid-column: 2;\n",
       "}\n",
       "\n",
       ".xr-var-dtype {\n",
       "  grid-column: 3;\n",
       "  text-align: right;\n",
       "  color: var(--xr-font-color2);\n",
       "}\n",
       "\n",
       ".xr-var-preview {\n",
       "  grid-column: 4;\n",
       "}\n",
       "\n",
       ".xr-index-preview {\n",
       "  grid-column: 2 / 5;\n",
       "  color: var(--xr-font-color2);\n",
       "}\n",
       "\n",
       ".xr-var-name,\n",
       ".xr-var-dims,\n",
       ".xr-var-dtype,\n",
       ".xr-preview,\n",
       ".xr-attrs dt {\n",
       "  white-space: nowrap;\n",
       "  overflow: hidden;\n",
       "  text-overflow: ellipsis;\n",
       "  padding-right: 10px;\n",
       "}\n",
       "\n",
       ".xr-var-name:hover,\n",
       ".xr-var-dims:hover,\n",
       ".xr-var-dtype:hover,\n",
       ".xr-attrs dt:hover {\n",
       "  overflow: visible;\n",
       "  width: auto;\n",
       "  z-index: 1;\n",
       "}\n",
       "\n",
       ".xr-var-attrs,\n",
       ".xr-var-data,\n",
       ".xr-index-data {\n",
       "  display: none;\n",
       "  background-color: var(--xr-background-color) !important;\n",
       "  padding-bottom: 5px !important;\n",
       "}\n",
       "\n",
       ".xr-var-attrs-in:checked ~ .xr-var-attrs,\n",
       ".xr-var-data-in:checked ~ .xr-var-data,\n",
       ".xr-index-data-in:checked ~ .xr-index-data {\n",
       "  display: block;\n",
       "}\n",
       "\n",
       ".xr-var-data > table {\n",
       "  float: right;\n",
       "}\n",
       "\n",
       ".xr-var-name span,\n",
       ".xr-var-data,\n",
       ".xr-index-name div,\n",
       ".xr-index-data,\n",
       ".xr-attrs {\n",
       "  padding-left: 25px !important;\n",
       "}\n",
       "\n",
       ".xr-attrs,\n",
       ".xr-var-attrs,\n",
       ".xr-var-data,\n",
       ".xr-index-data {\n",
       "  grid-column: 1 / -1;\n",
       "}\n",
       "\n",
       "dl.xr-attrs {\n",
       "  padding: 0;\n",
       "  margin: 0;\n",
       "  display: grid;\n",
       "  grid-template-columns: 125px auto;\n",
       "}\n",
       "\n",
       ".xr-attrs dt,\n",
       ".xr-attrs dd {\n",
       "  padding: 0;\n",
       "  margin: 0;\n",
       "  float: left;\n",
       "  padding-right: 10px;\n",
       "  width: auto;\n",
       "}\n",
       "\n",
       ".xr-attrs dt {\n",
       "  font-weight: normal;\n",
       "  grid-column: 1;\n",
       "}\n",
       "\n",
       ".xr-attrs dt:hover span {\n",
       "  display: inline-block;\n",
       "  background: var(--xr-background-color);\n",
       "  padding-right: 10px;\n",
       "}\n",
       "\n",
       ".xr-attrs dd {\n",
       "  grid-column: 2;\n",
       "  white-space: pre-wrap;\n",
       "  word-break: break-all;\n",
       "}\n",
       "\n",
       ".xr-icon-database,\n",
       ".xr-icon-file-text2,\n",
       ".xr-no-icon {\n",
       "  display: inline-block;\n",
       "  vertical-align: middle;\n",
       "  width: 1em;\n",
       "  height: 1.5em !important;\n",
       "  stroke-width: 0;\n",
       "  stroke: currentColor;\n",
       "  fill: currentColor;\n",
       "}\n",
       "</style><pre class='xr-text-repr-fallback'>&lt;xarray.Dataset&gt;\n",
       "Dimensions:             (time: 16071, x: 93, y: 65)\n",
       "Coordinates:\n",
       "  * time                (time) object &#x27;197901010000&#x27; ... &#x27;202212310000&#x27;\n",
       "  * x                   (x) float64 0.0 1.0 2.0 3.0 4.0 ... 89.0 90.0 91.0 92.0\n",
       "  * y                   (y) float64 0.0 1.0 2.0 3.0 4.0 ... 61.0 62.0 63.0 64.0\n",
       "Data variables: (12/27)\n",
       "    lat                 (y, x) float64 ...\n",
       "    lon                 (y, x) float64 ...\n",
       "    p_perfect_wind      (time, y, x) float64 ...\n",
       "    p_perfect_sig_wind  (time, y, x) float64 ...\n",
       "    p_perfect_hail      (time, y, x) float64 ...\n",
       "    p_perfect_sig_hail  (time, y, x) float64 ...\n",
       "    ...                  ...\n",
       "    MAX_TORNADO_RATING  (time) &lt;U4 &#x27;NONE&#x27; &#x27;NONE&#x27; &#x27;NONE&#x27; ... &#x27;(E)F&#x27; &#x27;TEST&#x27; &#x27;NONE&#x27;\n",
       "    MAX_WIND_SPEED_CAT  (time) &lt;U4 &#x27;NONE&#x27; &#x27;seve&#x27; &#x27;NONE&#x27; ... &#x27;seve&#x27; &#x27;sig_&#x27; &#x27;NONE&#x27;\n",
       "    MAX_WIND_SPEED_NUM  (time) int32 0 50 0 0 0 0 0 0 0 ... 62 0 0 0 0 0 52 70 0\n",
       "    MAX_HAIL_SIZE_CAT   (time) &lt;U4 &#x27;NONE&#x27; &#x27;NONE&#x27; &#x27;NONE&#x27; ... &#x27;seve&#x27; &#x27;NONE&#x27; &#x27;NONE&#x27;\n",
       "    MAX_HAIL_SIZE_NUM   (time) int32 0 0 0 0 0 0 0 0 0 0 ... 0 0 0 0 0 0 0 1 0 0\n",
       "    test                (time) float64 0.0 0.0 0.0 0.0 0.0 ... 0.0 0.0 0.0 0.0\n",
       "Attributes:\n",
       "    title:         Practically Perfect Wind Hindcasts\n",
       "    grid:          80-km NCEP 211\n",
       "    sigma:         1.5\n",
       "    author:        Dr. Victor Gensini\n",
       "    author_email:  vgensini@niu.edu\n",
       "    citation:      https://doi.org/10.1175/BAMS-D-19-0321.1</pre><div class='xr-wrap' style='display:none'><div class='xr-header'><div class='xr-obj-type'>xarray.Dataset</div></div><ul class='xr-sections'><li class='xr-section-item'><input id='section-05ec0440-8e22-4345-a6aa-383123ac4412' class='xr-section-summary-in' type='checkbox' disabled ><label for='section-05ec0440-8e22-4345-a6aa-383123ac4412' class='xr-section-summary'  title='Expand/collapse section'>Dimensions:</label><div class='xr-section-inline-details'><ul class='xr-dim-list'><li><span class='xr-has-index'>time</span>: 16071</li><li><span class='xr-has-index'>x</span>: 93</li><li><span class='xr-has-index'>y</span>: 65</li></ul></div><div class='xr-section-details'></div></li><li class='xr-section-item'><input id='section-6f412e0c-c398-46fc-af7b-aacda0b28790' class='xr-section-summary-in' type='checkbox'  checked><label for='section-6f412e0c-c398-46fc-af7b-aacda0b28790' class='xr-section-summary' >Coordinates: <span>(3)</span></label><div class='xr-section-inline-details'></div><div class='xr-section-details'><ul class='xr-var-list'><li class='xr-var-item'><div class='xr-var-name'><span class='xr-has-index'>time</span></div><div class='xr-var-dims'>(time)</div><div class='xr-var-dtype'>object</div><div class='xr-var-preview xr-preview'>&#x27;197901010000&#x27; ... &#x27;202212310000&#x27;</div><input id='attrs-c1e283e7-2c7d-4344-a80b-8c1e589490ca' class='xr-var-attrs-in' type='checkbox' disabled><label for='attrs-c1e283e7-2c7d-4344-a80b-8c1e589490ca' title='Show/Hide attributes'><svg class='icon xr-icon-file-text2'><use xlink:href='#icon-file-text2'></use></svg></label><input id='data-4a8b646d-7cfd-43a4-bd0b-77b21af7307c' class='xr-var-data-in' type='checkbox'><label for='data-4a8b646d-7cfd-43a4-bd0b-77b21af7307c' title='Show/Hide data repr'><svg class='icon xr-icon-database'><use xlink:href='#icon-database'></use></svg></label><div class='xr-var-attrs'><dl class='xr-attrs'></dl></div><div class='xr-var-data'><pre>array([&#x27;197901010000&#x27;, &#x27;197901020000&#x27;, &#x27;197901030000&#x27;, ..., &#x27;202212290000&#x27;,\n",
       "       &#x27;202212300000&#x27;, &#x27;202212310000&#x27;], dtype=object)</pre></div></li><li class='xr-var-item'><div class='xr-var-name'><span class='xr-has-index'>x</span></div><div class='xr-var-dims'>(x)</div><div class='xr-var-dtype'>float64</div><div class='xr-var-preview xr-preview'>0.0 1.0 2.0 3.0 ... 90.0 91.0 92.0</div><input id='attrs-0bae36ed-723f-459e-8f4c-aacfe6d3d588' class='xr-var-attrs-in' type='checkbox' disabled><label for='attrs-0bae36ed-723f-459e-8f4c-aacfe6d3d588' title='Show/Hide attributes'><svg class='icon xr-icon-file-text2'><use xlink:href='#icon-file-text2'></use></svg></label><input id='data-b01d6101-50b4-4940-bbab-04ba2a9a1583' class='xr-var-data-in' type='checkbox'><label for='data-b01d6101-50b4-4940-bbab-04ba2a9a1583' title='Show/Hide data repr'><svg class='icon xr-icon-database'><use xlink:href='#icon-database'></use></svg></label><div class='xr-var-attrs'><dl class='xr-attrs'></dl></div><div class='xr-var-data'><pre>array([ 0.,  1.,  2.,  3.,  4.,  5.,  6.,  7.,  8.,  9., 10., 11., 12., 13.,\n",
       "       14., 15., 16., 17., 18., 19., 20., 21., 22., 23., 24., 25., 26., 27.,\n",
       "       28., 29., 30., 31., 32., 33., 34., 35., 36., 37., 38., 39., 40., 41.,\n",
       "       42., 43., 44., 45., 46., 47., 48., 49., 50., 51., 52., 53., 54., 55.,\n",
       "       56., 57., 58., 59., 60., 61., 62., 63., 64., 65., 66., 67., 68., 69.,\n",
       "       70., 71., 72., 73., 74., 75., 76., 77., 78., 79., 80., 81., 82., 83.,\n",
       "       84., 85., 86., 87., 88., 89., 90., 91., 92.])</pre></div></li><li class='xr-var-item'><div class='xr-var-name'><span class='xr-has-index'>y</span></div><div class='xr-var-dims'>(y)</div><div class='xr-var-dtype'>float64</div><div class='xr-var-preview xr-preview'>0.0 1.0 2.0 3.0 ... 62.0 63.0 64.0</div><input id='attrs-57834cc7-6ef3-455e-bda9-7a77133ddba8' class='xr-var-attrs-in' type='checkbox' disabled><label for='attrs-57834cc7-6ef3-455e-bda9-7a77133ddba8' title='Show/Hide attributes'><svg class='icon xr-icon-file-text2'><use xlink:href='#icon-file-text2'></use></svg></label><input id='data-0cc8a81f-237d-426f-9246-dd29329f70a7' class='xr-var-data-in' type='checkbox'><label for='data-0cc8a81f-237d-426f-9246-dd29329f70a7' title='Show/Hide data repr'><svg class='icon xr-icon-database'><use xlink:href='#icon-database'></use></svg></label><div class='xr-var-attrs'><dl class='xr-attrs'></dl></div><div class='xr-var-data'><pre>array([ 0.,  1.,  2.,  3.,  4.,  5.,  6.,  7.,  8.,  9., 10., 11., 12., 13.,\n",
       "       14., 15., 16., 17., 18., 19., 20., 21., 22., 23., 24., 25., 26., 27.,\n",
       "       28., 29., 30., 31., 32., 33., 34., 35., 36., 37., 38., 39., 40., 41.,\n",
       "       42., 43., 44., 45., 46., 47., 48., 49., 50., 51., 52., 53., 54., 55.,\n",
       "       56., 57., 58., 59., 60., 61., 62., 63., 64.])</pre></div></li></ul></div></li><li class='xr-section-item'><input id='section-777bbdb6-319f-4807-93e8-4722e70faa06' class='xr-section-summary-in' type='checkbox'  ><label for='section-777bbdb6-319f-4807-93e8-4722e70faa06' class='xr-section-summary' >Data variables: <span>(27)</span></label><div class='xr-section-inline-details'></div><div class='xr-section-details'><ul class='xr-var-list'><li class='xr-var-item'><div class='xr-var-name'><span>lat</span></div><div class='xr-var-dims'>(y, x)</div><div class='xr-var-dtype'>float64</div><div class='xr-var-preview xr-preview'>...</div><input id='attrs-ae0c8425-f251-46a2-98b8-919e102f7a47' class='xr-var-attrs-in' type='checkbox' ><label for='attrs-ae0c8425-f251-46a2-98b8-919e102f7a47' title='Show/Hide attributes'><svg class='icon xr-icon-file-text2'><use xlink:href='#icon-file-text2'></use></svg></label><input id='data-5a68a929-bfb7-4f4d-9519-5a1ec5f6c410' class='xr-var-data-in' type='checkbox'><label for='data-5a68a929-bfb7-4f4d-9519-5a1ec5f6c410' title='Show/Hide data repr'><svg class='icon xr-icon-database'><use xlink:href='#icon-database'></use></svg></label><div class='xr-var-attrs'><dl class='xr-attrs'><dt><span>units :</span></dt><dd>degrees north</dd></dl></div><div class='xr-var-data'><pre>[6045 values with dtype=float64]</pre></div></li><li class='xr-var-item'><div class='xr-var-name'><span>lon</span></div><div class='xr-var-dims'>(y, x)</div><div class='xr-var-dtype'>float64</div><div class='xr-var-preview xr-preview'>...</div><input id='attrs-b698afef-538f-41b3-9903-463fecfa83cc' class='xr-var-attrs-in' type='checkbox' ><label for='attrs-b698afef-538f-41b3-9903-463fecfa83cc' title='Show/Hide attributes'><svg class='icon xr-icon-file-text2'><use xlink:href='#icon-file-text2'></use></svg></label><input id='data-97a0ce49-a0d1-49ab-9591-d76b828c9bef' class='xr-var-data-in' type='checkbox'><label for='data-97a0ce49-a0d1-49ab-9591-d76b828c9bef' title='Show/Hide data repr'><svg class='icon xr-icon-database'><use xlink:href='#icon-database'></use></svg></label><div class='xr-var-attrs'><dl class='xr-attrs'><dt><span>units :</span></dt><dd>degrees west</dd></dl></div><div class='xr-var-data'><pre>[6045 values with dtype=float64]</pre></div></li><li class='xr-var-item'><div class='xr-var-name'><span>p_perfect_wind</span></div><div class='xr-var-dims'>(time, y, x)</div><div class='xr-var-dtype'>float64</div><div class='xr-var-preview xr-preview'>...</div><input id='attrs-f4c21d1a-ec54-4c60-9a78-2bc542235d03' class='xr-var-attrs-in' type='checkbox' ><label for='attrs-f4c21d1a-ec54-4c60-9a78-2bc542235d03' title='Show/Hide attributes'><svg class='icon xr-icon-file-text2'><use xlink:href='#icon-file-text2'></use></svg></label><input id='data-1a3d4ddb-2552-4d2c-8f07-f36c642557c0' class='xr-var-data-in' type='checkbox'><label for='data-1a3d4ddb-2552-4d2c-8f07-f36c642557c0' title='Show/Hide data repr'><svg class='icon xr-icon-database'><use xlink:href='#icon-database'></use></svg></label><div class='xr-var-attrs'><dl class='xr-attrs'><dt><span>units :</span></dt><dd>0-100 %</dd></dl></div><div class='xr-var-data'><pre>[97149195 values with dtype=float64]</pre></div></li><li class='xr-var-item'><div class='xr-var-name'><span>p_perfect_sig_wind</span></div><div class='xr-var-dims'>(time, y, x)</div><div class='xr-var-dtype'>float64</div><div class='xr-var-preview xr-preview'>...</div><input id='attrs-f221d240-a378-4462-bb5b-01bcd57113d0' class='xr-var-attrs-in' type='checkbox' ><label for='attrs-f221d240-a378-4462-bb5b-01bcd57113d0' title='Show/Hide attributes'><svg class='icon xr-icon-file-text2'><use xlink:href='#icon-file-text2'></use></svg></label><input id='data-325e352a-35c8-4bef-af52-b347d610c2e7' class='xr-var-data-in' type='checkbox'><label for='data-325e352a-35c8-4bef-af52-b347d610c2e7' title='Show/Hide data repr'><svg class='icon xr-icon-database'><use xlink:href='#icon-database'></use></svg></label><div class='xr-var-attrs'><dl class='xr-attrs'><dt><span>units :</span></dt><dd>0-100 %</dd></dl></div><div class='xr-var-data'><pre>[97149195 values with dtype=float64]</pre></div></li><li class='xr-var-item'><div class='xr-var-name'><span>p_perfect_hail</span></div><div class='xr-var-dims'>(time, y, x)</div><div class='xr-var-dtype'>float64</div><div class='xr-var-preview xr-preview'>...</div><input id='attrs-9c07f298-38bb-4504-b270-4b39d0754893' class='xr-var-attrs-in' type='checkbox' ><label for='attrs-9c07f298-38bb-4504-b270-4b39d0754893' title='Show/Hide attributes'><svg class='icon xr-icon-file-text2'><use xlink:href='#icon-file-text2'></use></svg></label><input id='data-a33c9c93-eb39-433e-b813-89af8de9d3e9' class='xr-var-data-in' type='checkbox'><label for='data-a33c9c93-eb39-433e-b813-89af8de9d3e9' title='Show/Hide data repr'><svg class='icon xr-icon-database'><use xlink:href='#icon-database'></use></svg></label><div class='xr-var-attrs'><dl class='xr-attrs'><dt><span>units :</span></dt><dd>0-100 %</dd></dl></div><div class='xr-var-data'><pre>[97149195 values with dtype=float64]</pre></div></li><li class='xr-var-item'><div class='xr-var-name'><span>p_perfect_sig_hail</span></div><div class='xr-var-dims'>(time, y, x)</div><div class='xr-var-dtype'>float64</div><div class='xr-var-preview xr-preview'>...</div><input id='attrs-9a55e83a-dd51-4f36-9246-362ef254a345' class='xr-var-attrs-in' type='checkbox' ><label for='attrs-9a55e83a-dd51-4f36-9246-362ef254a345' title='Show/Hide attributes'><svg class='icon xr-icon-file-text2'><use xlink:href='#icon-file-text2'></use></svg></label><input id='data-a0071069-4e75-43f0-b8ca-11457cde450a' class='xr-var-data-in' type='checkbox'><label for='data-a0071069-4e75-43f0-b8ca-11457cde450a' title='Show/Hide data repr'><svg class='icon xr-icon-database'><use xlink:href='#icon-database'></use></svg></label><div class='xr-var-attrs'><dl class='xr-attrs'><dt><span>units :</span></dt><dd>0-100 %</dd></dl></div><div class='xr-var-data'><pre>[97149195 values with dtype=float64]</pre></div></li><li class='xr-var-item'><div class='xr-var-name'><span>p_perfect_tor</span></div><div class='xr-var-dims'>(time, y, x)</div><div class='xr-var-dtype'>float64</div><div class='xr-var-preview xr-preview'>...</div><input id='attrs-f68f2b81-2d7f-4736-92bc-a54dbcbb706c' class='xr-var-attrs-in' type='checkbox' ><label for='attrs-f68f2b81-2d7f-4736-92bc-a54dbcbb706c' title='Show/Hide attributes'><svg class='icon xr-icon-file-text2'><use xlink:href='#icon-file-text2'></use></svg></label><input id='data-42b40c10-5d52-406f-a8d7-d546bb311d82' class='xr-var-data-in' type='checkbox'><label for='data-42b40c10-5d52-406f-a8d7-d546bb311d82' title='Show/Hide data repr'><svg class='icon xr-icon-database'><use xlink:href='#icon-database'></use></svg></label><div class='xr-var-attrs'><dl class='xr-attrs'><dt><span>units :</span></dt><dd>0-100 %</dd></dl></div><div class='xr-var-data'><pre>[97149195 values with dtype=float64]</pre></div></li><li class='xr-var-item'><div class='xr-var-name'><span>p_perfect_sig_tor</span></div><div class='xr-var-dims'>(time, y, x)</div><div class='xr-var-dtype'>float64</div><div class='xr-var-preview xr-preview'>...</div><input id='attrs-f8516ecc-3436-4f9e-98ba-b0989a897580' class='xr-var-attrs-in' type='checkbox' ><label for='attrs-f8516ecc-3436-4f9e-98ba-b0989a897580' title='Show/Hide attributes'><svg class='icon xr-icon-file-text2'><use xlink:href='#icon-file-text2'></use></svg></label><input id='data-1635e8c7-4a4a-40e3-9e2c-1bce70889b7f' class='xr-var-data-in' type='checkbox'><label for='data-1635e8c7-4a4a-40e3-9e2c-1bce70889b7f' title='Show/Hide data repr'><svg class='icon xr-icon-database'><use xlink:href='#icon-database'></use></svg></label><div class='xr-var-attrs'><dl class='xr-attrs'><dt><span>units :</span></dt><dd>0-100 %</dd></dl></div><div class='xr-var-data'><pre>[97149195 values with dtype=float64]</pre></div></li><li class='xr-var-item'><div class='xr-var-name'><span>MAX_CAT</span></div><div class='xr-var-dims'>(time)</div><div class='xr-var-dtype'>object</div><div class='xr-var-preview xr-preview'>...</div><input id='attrs-a29f6336-f0db-4778-afcf-a270ea0f8155' class='xr-var-attrs-in' type='checkbox' disabled><label for='attrs-a29f6336-f0db-4778-afcf-a270ea0f8155' title='Show/Hide attributes'><svg class='icon xr-icon-file-text2'><use xlink:href='#icon-file-text2'></use></svg></label><input id='data-2a343230-809a-4344-92be-e834961a15cc' class='xr-var-data-in' type='checkbox'><label for='data-2a343230-809a-4344-92be-e834961a15cc' title='Show/Hide data repr'><svg class='icon xr-icon-database'><use xlink:href='#icon-database'></use></svg></label><div class='xr-var-attrs'><dl class='xr-attrs'></dl></div><div class='xr-var-data'><pre>[16071 values with dtype=object]</pre></div></li><li class='xr-var-item'><div class='xr-var-name'><span>RAMP_UP</span></div><div class='xr-var-dims'>(time)</div><div class='xr-var-dtype'>int32</div><div class='xr-var-preview xr-preview'>0 0 0 0 0 0 0 0 ... 0 0 0 0 0 0 1 1</div><input id='attrs-61f52282-fd3b-4599-b664-1329f9e5a616' class='xr-var-attrs-in' type='checkbox' disabled><label for='attrs-61f52282-fd3b-4599-b664-1329f9e5a616' title='Show/Hide attributes'><svg class='icon xr-icon-file-text2'><use xlink:href='#icon-file-text2'></use></svg></label><input id='data-a9dfd4ef-ae2c-45da-8813-5e35443818fc' class='xr-var-data-in' type='checkbox'><label for='data-a9dfd4ef-ae2c-45da-8813-5e35443818fc' title='Show/Hide data repr'><svg class='icon xr-icon-database'><use xlink:href='#icon-database'></use></svg></label><div class='xr-var-attrs'><dl class='xr-attrs'></dl></div><div class='xr-var-data'><pre>array([0, 0, 0, ..., 0, 1, 1])</pre></div></li><li class='xr-var-item'><div class='xr-var-name'><span>RAMP_DOWN</span></div><div class='xr-var-dims'>(time)</div><div class='xr-var-dtype'>int32</div><div class='xr-var-preview xr-preview'>0 0 0 0 0 0 0 0 ... 0 0 0 0 0 0 0 0</div><input id='attrs-b7ab2b77-3e4b-4b1d-986f-ee8159922790' class='xr-var-attrs-in' type='checkbox' disabled><label for='attrs-b7ab2b77-3e4b-4b1d-986f-ee8159922790' title='Show/Hide attributes'><svg class='icon xr-icon-file-text2'><use xlink:href='#icon-file-text2'></use></svg></label><input id='data-7f31163c-58f2-41ed-afb1-312c1fa43901' class='xr-var-data-in' type='checkbox'><label for='data-7f31163c-58f2-41ed-afb1-312c1fa43901' title='Show/Hide data repr'><svg class='icon xr-icon-database'><use xlink:href='#icon-database'></use></svg></label><div class='xr-var-attrs'><dl class='xr-attrs'></dl></div><div class='xr-var-data'><pre>array([0, 0, 0, ..., 0, 0, 0])</pre></div></li><li class='xr-var-item'><div class='xr-var-name'><span>RAMP_CATEGORIES</span></div><div class='xr-var-dims'>(time)</div><div class='xr-var-dtype'>&lt;U7</div><div class='xr-var-preview xr-preview'>&#x27;neither&#x27; &#x27;neither&#x27; ... &#x27;up&#x27; &#x27;up&#x27;</div><input id='attrs-c42c5c93-6612-4862-bf4d-0c0e56d930d1' class='xr-var-attrs-in' type='checkbox' disabled><label for='attrs-c42c5c93-6612-4862-bf4d-0c0e56d930d1' title='Show/Hide attributes'><svg class='icon xr-icon-file-text2'><use xlink:href='#icon-file-text2'></use></svg></label><input id='data-5fe64592-a3c6-43fa-8220-1b1742fc12fb' class='xr-var-data-in' type='checkbox'><label for='data-5fe64592-a3c6-43fa-8220-1b1742fc12fb' title='Show/Hide data repr'><svg class='icon xr-icon-database'><use xlink:href='#icon-database'></use></svg></label><div class='xr-var-attrs'><dl class='xr-attrs'></dl></div><div class='xr-var-data'><pre>array([&#x27;neither&#x27;, &#x27;neither&#x27;, &#x27;neither&#x27;, ..., &#x27;neither&#x27;, &#x27;up&#x27;, &#x27;up&#x27;],\n",
       "      dtype=&#x27;&lt;U7&#x27;)</pre></div></li><li class='xr-var-item'><div class='xr-var-name'><span>SEASON</span></div><div class='xr-var-dims'>(time)</div><div class='xr-var-dtype'>object</div><div class='xr-var-preview xr-preview'>...</div><input id='attrs-015cc51c-80ea-498c-8fc7-c4c292ba9307' class='xr-var-attrs-in' type='checkbox' disabled><label for='attrs-015cc51c-80ea-498c-8fc7-c4c292ba9307' title='Show/Hide attributes'><svg class='icon xr-icon-file-text2'><use xlink:href='#icon-file-text2'></use></svg></label><input id='data-c58a6b4f-7ff7-4405-96f5-19ef573b5e23' class='xr-var-data-in' type='checkbox'><label for='data-c58a6b4f-7ff7-4405-96f5-19ef573b5e23' title='Show/Hide data repr'><svg class='icon xr-icon-database'><use xlink:href='#icon-database'></use></svg></label><div class='xr-var-attrs'><dl class='xr-attrs'></dl></div><div class='xr-var-data'><pre>[16071 values with dtype=object]</pre></div></li><li class='xr-var-item'><div class='xr-var-name'><span>p_perfect_total</span></div><div class='xr-var-dims'>(time, y, x)</div><div class='xr-var-dtype'>float64</div><div class='xr-var-preview xr-preview'>...</div><input id='attrs-fc7699f5-0578-4601-b305-68308bd7ba4a' class='xr-var-attrs-in' type='checkbox' disabled><label for='attrs-fc7699f5-0578-4601-b305-68308bd7ba4a' title='Show/Hide attributes'><svg class='icon xr-icon-file-text2'><use xlink:href='#icon-file-text2'></use></svg></label><input id='data-73d5c23f-1ac1-443f-a188-33296240573b' class='xr-var-data-in' type='checkbox'><label for='data-73d5c23f-1ac1-443f-a188-33296240573b' title='Show/Hide data repr'><svg class='icon xr-icon-database'><use xlink:href='#icon-database'></use></svg></label><div class='xr-var-attrs'><dl class='xr-attrs'></dl></div><div class='xr-var-data'><pre>[97149195 values with dtype=float64]</pre></div></li><li class='xr-var-item'><div class='xr-var-name'><span>REGION</span></div><div class='xr-var-dims'>(time)</div><div class='xr-var-dtype'>object</div><div class='xr-var-preview xr-preview'>...</div><input id='attrs-613da556-590f-45ca-a7a2-5e040eb0087d' class='xr-var-attrs-in' type='checkbox' disabled><label for='attrs-613da556-590f-45ca-a7a2-5e040eb0087d' title='Show/Hide attributes'><svg class='icon xr-icon-file-text2'><use xlink:href='#icon-file-text2'></use></svg></label><input id='data-93a9d1a9-3d50-4e29-a109-18498126ec4e' class='xr-var-data-in' type='checkbox'><label for='data-93a9d1a9-3d50-4e29-a109-18498126ec4e' title='Show/Hide data repr'><svg class='icon xr-icon-database'><use xlink:href='#icon-database'></use></svg></label><div class='xr-var-attrs'><dl class='xr-attrs'></dl></div><div class='xr-var-data'><pre>[16071 values with dtype=object]</pre></div></li><li class='xr-var-item'><div class='xr-var-name'><span>MAX_PPH_CAT</span></div><div class='xr-var-dims'>(time)</div><div class='xr-var-dtype'>&lt;U4</div><div class='xr-var-preview xr-preview'>&#x27;MRGL&#x27; &#x27;MRGL&#x27; ... &#x27;SLGT&#x27; &#x27;ZERO&#x27;</div><input id='attrs-514df554-a175-4ce4-b236-a6ee75592331' class='xr-var-attrs-in' type='checkbox' disabled><label for='attrs-514df554-a175-4ce4-b236-a6ee75592331' title='Show/Hide attributes'><svg class='icon xr-icon-file-text2'><use xlink:href='#icon-file-text2'></use></svg></label><input id='data-c3b7fca9-4935-4761-8824-0a54b5c60975' class='xr-var-data-in' type='checkbox'><label for='data-c3b7fca9-4935-4761-8824-0a54b5c60975' title='Show/Hide data repr'><svg class='icon xr-icon-database'><use xlink:href='#icon-database'></use></svg></label><div class='xr-var-attrs'><dl class='xr-attrs'></dl></div><div class='xr-var-data'><pre>array([&#x27;MRGL&#x27;, &#x27;MRGL&#x27;, &#x27;ZERO&#x27;, ..., &#x27;SLGT&#x27;, &#x27;SLGT&#x27;, &#x27;ZERO&#x27;], dtype=&#x27;&lt;U4&#x27;)</pre></div></li><li class='xr-var-item'><div class='xr-var-name'><span>MAX_PPH_NUM</span></div><div class='xr-var-dims'>(time)</div><div class='xr-var-dtype'>int32</div><div class='xr-var-preview xr-preview'>7 7 0 0 0 0 0 0 ... 0 0 0 0 21 27 0</div><input id='attrs-2095fca5-add1-43e5-8847-37f0e2c06af1' class='xr-var-attrs-in' type='checkbox' disabled><label for='attrs-2095fca5-add1-43e5-8847-37f0e2c06af1' title='Show/Hide attributes'><svg class='icon xr-icon-file-text2'><use xlink:href='#icon-file-text2'></use></svg></label><input id='data-0179d931-a7a5-4a6c-ad20-56f34e0dced1' class='xr-var-data-in' type='checkbox'><label for='data-0179d931-a7a5-4a6c-ad20-56f34e0dced1' title='Show/Hide data repr'><svg class='icon xr-icon-database'><use xlink:href='#icon-database'></use></svg></label><div class='xr-var-attrs'><dl class='xr-attrs'></dl></div><div class='xr-var-data'><pre>array([ 7,  7,  0, ..., 21, 27,  0])</pre></div></li><li class='xr-var-item'><div class='xr-var-name'><span>NUM_REPORTS_NUM</span></div><div class='xr-var-dims'>(time)</div><div class='xr-var-dtype'>int32</div><div class='xr-var-preview xr-preview'>1 2 0 0 0 0 0 0 ... 0 0 0 0 5 11 0</div><input id='attrs-f6d003d9-9645-48d3-bc7e-22a04e76a677' class='xr-var-attrs-in' type='checkbox' disabled><label for='attrs-f6d003d9-9645-48d3-bc7e-22a04e76a677' title='Show/Hide attributes'><svg class='icon xr-icon-file-text2'><use xlink:href='#icon-file-text2'></use></svg></label><input id='data-c7f49daa-0173-4305-ac3c-09eb1a64b0dd' class='xr-var-data-in' type='checkbox'><label for='data-c7f49daa-0173-4305-ac3c-09eb1a64b0dd' title='Show/Hide data repr'><svg class='icon xr-icon-database'><use xlink:href='#icon-database'></use></svg></label><div class='xr-var-attrs'><dl class='xr-attrs'></dl></div><div class='xr-var-data'><pre>array([ 1,  2,  0, ...,  5, 11,  0])</pre></div></li><li class='xr-var-item'><div class='xr-var-name'><span>TOR_REPORTS_NUM</span></div><div class='xr-var-dims'>(time)</div><div class='xr-var-dtype'>int32</div><div class='xr-var-preview xr-preview'>1 1 0 0 0 0 0 0 ... 0 0 0 0 0 1 1 0</div><input id='attrs-c45a96d3-9542-44dd-9160-d61654dc3e3c' class='xr-var-attrs-in' type='checkbox' disabled><label for='attrs-c45a96d3-9542-44dd-9160-d61654dc3e3c' title='Show/Hide attributes'><svg class='icon xr-icon-file-text2'><use xlink:href='#icon-file-text2'></use></svg></label><input id='data-a89f6f56-59d7-4e16-b92b-37fd2a538998' class='xr-var-data-in' type='checkbox'><label for='data-a89f6f56-59d7-4e16-b92b-37fd2a538998' title='Show/Hide data repr'><svg class='icon xr-icon-database'><use xlink:href='#icon-database'></use></svg></label><div class='xr-var-attrs'><dl class='xr-attrs'></dl></div><div class='xr-var-data'><pre>array([1, 1, 0, ..., 1, 1, 0])</pre></div></li><li class='xr-var-item'><div class='xr-var-name'><span>WIND_REPORTS_NUM</span></div><div class='xr-var-dims'>(time)</div><div class='xr-var-dtype'>int32</div><div class='xr-var-preview xr-preview'>0 1 0 0 0 0 0 0 ... 0 0 0 0 3 10 0</div><input id='attrs-92f489af-e195-4818-8507-e3a26a65942b' class='xr-var-attrs-in' type='checkbox' disabled><label for='attrs-92f489af-e195-4818-8507-e3a26a65942b' title='Show/Hide attributes'><svg class='icon xr-icon-file-text2'><use xlink:href='#icon-file-text2'></use></svg></label><input id='data-f7b6ba75-c4b2-436c-973e-a24975375120' class='xr-var-data-in' type='checkbox'><label for='data-f7b6ba75-c4b2-436c-973e-a24975375120' title='Show/Hide data repr'><svg class='icon xr-icon-database'><use xlink:href='#icon-database'></use></svg></label><div class='xr-var-attrs'><dl class='xr-attrs'></dl></div><div class='xr-var-data'><pre>array([ 0,  1,  0, ...,  3, 10,  0])</pre></div></li><li class='xr-var-item'><div class='xr-var-name'><span>HAIL_REPORTS_NUM</span></div><div class='xr-var-dims'>(time)</div><div class='xr-var-dtype'>int32</div><div class='xr-var-preview xr-preview'>0 0 0 0 0 0 0 0 ... 0 0 0 0 0 1 0 0</div><input id='attrs-1251a85d-6a99-4f4b-9689-40b197e8eafb' class='xr-var-attrs-in' type='checkbox' disabled><label for='attrs-1251a85d-6a99-4f4b-9689-40b197e8eafb' title='Show/Hide attributes'><svg class='icon xr-icon-file-text2'><use xlink:href='#icon-file-text2'></use></svg></label><input id='data-c5b6ed55-0e8e-4b8d-9fcf-4f25f429b5b6' class='xr-var-data-in' type='checkbox'><label for='data-c5b6ed55-0e8e-4b8d-9fcf-4f25f429b5b6' title='Show/Hide data repr'><svg class='icon xr-icon-database'><use xlink:href='#icon-database'></use></svg></label><div class='xr-var-attrs'><dl class='xr-attrs'></dl></div><div class='xr-var-data'><pre>array([0, 0, 0, ..., 1, 0, 0])</pre></div></li><li class='xr-var-item'><div class='xr-var-name'><span>MAX_TORNADO_RATING</span></div><div class='xr-var-dims'>(time)</div><div class='xr-var-dtype'>&lt;U4</div><div class='xr-var-preview xr-preview'>&#x27;NONE&#x27; &#x27;NONE&#x27; ... &#x27;TEST&#x27; &#x27;NONE&#x27;</div><input id='attrs-fdcf6a84-e1ca-4a81-8ef1-9f5c8b309420' class='xr-var-attrs-in' type='checkbox' disabled><label for='attrs-fdcf6a84-e1ca-4a81-8ef1-9f5c8b309420' title='Show/Hide attributes'><svg class='icon xr-icon-file-text2'><use xlink:href='#icon-file-text2'></use></svg></label><input id='data-805e10c4-0f0a-4cbc-a22f-7a3f6410c20e' class='xr-var-data-in' type='checkbox'><label for='data-805e10c4-0f0a-4cbc-a22f-7a3f6410c20e' title='Show/Hide data repr'><svg class='icon xr-icon-database'><use xlink:href='#icon-database'></use></svg></label><div class='xr-var-attrs'><dl class='xr-attrs'></dl></div><div class='xr-var-data'><pre>array([&#x27;NONE&#x27;, &#x27;NONE&#x27;, &#x27;NONE&#x27;, ..., &#x27;(E)F&#x27;, &#x27;TEST&#x27;, &#x27;NONE&#x27;], dtype=&#x27;&lt;U4&#x27;)</pre></div></li><li class='xr-var-item'><div class='xr-var-name'><span>MAX_WIND_SPEED_CAT</span></div><div class='xr-var-dims'>(time)</div><div class='xr-var-dtype'>&lt;U4</div><div class='xr-var-preview xr-preview'>&#x27;NONE&#x27; &#x27;seve&#x27; ... &#x27;sig_&#x27; &#x27;NONE&#x27;</div><input id='attrs-74bd3355-1388-4ca8-8084-790072a54295' class='xr-var-attrs-in' type='checkbox' disabled><label for='attrs-74bd3355-1388-4ca8-8084-790072a54295' title='Show/Hide attributes'><svg class='icon xr-icon-file-text2'><use xlink:href='#icon-file-text2'></use></svg></label><input id='data-05ce7bab-ba83-48f2-9a4c-4093bd758030' class='xr-var-data-in' type='checkbox'><label for='data-05ce7bab-ba83-48f2-9a4c-4093bd758030' title='Show/Hide data repr'><svg class='icon xr-icon-database'><use xlink:href='#icon-database'></use></svg></label><div class='xr-var-attrs'><dl class='xr-attrs'></dl></div><div class='xr-var-data'><pre>array([&#x27;NONE&#x27;, &#x27;seve&#x27;, &#x27;NONE&#x27;, ..., &#x27;seve&#x27;, &#x27;sig_&#x27;, &#x27;NONE&#x27;], dtype=&#x27;&lt;U4&#x27;)</pre></div></li><li class='xr-var-item'><div class='xr-var-name'><span>MAX_WIND_SPEED_NUM</span></div><div class='xr-var-dims'>(time)</div><div class='xr-var-dtype'>int32</div><div class='xr-var-preview xr-preview'>0 50 0 0 0 0 0 ... 0 0 0 0 52 70 0</div><input id='attrs-5d9bbaab-457a-487a-bbdc-2d00ce6745a8' class='xr-var-attrs-in' type='checkbox' disabled><label for='attrs-5d9bbaab-457a-487a-bbdc-2d00ce6745a8' title='Show/Hide attributes'><svg class='icon xr-icon-file-text2'><use xlink:href='#icon-file-text2'></use></svg></label><input id='data-4995eff3-c437-4355-b43c-a4297d3db8fe' class='xr-var-data-in' type='checkbox'><label for='data-4995eff3-c437-4355-b43c-a4297d3db8fe' title='Show/Hide data repr'><svg class='icon xr-icon-database'><use xlink:href='#icon-database'></use></svg></label><div class='xr-var-attrs'><dl class='xr-attrs'></dl></div><div class='xr-var-data'><pre>array([ 0, 50,  0, ..., 52, 70,  0])</pre></div></li><li class='xr-var-item'><div class='xr-var-name'><span>MAX_HAIL_SIZE_CAT</span></div><div class='xr-var-dims'>(time)</div><div class='xr-var-dtype'>&lt;U4</div><div class='xr-var-preview xr-preview'>&#x27;NONE&#x27; &#x27;NONE&#x27; ... &#x27;NONE&#x27; &#x27;NONE&#x27;</div><input id='attrs-38c4b78f-4d38-4922-b285-4db06f1e16e4' class='xr-var-attrs-in' type='checkbox' disabled><label for='attrs-38c4b78f-4d38-4922-b285-4db06f1e16e4' title='Show/Hide attributes'><svg class='icon xr-icon-file-text2'><use xlink:href='#icon-file-text2'></use></svg></label><input id='data-a6bf0b2c-2304-4865-a7e6-ea404e05fcfe' class='xr-var-data-in' type='checkbox'><label for='data-a6bf0b2c-2304-4865-a7e6-ea404e05fcfe' title='Show/Hide data repr'><svg class='icon xr-icon-database'><use xlink:href='#icon-database'></use></svg></label><div class='xr-var-attrs'><dl class='xr-attrs'></dl></div><div class='xr-var-data'><pre>array([&#x27;NONE&#x27;, &#x27;NONE&#x27;, &#x27;NONE&#x27;, ..., &#x27;seve&#x27;, &#x27;NONE&#x27;, &#x27;NONE&#x27;], dtype=&#x27;&lt;U4&#x27;)</pre></div></li><li class='xr-var-item'><div class='xr-var-name'><span>MAX_HAIL_SIZE_NUM</span></div><div class='xr-var-dims'>(time)</div><div class='xr-var-dtype'>int32</div><div class='xr-var-preview xr-preview'>0 0 0 0 0 0 0 0 ... 0 0 0 0 0 1 0 0</div><input id='attrs-55ef3df5-3a68-459f-9493-86832c710545' class='xr-var-attrs-in' type='checkbox' disabled><label for='attrs-55ef3df5-3a68-459f-9493-86832c710545' title='Show/Hide attributes'><svg class='icon xr-icon-file-text2'><use xlink:href='#icon-file-text2'></use></svg></label><input id='data-eca7d86b-7eff-47ad-8f18-2de7c1c9847e' class='xr-var-data-in' type='checkbox'><label for='data-eca7d86b-7eff-47ad-8f18-2de7c1c9847e' title='Show/Hide data repr'><svg class='icon xr-icon-database'><use xlink:href='#icon-database'></use></svg></label><div class='xr-var-attrs'><dl class='xr-attrs'></dl></div><div class='xr-var-data'><pre>array([0, 0, 0, ..., 1, 0, 0])</pre></div></li><li class='xr-var-item'><div class='xr-var-name'><span>test</span></div><div class='xr-var-dims'>(time)</div><div class='xr-var-dtype'>float64</div><div class='xr-var-preview xr-preview'>0.0 0.0 0.0 0.0 ... 0.0 0.0 0.0 0.0</div><input id='attrs-0f817279-b79c-474c-8e26-2072afbb3160' class='xr-var-attrs-in' type='checkbox' disabled><label for='attrs-0f817279-b79c-474c-8e26-2072afbb3160' title='Show/Hide attributes'><svg class='icon xr-icon-file-text2'><use xlink:href='#icon-file-text2'></use></svg></label><input id='data-888c474f-829d-439c-a9bf-19e4d9eddb0c' class='xr-var-data-in' type='checkbox'><label for='data-888c474f-829d-439c-a9bf-19e4d9eddb0c' title='Show/Hide data repr'><svg class='icon xr-icon-database'><use xlink:href='#icon-database'></use></svg></label><div class='xr-var-attrs'><dl class='xr-attrs'></dl></div><div class='xr-var-data'><pre>array([0., 0., 0., ..., 0., 0., 0.])</pre></div></li></ul></div></li><li class='xr-section-item'><input id='section-bb082938-d46a-4515-ad84-a4db81df725b' class='xr-section-summary-in' type='checkbox'  ><label for='section-bb082938-d46a-4515-ad84-a4db81df725b' class='xr-section-summary' >Indexes: <span>(3)</span></label><div class='xr-section-inline-details'></div><div class='xr-section-details'><ul class='xr-var-list'><li class='xr-var-item'><div class='xr-index-name'><div>time</div></div><div class='xr-index-preview'>PandasIndex</div><div></div><input id='index-a3e92ecb-2900-4086-adbe-b5f6ddd32398' class='xr-index-data-in' type='checkbox'/><label for='index-a3e92ecb-2900-4086-adbe-b5f6ddd32398' title='Show/Hide index repr'><svg class='icon xr-icon-database'><use xlink:href='#icon-database'></use></svg></label><div class='xr-index-data'><pre>PandasIndex(Index([&#x27;197901010000&#x27;, &#x27;197901020000&#x27;, &#x27;197901030000&#x27;, &#x27;197901040000&#x27;,\n",
       "       &#x27;197901050000&#x27;, &#x27;197901060000&#x27;, &#x27;197901070000&#x27;, &#x27;197901080000&#x27;,\n",
       "       &#x27;197901090000&#x27;, &#x27;197901100000&#x27;,\n",
       "       ...\n",
       "       &#x27;202212220000&#x27;, &#x27;202212230000&#x27;, &#x27;202212240000&#x27;, &#x27;202212250000&#x27;,\n",
       "       &#x27;202212260000&#x27;, &#x27;202212270000&#x27;, &#x27;202212280000&#x27;, &#x27;202212290000&#x27;,\n",
       "       &#x27;202212300000&#x27;, &#x27;202212310000&#x27;],\n",
       "      dtype=&#x27;object&#x27;, name=&#x27;time&#x27;, length=16071))</pre></div></li><li class='xr-var-item'><div class='xr-index-name'><div>x</div></div><div class='xr-index-preview'>PandasIndex</div><div></div><input id='index-40739959-149a-4bf4-aaff-f214dce50d1b' class='xr-index-data-in' type='checkbox'/><label for='index-40739959-149a-4bf4-aaff-f214dce50d1b' title='Show/Hide index repr'><svg class='icon xr-icon-database'><use xlink:href='#icon-database'></use></svg></label><div class='xr-index-data'><pre>PandasIndex(Float64Index([ 0.0,  1.0,  2.0,  3.0,  4.0,  5.0,  6.0,  7.0,  8.0,  9.0, 10.0,\n",
       "              11.0, 12.0, 13.0, 14.0, 15.0, 16.0, 17.0, 18.0, 19.0, 20.0, 21.0,\n",
       "              22.0, 23.0, 24.0, 25.0, 26.0, 27.0, 28.0, 29.0, 30.0, 31.0, 32.0,\n",
       "              33.0, 34.0, 35.0, 36.0, 37.0, 38.0, 39.0, 40.0, 41.0, 42.0, 43.0,\n",
       "              44.0, 45.0, 46.0, 47.0, 48.0, 49.0, 50.0, 51.0, 52.0, 53.0, 54.0,\n",
       "              55.0, 56.0, 57.0, 58.0, 59.0, 60.0, 61.0, 62.0, 63.0, 64.0, 65.0,\n",
       "              66.0, 67.0, 68.0, 69.0, 70.0, 71.0, 72.0, 73.0, 74.0, 75.0, 76.0,\n",
       "              77.0, 78.0, 79.0, 80.0, 81.0, 82.0, 83.0, 84.0, 85.0, 86.0, 87.0,\n",
       "              88.0, 89.0, 90.0, 91.0, 92.0],\n",
       "             dtype=&#x27;float64&#x27;, name=&#x27;x&#x27;))</pre></div></li><li class='xr-var-item'><div class='xr-index-name'><div>y</div></div><div class='xr-index-preview'>PandasIndex</div><div></div><input id='index-b89931de-fa2d-47f6-a9c5-fd3c02503793' class='xr-index-data-in' type='checkbox'/><label for='index-b89931de-fa2d-47f6-a9c5-fd3c02503793' title='Show/Hide index repr'><svg class='icon xr-icon-database'><use xlink:href='#icon-database'></use></svg></label><div class='xr-index-data'><pre>PandasIndex(Float64Index([ 0.0,  1.0,  2.0,  3.0,  4.0,  5.0,  6.0,  7.0,  8.0,  9.0, 10.0,\n",
       "              11.0, 12.0, 13.0, 14.0, 15.0, 16.0, 17.0, 18.0, 19.0, 20.0, 21.0,\n",
       "              22.0, 23.0, 24.0, 25.0, 26.0, 27.0, 28.0, 29.0, 30.0, 31.0, 32.0,\n",
       "              33.0, 34.0, 35.0, 36.0, 37.0, 38.0, 39.0, 40.0, 41.0, 42.0, 43.0,\n",
       "              44.0, 45.0, 46.0, 47.0, 48.0, 49.0, 50.0, 51.0, 52.0, 53.0, 54.0,\n",
       "              55.0, 56.0, 57.0, 58.0, 59.0, 60.0, 61.0, 62.0, 63.0, 64.0],\n",
       "             dtype=&#x27;float64&#x27;, name=&#x27;y&#x27;))</pre></div></li></ul></div></li><li class='xr-section-item'><input id='section-dd05acfa-9a71-4bea-989e-e4331b68ddaf' class='xr-section-summary-in' type='checkbox'  checked><label for='section-dd05acfa-9a71-4bea-989e-e4331b68ddaf' class='xr-section-summary' >Attributes: <span>(6)</span></label><div class='xr-section-inline-details'></div><div class='xr-section-details'><dl class='xr-attrs'><dt><span>title :</span></dt><dd>Practically Perfect Wind Hindcasts</dd><dt><span>grid :</span></dt><dd>80-km NCEP 211</dd><dt><span>sigma :</span></dt><dd>1.5</dd><dt><span>author :</span></dt><dd>Dr. Victor Gensini</dd><dt><span>author_email :</span></dt><dd>vgensini@niu.edu</dd><dt><span>citation :</span></dt><dd>https://doi.org/10.1175/BAMS-D-19-0321.1</dd></dl></div></li></ul></div></div>"
      ],
      "text/plain": [
       "<xarray.Dataset>\n",
       "Dimensions:             (time: 16071, x: 93, y: 65)\n",
       "Coordinates:\n",
       "  * time                (time) object '197901010000' ... '202212310000'\n",
       "  * x                   (x) float64 0.0 1.0 2.0 3.0 4.0 ... 89.0 90.0 91.0 92.0\n",
       "  * y                   (y) float64 0.0 1.0 2.0 3.0 4.0 ... 61.0 62.0 63.0 64.0\n",
       "Data variables: (12/27)\n",
       "    lat                 (y, x) float64 ...\n",
       "    lon                 (y, x) float64 ...\n",
       "    p_perfect_wind      (time, y, x) float64 ...\n",
       "    p_perfect_sig_wind  (time, y, x) float64 ...\n",
       "    p_perfect_hail      (time, y, x) float64 ...\n",
       "    p_perfect_sig_hail  (time, y, x) float64 ...\n",
       "    ...                  ...\n",
       "    MAX_TORNADO_RATING  (time) <U4 'NONE' 'NONE' 'NONE' ... '(E)F' 'TEST' 'NONE'\n",
       "    MAX_WIND_SPEED_CAT  (time) <U4 'NONE' 'seve' 'NONE' ... 'seve' 'sig_' 'NONE'\n",
       "    MAX_WIND_SPEED_NUM  (time) int32 0 50 0 0 0 0 0 0 0 ... 62 0 0 0 0 0 52 70 0\n",
       "    MAX_HAIL_SIZE_CAT   (time) <U4 'NONE' 'NONE' 'NONE' ... 'seve' 'NONE' 'NONE'\n",
       "    MAX_HAIL_SIZE_NUM   (time) int32 0 0 0 0 0 0 0 0 0 0 ... 0 0 0 0 0 0 0 1 0 0\n",
       "    test                (time) float64 0.0 0.0 0.0 0.0 0.0 ... 0.0 0.0 0.0 0.0\n",
       "Attributes:\n",
       "    title:         Practically Perfect Wind Hindcasts\n",
       "    grid:          80-km NCEP 211\n",
       "    sigma:         1.5\n",
       "    author:        Dr. Victor Gensini\n",
       "    author_email:  vgensini@niu.edu\n",
       "    citation:      https://doi.org/10.1175/BAMS-D-19-0321.1"
      ]
     },
     "execution_count": 41,
     "metadata": {},
     "output_type": "execute_result"
    }
   ],
   "source": [
    "\n",
    "pph['test'] = (('time'), np.full(len(pph['time']), 0.0))\n",
    "pph"
   ]
  },
  {
   "cell_type": "code",
   "execution_count": 60,
   "metadata": {},
   "outputs": [
    {
     "data": {
      "text/plain": [
       "{0: [], 1.5: [0]}"
      ]
     },
     "execution_count": 60,
     "metadata": {},
     "output_type": "execute_result"
    }
   ],
   "source": []
  },
  {
   "cell_type": "markdown",
   "metadata": {},
   "source": [
    "# LABEL BY ACCURACY OF FORECAST\n",
    "Brier, FSS, SAL, and/or wavelet"
   ]
  },
  {
   "cell_type": "markdown",
   "metadata": {},
   "source": [
    "# ONCE YOU ADD THE LABELS YOU WANT, SAVE DATA"
   ]
  },
  {
   "cell_type": "code",
   "execution_count": null,
   "metadata": {},
   "outputs": [],
   "source": [
    "# resave labelled data\n",
    "outlook_save_location = 'data/outlooks'\n",
    "pph_save_location = 'data/pph'\n",
    "report_save_location = 'data/storm_reports'\n",
    "\n",
    "new_outlooks.to_file(outlook_save_location + '/labelled_outlooks.shp')\n",
    "if labelled == True:\n",
    "    new_pph.to_netcdf(pph_save_location + '/labelled_pph2.nc') \n",
    "else:\n",
    "    new_pph.to_netcdf(pph_save_location + '/labelled_pph.nc') \n",
    "new_reports.to_csv(report_save_location + '/labelled_reports.csv')"
   ]
  },
  {
   "cell_type": "markdown",
   "metadata": {},
   "source": [
    "# REMOVING COLUMNS"
   ]
  },
  {
   "cell_type": "code",
   "execution_count": 9,
   "metadata": {},
   "outputs": [],
   "source": [
    "columns_to_remove = ['RAMP_CATEG', 'MAX_PPH_CA', 'MAX_PPH_NU',\n",
    "       'NUM_REPORT', 'TOR_REPORT', 'WIND_REPOR', 'HAIL_REPOR', 'MAX_TORNAD',\n",
    "       'MAX_WIND_S', 'MAX_WIND_1', 'MAX_HAIL_S', 'MAX_HAIL_1']\n",
    "new_outlooks = new_outlooks.drop(columns = columns_to_remove)\n",
    "#new_reports = new_reports.drop(columns = columns_to_remove)\n",
    "#new_pph = new_pph.drop_vars(columns_to_remove)"
   ]
  }
 ],
 "metadata": {
  "kernelspec": {
   "display_name": "Python 3",
   "language": "python",
   "name": "python3"
  },
  "language_info": {
   "codemirror_mode": {
    "name": "ipython",
    "version": 3
   },
   "file_extension": ".py",
   "mimetype": "text/x-python",
   "name": "python",
   "nbconvert_exporter": "python",
   "pygments_lexer": "ipython3",
   "version": "3.10.11"
  }
 },
 "nbformat": 4,
 "nbformat_minor": 2
}
