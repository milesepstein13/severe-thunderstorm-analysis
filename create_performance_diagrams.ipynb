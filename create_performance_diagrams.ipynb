{
 "cells": [
  {
   "cell_type": "code",
   "execution_count": null,
   "metadata": {},
   "outputs": [],
   "source": [
    "# TODO: once POD/FAR added all the way, load in appropriate subsets."
   ]
  },
  {
   "cell_type": "code",
   "execution_count": 1,
   "metadata": {},
   "outputs": [],
   "source": [
    "import xarray as xr\n",
    "import numpy as np\n",
    "import matplotlib.pyplot as plt\n",
    "from utils_datetime import *\n",
    "from utils_filter import *"
   ]
  },
  {
   "cell_type": "code",
   "execution_count": 2,
   "metadata": {},
   "outputs": [],
   "source": [
    "contingencies = xr.load_dataset('data/contingency/contingency.nc')"
   ]
  },
  {
   "cell_type": "code",
   "execution_count": 3,
   "metadata": {},
   "outputs": [],
   "source": [
    "pph = xr.load_dataset('data/pph/labelled_pph.nc')"
   ]
  },
  {
   "cell_type": "code",
   "execution_count": null,
   "metadata": {},
   "outputs": [],
   "source": [
    "test_pods = np.divide(contingencies['a'], contingencies['a'] + contingencies['c'].values)\n",
    "test_fars = np.divide(contingencies['b'].values, contingencies['a'].values + contingencies['b'].values)"
   ]
  },
  {
   "cell_type": "code",
   "execution_count": null,
   "metadata": {},
   "outputs": [],
   "source": [
    "pods = []\n",
    "fars = []\n",
    "hazard_types= ['Wind', 'Hail', 'Tornado', 'All Hazard']\n",
    "no_skill_sr = []\n",
    "\n",
    "# create yearly POD/FAR\n",
    "for hazard in hazard_types:\n",
    "    hazard_pod = []\n",
    "    hazard_far = []\n",
    "    for i in range(2002, 2023):\n",
    "        subset = contingencies.sel(time=contingencies['time'].where(contingencies['time'].str.startswith(str(i)), drop=True), hazard = hazard)\n",
    "        hazard_pod.append(subset['a'].values.sum()/(subset['a'].values.sum() + subset['c'].values.sum()))\n",
    "        hazard_far.append(subset['b'].values.sum()/(subset['a'].values.sum() + subset['b'].values.sum()))\n",
    "    pods.append(np.array(hazard_pod))\n",
    "    fars.append(np.array(hazard_far))\n",
    "\n",
    "    no_skill_sr.append((contingencies.sel(hazard = hazard)['a'].values.sum() + contingencies.sel(hazard = hazard)['c'].values.sum()) / (contingencies.sel(hazard = hazard)['a'].values.sum() + contingencies.sel(hazard = hazard)['b'].values.sum() + contingencies.sel(hazard = hazard)['c'].values.sum() + contingencies.sel(hazard = hazard)['d'].values.sum()))\n",
    "        \n",
    "no_skill_sr       \n"
   ]
  },
  {
   "cell_type": "code",
   "execution_count": 6,
   "metadata": {},
   "outputs": [],
   "source": [
    "# Adapted from https://gist.github.com/djgagne/64516e3ea268ec31fb34\n",
    "\n",
    "def performance_diagram(pods, fars, obj_labels, colors, markers, filename = '', save = False, show = True, figsize=(9, 8), xlabel=\"Success Ratio (1-FAR)\",\n",
    "                        ylabel=\"Probability of Detection\", ticks=np.arange(0, 1.1, 0.1), dpi=300, csi_cmap=\"Blues\",\n",
    "                        csi_label=\"Critical Success Index\", title=\"Performance Diagram\",\n",
    "                        legend_params=dict(loc=4, fontsize=12, framealpha=1, frameon=True)):\n",
    "    \"\"\"\n",
    "    Draws a performance diagram from a set of POD lists and FAR lists.\n",
    "    :param pods: list or array of POD arrays.\n",
    "    :param fars: list or array of FAR arrays.\n",
    "    :param obj_labels: list or array of labels describing each DistributedROC object.\n",
    "    :param colors: list of color strings\n",
    "    :param markers: list of markers.\n",
    "    :param filename: output filename.\n",
    "    :param save: whether the figure will be saved\n",
    "    :param show: whether the figure will be shown in the console\n",
    "    :param figsize: tuple with size of the figure in inches.\n",
    "    :param xlabel: Label for the x-axis\n",
    "    :param ylabel: Label for the y-axis\n",
    "    :param ticks: Array of ticks used for x and y axes\n",
    "    :param dpi: DPI of the output image\n",
    "    :param csi_cmap: Colormap used for the CSI contours\n",
    "    :param csi_label: Label for the CSI colorbar\n",
    "    :return:\n",
    "    \"\"\"\n",
    "    plt.figure(figsize=figsize)\n",
    "    grid_ticks = np.arange(0, 1.01, 0.01)\n",
    "    sr_g, pod_g = np.meshgrid(grid_ticks, grid_ticks)\n",
    "    bias = pod_g / sr_g\n",
    "    csi = 1.0 / (1.0 / sr_g + 1.0 / pod_g - 1.0)\n",
    "    csi_contour = plt.contourf(sr_g, pod_g, csi, np.arange(0.1, 1.1, 0.025), extend=\"max\", cmap=csi_cmap)\n",
    "    b_contour = plt.contour(sr_g, pod_g, bias, [.25, 0.5, 1, 2, 4], colors=\"k\", linestyles=\"dashed\")\n",
    "    plt.clabel(b_contour, fmt=\"%1.2f\", manual=[(0.2, 0.9), (0.4, 0.9), (0.7, 0.7), (.9, .4), (.9, .2)])\n",
    "    for r, pod, far in zip(range(len(pods)), pods, fars):\n",
    "        plt.scatter(1 - far, pod, marker=markers[r], color=colors[r], label=obj_labels[r])\n",
    "    cbar = plt.colorbar(csi_contour)\n",
    "    cbar.set_label(csi_label, fontsize=14)\n",
    "    plt.xlabel(xlabel, fontsize=14)\n",
    "    plt.ylabel(ylabel, fontsize=14)\n",
    "    plt.xticks(ticks)\n",
    "    plt.yticks(ticks)\n",
    "    plt.title(title, fontsize=14, fontweight=\"bold\")\n",
    "    plt.text(0.48,0.6,\"Frequency Bias\",fontdict=dict(fontsize=14, rotation=45))\n",
    "    plt.legend(**legend_params)\n",
    "\n",
    "    if save:\n",
    "        plt.savefig(filename, dpi=dpi, bbox_inches=\"tight\")\n",
    "    if show:\n",
    "        plt.show()"
   ]
  },
  {
   "cell_type": "code",
   "execution_count": null,
   "metadata": {},
   "outputs": [],
   "source": [
    "\n",
    "\n",
    "# performance diagram year-by-year\n",
    "performance_diagram(pods, fars, hazard_types, ['blue', 'green', 'red', 'black'], ['o', 'o', 'o', 'o'])\n",
    "\n",
    "# Different, more \"true\" than hitchens/brooks because of probabilisitc nature, their use of non-standard verification radii"
   ]
  },
  {
   "cell_type": "markdown",
   "metadata": {},
   "source": [
    "# Testing"
   ]
  },
  {
   "cell_type": "code",
   "execution_count": null,
   "metadata": {},
   "outputs": [],
   "source": [
    "pods = [np.empty(4), np.empty(4), np.empty(4), np.empty(4)]\n",
    "fars = [np.empty(4), np.empty(4), np.empty(4), np.empty(4)]\n",
    "for i, p in enumerate([.05, .2, .5, .8]):\n",
    "    for j, v in enumerate([.05, .2, .5, .8]):\n",
    "        a = p * v\n",
    "        b = p * (1-v)\n",
    "        c = (1-p) * v\n",
    "        pods[j][i] = a / (a + c)\n",
    "        fars[j][i] = b / (a + b)\n",
    "\n",
    "performance_diagram(pods, fars, ['True 5', 'True 10', 'True 20', 'True 50'], ['blue', 'green', 'red', 'black'], ['o', 'o', 'o', 'o'])"
   ]
  },
  {
   "cell_type": "code",
   "execution_count": null,
   "metadata": {},
   "outputs": [],
   "source": [
    "pods = [np.empty(4), np.empty(4), np.empty(4), np.empty(4)]\n",
    "fars = [np.empty(4), np.empty(4), np.empty(4), np.empty(4)]\n",
    "for i, p in enumerate([0, .25, .5, .75]):\n",
    "    for j, v in enumerate([0, .25, .5, .75]):\n",
    "        a = p * .5\n",
    "        b = p * .5 + v * 1\n",
    "        if b == 0:\n",
    "            b = 1\n",
    "        c = (1-p) * .5\n",
    "        pods[j][i] = a / (a + c)\n",
    "        fars[j][i] = b / (a + b)\n",
    "\n",
    "performance_diagram(pods, fars, ['Fcst 0 in 0', 'Fcst .25 in 0', 'Fcst .5 in 0', 'Fcst .75 in 0'], ['blue', 'green', 'red', 'black'], ['o', 'o', 'o', 'o'])"
   ]
  },
  {
   "cell_type": "code",
   "execution_count": null,
   "metadata": {},
   "outputs": [],
   "source": [
    "# no skill forecast test\n",
    "p = np.array([0, .1, .1, .0, .6, .3, 0, .05])\n",
    "\n",
    "pods = []\n",
    "fars = []\n",
    "\n",
    "for f in [0, .1, .2, .3, .4, .5, .6, .7, .8, .9, 1]:\n",
    "    a = (f * p).sum()\n",
    "    b = (f * (1-p)).sum()\n",
    "    c = ((1-f) * p).sum()\n",
    "    pods.append(a / (a + c))\n",
    "    fars.append(b / (a + b))\n",
    "\n",
    "fars\n",
    "#1-np.mean(p)\n"
   ]
  }
 ],
 "metadata": {
  "kernelspec": {
   "display_name": "Python 3",
   "language": "python",
   "name": "python3"
  },
  "language_info": {
   "codemirror_mode": {
    "name": "ipython",
    "version": 3
   },
   "file_extension": ".py",
   "mimetype": "text/x-python",
   "name": "python",
   "nbconvert_exporter": "python",
   "pygments_lexer": "ipython3",
   "version": "3.10.11"
  }
 },
 "nbformat": 4,
 "nbformat_minor": 2
}
