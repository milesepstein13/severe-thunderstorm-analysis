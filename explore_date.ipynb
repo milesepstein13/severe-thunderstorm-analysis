{
 "cells": [
  {
   "cell_type": "code",
   "execution_count": 1,
   "metadata": {},
   "outputs": [],
   "source": [
    "from utils_filter import *\n",
    "from utils_datetime import *\n",
    "from utils_geography import *\n",
    "from utils_plotting import *\n",
    "import numpy as np\n",
    "import matplotlib.pyplot as plt\n",
    "from matplotlib import colors\n",
    "import metpy\n",
    "import numbers"
   ]
  },
  {
   "cell_type": "code",
   "execution_count": null,
   "metadata": {},
   "outputs": [],
   "source": [
    "# TODO: make function that plots all 3 outlooks, PPH, and reports for one day to spotcheck\n",
    "# with utils_plotting functions\n",
    "def plot_day(datestring, outlooks, pph, reports):\n",
    "    outlooks_day = outlooks[outlooks['DATE'] == datestring]\n",
    "    pph_day = pph.sel(time=datestring)\n",
    "    reports_day = reports[reports['DATE'] == datestring]\n",
    "    \n",
    "    print('plotting outlooks')\n",
    "    plot_outlooks_day(outlooks_day, 'plots/daily/'+datestring+'/outlooks', ['CATEGORICAL'], show=True)\n",
    "    print('plotting pph')\n",
    "    plot_pph_day(pph_day, 'plots/daily/'+datestring+'/pph', ['total'], show=True, sig = False)\n",
    "    #print('plotting reports')\n",
    "    #plot_reports(reports_day, 'plots/daily/'+datestring+'/reports', ['Hail', 'Thunderstorm Wind', 'Tornado'], show=True)\n",
    "    return\n"
   ]
  }
 ],
 "metadata": {
  "kernelspec": {
   "display_name": "Python 3",
   "language": "python",
   "name": "python3"
  },
  "language_info": {
   "codemirror_mode": {
    "name": "ipython",
    "version": 3
   },
   "file_extension": ".py",
   "mimetype": "text/x-python",
   "name": "python",
   "nbconvert_exporter": "python",
   "pygments_lexer": "ipython3",
   "version": "3.10.11"
  }
 },
 "nbformat": 4,
 "nbformat_minor": 2
}
