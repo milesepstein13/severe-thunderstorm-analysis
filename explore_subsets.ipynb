{
 "cells": [
  {
   "cell_type": "code",
   "execution_count": 12,
   "metadata": {},
   "outputs": [],
   "source": [
    "from utils_filter import *\n",
    "from utils_datetime import *\n",
    "from utils_geography import *\n",
    "import numpy as np\n",
    "import matplotlib.pyplot as plt"
   ]
  },
  {
   "cell_type": "code",
   "execution_count": 4,
   "metadata": {},
   "outputs": [
    {
     "name": "stdout",
     "output_type": "stream",
     "text": [
      "reading outlooks\n",
      "reading pph\n",
      "reading storm reports\n"
     ]
    }
   ],
   "source": [
    "# read in data\n",
    "data_location = 'data'\n",
    "moderate = False # only consider moderate days\n",
    "labelled = True # start with already labelled data\n",
    "outlooks, pph, reports = read_datasets(data_location, moderate, labelled)"
   ]
  },
  {
   "cell_type": "code",
   "execution_count": 16,
   "metadata": {},
   "outputs": [
    {
     "data": {
      "text/plain": [
       "(array([[2.1000e+01, 5.0000e+00, 2.5000e+02, 4.2800e+02, 3.8375e+04],\n",
       "        [0.0000e+00, 1.4000e+01, 1.6000e+01, 3.2100e+02, 1.8681e+04],\n",
       "        [0.0000e+00, 0.0000e+00, 9.4000e+01, 0.0000e+00, 3.2090e+03],\n",
       "        [0.0000e+00, 0.0000e+00, 1.6500e+02, 8.0000e+00, 1.0097e+04],\n",
       "        [0.0000e+00, 0.0000e+00, 2.2000e+01, 1.0000e+01, 1.3500e+03]]),\n",
       " array([0., 1., 2., 3., 4., 5.]),\n",
       " array([-4. , -3.2, -2.4, -1.6, -0.8,  0. ]),\n",
       " <matplotlib.collections.QuadMesh at 0x20f5543cbb0>)"
      ]
     },
     "execution_count": 16,
     "metadata": {},
     "output_type": "execute_result"
    },
    {
     "data": {
      "image/png": "[encoded data removed]",
      "text/plain": [
       "<Figure size 640x480 with 1 Axes>"
      ]
     },
     "metadata": {},
     "output_type": "display_data"
    }
   ],
   "source": [
    "# 2d histogram of ramps\n",
    "# Bar chart of region, season, max category, 4 ramp. Same for just moderate and up\n",
    "plt.hist2d(np.array(outlooks['RAMP_UP'], dtype=int), np.array(outlooks['RAMP_DOWN'], dtype=int), bins = 5)\n"
   ]
  },
  {
   "cell_type": "code",
   "execution_count": 10,
   "metadata": {},
   "outputs": [
    {
     "data": {
      "text/plain": [
       "'0'"
      ]
     },
     "execution_count": 10,
     "metadata": {},
     "output_type": "execute_result"
    }
   ],
   "source": []
  },
  {
   "cell_type": "code",
   "execution_count": null,
   "metadata": {},
   "outputs": [],
   "source": []
  }
 ],
 "metadata": {
  "kernelspec": {
   "display_name": "Python 3",
   "language": "python",
   "name": "python3"
  },
  "language_info": {
   "codemirror_mode": {
    "name": "ipython",
    "version": 3
   },
   "file_extension": ".py",
   "mimetype": "text/x-python",
   "name": "python",
   "nbconvert_exporter": "python",
   "pygments_lexer": "ipython3",
   "version": "3.10.11"
  }
 },
 "nbformat": 4,
 "nbformat_minor": 2
}
