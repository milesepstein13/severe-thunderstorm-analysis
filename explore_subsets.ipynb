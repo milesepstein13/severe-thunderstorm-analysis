{
 "cells": [
  {
   "cell_type": "code",
   "execution_count": null,
   "metadata": {},
   "outputs": [],
   "source": [
    "from utils_filter import *\n",
    "from utils_datetime import *\n",
    "from utils_geography import *\n",
    "from utils_plotting import *\n",
    "import numpy as np\n",
    "import matplotlib.pyplot as plt\n",
    "from matplotlib import colors\n",
    "import metpy\n"
   ]
  },
  {
   "cell_type": "code",
   "execution_count": null,
   "metadata": {},
   "outputs": [],
   "source": [
    "# read in data\n",
    "data_location = 'data'\n",
    "outlooks, pph, reports = read_datasets(data_location, 'labelled')"
   ]
  },
  {
   "cell_type": "code",
   "execution_count": null,
   "metadata": {},
   "outputs": [],
   "source": [
    "def consolidate_date(outlooks, pph, reports):\n",
    "    earliest_date = max(min(outlooks['DATE']), min(pph['time']), min(reports['DATE'])) #TODO first two days of outlook dataset don't have day 3 forecast. but probably ok since not mdt\n",
    "    latest_date = min(max(outlooks['DATE']), max(pph['time']), max(reports['DATE']))\n",
    "    reports = reports[reports['DATE'] <= latest_date]\n",
    "    reports = reports[reports['DATE'] >= earliest_date]\n",
    "    outlooks = outlooks[outlooks['DATE'] <= latest_date]\n",
    "    outlooks = outlooks[outlooks['DATE'] >= earliest_date]\n",
    "    all_pph_dates = pph['time']\n",
    "    pph_dates = all_pph_dates[all_pph_dates <= latest_date]\n",
    "    pph_dates = pph_dates[pph_dates >= earliest_date]\n",
    "    pph = pph.sel(time = pph_dates)\n",
    "    return(outlooks, pph, reports)\n",
    "\n",
    "(outlooks, pph, reports) = consolidate_date(outlooks, pph, reports)\n"
   ]
  },
  {
   "cell_type": "code",
   "execution_count": null,
   "metadata": {},
   "outputs": [],
   "source": [
    "label_names = ['MAX_CAT', 'RAMP_CATEGORIES', 'SEASON', 'REGION', 'RAMP_UP', 'RAMP_DOWN']\n",
    "\n",
    "category_dict = {\n",
    "    'NONE' : -1,\n",
    "    'TSTM': 0,\n",
    "    'MRGL': 1,\n",
    "    'SLGT': 2,\n",
    "    'ENH': 3,\n",
    "    'MDT': 4,\n",
    "    'HIGH': 5\n",
    "}\n",
    "\n",
    "ramp_dict = {\n",
    "    'up': 0,\n",
    "    'down': 1,\n",
    "    'both': 2,\n",
    "    'neither': 3\n",
    "}\n",
    "\n",
    "season_dict = {\n",
    "    'Winter': 0,\n",
    "    'Spring': 1,\n",
    "    'Summer': 2,\n",
    "    'Fall': 3\n",
    "}\n",
    "\n",
    "region_dict = {\n",
    "    'NONE': -1,\n",
    "    'West': 0,\n",
    "    'Grea': 1,\n",
    "    'Midw': 2,\n",
    "    'Nort': 3,\n",
    "    'Sout': 4\n",
    "}\n",
    "\n",
    "ramp_up_dict = {\n",
    "    '0': 0,\n",
    "    '1': 1,\n",
    "    '2': 2,\n",
    "    '3': 3,\n",
    "    '4': 4,\n",
    "    '5': 5,\n",
    "    '6': 6\n",
    "}\n",
    "\n",
    "ramp_down_dict = {\n",
    "    '0': 0,\n",
    "    '-1': 1,\n",
    "    '-2': 2,\n",
    "    '-3': 3,\n",
    "    '-4': 4,\n",
    "    '-5': 5,\n",
    "    '-6': 6\n",
    "}\n",
    "\n",
    "dicts = [category_dict, ramp_dict, season_dict, region_dict, ramp_up_dict, ramp_down_dict]\n",
    "written_labels = ['Categorical Risk', 'Ramp', 'Season', 'Region', 'Ramp Up', 'Ramp Down']\n"
   ]
  },
  {
   "cell_type": "code",
   "execution_count": null,
   "metadata": {},
   "outputs": [],
   "source": [
    "def plot_distribution(pph, label_name, label_dict, written_label, titlestring, save_location, show=False):\n",
    "    labels = pph[label_name]\n",
    "    label_counts = labels.groupby(labels).count()\n",
    "    def sort_order(key):\n",
    "        return label_dict[str(key[0])]\n",
    "    sorted_labels, sorted_counts = zip(*sorted(zip(list(label_counts[label_name].values), label_counts.values), key = sort_order))\n",
    "    plt.bar(sorted_labels, sorted_counts)  \n",
    "    plt.xlabel(written_label)\n",
    "    plt.title('Number of ' + titlestring + ' Days With Each '  + written_label)\n",
    "    plt.ylabel(\"Number of Days\")\n",
    "    plt.savefig(save_location + '/' + written_label + '_distribution.png')\n",
    "    if show:\n",
    "        plt.show()\n",
    "    plt.close()"
   ]
  },
  {
   "cell_type": "code",
   "execution_count": null,
   "metadata": {},
   "outputs": [],
   "source": [
    "def plot_distribution_2d(pph, label_1, label_2, label_1_string, label_2_string, dict_1, dict_2, titlestring, save_location, show=False):\n",
    "# plot 2d heatmap for any 2 labels\n",
    "    data1 = []\n",
    "    data2 = []\n",
    "\n",
    "    for i in range(len(pph[label_1])):\n",
    "        data1.append(dict_1[str(pph[label_1].values[i])])\n",
    "        data2.append(dict_2[str(pph[label_2].values[i])])\n",
    "\n",
    "    max1 = max(dict_1.values())\n",
    "    min1 = min(dict_1.values())\n",
    "\n",
    "    max2 = max(dict_2.values())\n",
    "    min2 = min(dict_2.values())\n",
    "\n",
    "    bins1 = np.linspace(min1-.5, max1+.5, 2+max1-min1)\n",
    "    bins2 = np.linspace(min2-.5, max2+.5, 2+max2-min2)\n",
    "\n",
    "    heatmap = np.histogram2d(data1, data2, bins = (bins1, bins2))\n",
    "    im = plt.imshow(heatmap[0],  norm=colors.LogNorm())\n",
    "    plt.colorbar(im)\n",
    "    for i in range(bins1.size-1): \n",
    "        for j in range(bins2.size-1): \n",
    "            plt.annotate(str(int(heatmap[0][i][j])), xy=(j, i), \n",
    "                        ha='center', va='center', color='black') \n",
    "\n",
    "    plt.yticks(range(len(list(dict_1.values()))), labels=list(dict_1.keys()))\n",
    "    plt.xticks(range(len(list(dict_2.values()))), labels=list(dict_2.keys()))\n",
    "    plt.ylabel(label_1_string)\n",
    "    plt.xlabel(label_2_string)\n",
    "    plt.title(\"Number of \" + titlestring + \" Days with each Combination of \" + label_1_string + \" and \" +  label_2_string)\n",
    "    plt.savefig(save_location + '/' + label_1_string + '_' + label_2_string + '_distribution.png')\n",
    "    if show:\n",
    "        plt.show()\n",
    "    plt.close()"
   ]
  },
  {
   "cell_type": "code",
   "execution_count": null,
   "metadata": {},
   "outputs": [],
   "source": [
    "# THIS NEEDED TO BE RERUN TWICE FOR SOME REASON\n",
    "\n",
    "# moderate and up days only:\n",
    "all_pph_dates = pph['time']\n",
    "mdt_pph_dates = all_pph_dates[pph['MAX_CAT'].isin(['MDT', 'HIGH'])]\n",
    "mdt_pph = pph.sel(time = mdt_pph_dates)\n",
    "\n",
    "# dates since new categorical system \n",
    "new_cutoff = '201410230000'\n",
    "new_pph_dates = all_pph_dates[all_pph_dates >= new_cutoff]\n",
    "new_pph = pph.sel(time = new_pph_dates)\n",
    "\n",
    "# Moderate dates in new system\n",
    "mdt_new_pph_dates = mdt_pph_dates[mdt_pph_dates >= new_cutoff]\n",
    "mdt_new_pph = pph.sel(time = mdt_new_pph_dates)\n",
    "\n",
    "# TODO: rerun with 1995, 1997, 2002 (when different earlier forecasts were added) cutoffs. Will also include max pph and num storm reports."
   ]
  },
  {
   "cell_type": "code",
   "execution_count": null,
   "metadata": {},
   "outputs": [],
   "source": [
    "def make_plots(pph, label_names, dicts, written_labels, shortstring, titlestring, show=False):\n",
    "    for i in range(len(written_labels)):\n",
    "        plot_distribution(pph, label_names[i], dicts[i], written_labels[i], titlestring, 'plots/label_distributions/'+ shortstring+'/1d/', show=show)\n",
    "\n",
    "    for i in range(len(label_names)):\n",
    "        for j in range(i):\n",
    "            plot_distribution_2d(pph, label_names[i], label_names[j], written_labels[i], written_labels[j], dicts[i], dicts[j], titlestring, 'plots/label_distributions/'+ shortstring+'/2d/', show=show)"
   ]
  },
  {
   "cell_type": "code",
   "execution_count": null,
   "metadata": {},
   "outputs": [],
   "source": [
    "make_plots(pph, label_names, dicts, written_labels, 'all', 'All')\n",
    "make_plots(mdt_pph, label_names, dicts, written_labels, 'mdt', 'Moderate')\n",
    "make_plots(new_pph, label_names, dicts, written_labels, 'new', 'New')\n",
    "make_plots(mdt_new_pph, label_names, dicts, written_labels, 'mdt_new', 'Moderate New')\n"
   ]
  },
  {
   "cell_type": "markdown",
   "metadata": {},
   "source": [
    "Investigate: old ramp ups by 5? Why lots of 5 and not 4? And none region, make sure no PPH."
   ]
  },
  {
   "cell_type": "code",
   "execution_count": null,
   "metadata": {},
   "outputs": [],
   "source": [
    "pph"
   ]
  },
  {
   "cell_type": "code",
   "execution_count": null,
   "metadata": {},
   "outputs": [],
   "source": [
    "test_outlooks = outlooks[outlooks['MAX_CAT'] == 'SLGT']\n",
    "test_outlooks = test_outlooks[test_outlooks['RAMP_UP'] == 3]\n",
    "set(test_outlooks['DATE'])"
   ]
  },
  {
   "cell_type": "code",
   "execution_count": null,
   "metadata": {},
   "outputs": [],
   "source": [
    "outlooks[outlooks['DATE'] == '200208030000']"
   ]
  },
  {
   "cell_type": "code",
   "execution_count": null,
   "metadata": {},
   "outputs": [],
   "source": [
    "# TODO: make function that plots all 3 outlooks, PPH, and reports for one day to spotcheck\n",
    "# with utils_plotting functions\n",
    "def plot_day(datestring, outlooks, pph, reports):\n",
    "    outlooks_day = outlooks[outlooks['DATE'] == datestring]\n",
    "    pph_day = pph.sel(time=datestring)\n",
    "    reports_day = reports[reports['DATE'] == datestring]\n",
    "    \n",
    "    print('plotting outlooks')\n",
    "    plot_outlooks_day(outlooks_day, 'plots/daily/'+datestring+'/outlooks', ['CATEGORICAL'], show=True)\n",
    "    print('plotting pph')\n",
    "    plot_pph_day(pph_day, 'plots/daily/'+datestring+'/pph', ['total'], show=True, sig = False)\n",
    "    #print('plotting reports')\n",
    "    #plot_reports(reports_day, 'plots/daily/'+datestring+'/reports', ['Hail', 'Thunderstorm Wind', 'Tornado'], show=True)\n",
    "    return\n",
    "\n",
    "#plot_day('200504220000', outlooks, pph, reports)"
   ]
  },
  {
   "cell_type": "code",
   "execution_count": null,
   "metadata": {},
   "outputs": [],
   "source": [
    "plot_day('201010100000', outlooks, pph, reports)"
   ]
  },
  {
   "cell_type": "markdown",
   "metadata": {},
   "source": [
    "# OLD NON-GENERALIZED PLOTTING OF RAMPS / SCRATCH WORK"
   ]
  },
  {
   "cell_type": "code",
   "execution_count": null,
   "metadata": {},
   "outputs": [],
   "source": [
    "def plot_ramps(pph, title_insert=''):\n",
    "    # 2d histogram of ramps\n",
    "    # NOT FOR USE\n",
    "    ramp_up_bins = [-.5, .5, 1.5, 2.5, 3.5, 4.5, 5.5, 6.5]\n",
    "    ramp_up_amounts = [0, 1, 2, 3, 4, 5, 6]\n",
    "    ramp_down_amounts = [-6, -5, -4, -3, -2, -1, 0]\n",
    "    ramp_down_bins = [-6.5, -5.5, -4.5, -3.5, -2.5, -1.5, -.5, .5]\n",
    "    heatmap = np.histogram2d(np.array(pph['RAMP_UP'][pph['RAMP_UP']!= 'NONE'], dtype=int), np.array(pph['RAMP_DOWN'][pph['RAMP_UP']!= 'NONE'], dtype=int), bins = (ramp_up_bins, ramp_down_bins))\n",
    "    im = plt.imshow(heatmap[0],  norm=colors.LogNorm())\n",
    "    plt.colorbar(im)\n",
    "    bins = len(ramp_up_bins)\n",
    "    for i in range(bins-1): \n",
    "        for j in range(bins-1): \n",
    "            plt.annotate(str(int(heatmap[0][i][j])), xy=(j, i), \n",
    "                        ha='center', va='center', color='black') \n",
    "\n",
    "    plt.xticks(ramp_up_amounts, labels=ramp_down_amounts)\n",
    "    plt.yticks(ramp_up_amounts, labels=ramp_up_amounts)\n",
    "    plt.xlabel(\"Ramp Down\")\n",
    "    plt.ylabel(\"Ramp Up\")\n",
    "    plt.title(\"Number of \" + title_insert + \"Days with each Ramp Up and Ramp Down Amount\")\n",
    "    plt.show()"
   ]
  },
  {
   "cell_type": "code",
   "execution_count": null,
   "metadata": {},
   "outputs": [],
   "source": [
    "str(mdt_pph['time'].values).replace('\\n ', ' ').replace(' ', ', ')"
   ]
  },
  {
   "cell_type": "code",
   "execution_count": null,
   "metadata": {},
   "outputs": [],
   "source": [
    "mdt_new_pph['time'].where(mdt_new_pph['MAX_CAT'] == 'HIGH')"
   ]
  }
 ],
 "metadata": {
  "kernelspec": {
   "display_name": "Python 3",
   "language": "python",
   "name": "python3"
  },
  "language_info": {
   "codemirror_mode": {
    "name": "ipython",
    "version": 3
   },
   "file_extension": ".py",
   "mimetype": "text/x-python",
   "name": "python",
   "nbconvert_exporter": "python",
   "pygments_lexer": "ipython3",
   "version": "3.10.11"
  }
 },
 "nbformat": 4,
 "nbformat_minor": 2
}
